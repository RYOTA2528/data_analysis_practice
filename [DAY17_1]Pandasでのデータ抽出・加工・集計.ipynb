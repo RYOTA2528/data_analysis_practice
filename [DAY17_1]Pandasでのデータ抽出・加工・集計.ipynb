{
  "nbformat": 4,
  "nbformat_minor": 0,
  "metadata": {
    "colab": {
      "provenance": [],
      "authorship_tag": "ABX9TyOsPDSz819p/XeOO9Ifgvf+",
      "include_colab_link": true
    },
    "kernelspec": {
      "name": "python3",
      "display_name": "Python 3"
    },
    "language_info": {
      "name": "python"
    }
  },
  "cells": [
    {
      "cell_type": "markdown",
      "metadata": {
        "id": "view-in-github",
        "colab_type": "text"
      },
      "source": [
        "<a href=\"https://colab.research.google.com/github/RYOTA2528/data_analysis_practice/blob/main/%5BDAY17_1%5DPandas%E3%81%A7%E3%81%AE%E3%83%87%E3%83%BC%E3%82%BF%E6%8A%BD%E5%87%BA%E3%83%BB%E5%8A%A0%E5%B7%A5%E3%83%BB%E9%9B%86%E8%A8%88.ipynb\" target=\"_parent\"><img src=\"https://colab.research.google.com/assets/colab-badge.svg\" alt=\"Open In Colab\"/></a>"
      ]
    },
    {
      "cell_type": "markdown",
      "source": [
        "## Pandasでのデータ抽出・加工・集計"
      ],
      "metadata": {
        "id": "OJVA6X5KVrql"
      }
    },
    {
      "cell_type": "code",
      "execution_count": 1,
      "metadata": {
        "id": "rFch_xw4UzEG"
      },
      "outputs": [],
      "source": [
        "import pandas as pd\n",
        "import numpy as np\n",
        "import plotly.express as px"
      ]
    },
    {
      "cell_type": "code",
      "source": [
        "df = px.data.gapminder()"
      ],
      "metadata": {
        "id": "f7DZyXq1V5le"
      },
      "execution_count": 2,
      "outputs": []
    },
    {
      "cell_type": "code",
      "source": [],
      "metadata": {
        "id": "kPNKnCZCWBge"
      },
      "execution_count": null,
      "outputs": []
    }
  ]
}