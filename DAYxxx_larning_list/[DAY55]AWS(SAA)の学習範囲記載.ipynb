{
 "cells": [
  {
   "cell_type": "markdown",
   "id": "a9e42b90-684d-48a6-9bc3-5a408ec65ebc",
   "metadata": {},
   "source": [
    "[DAY55]\n",
    "- S3(オブジェクト所要者の変更方法、ACLによるクロスアカウントアクセスの設定、クロスオリジンリソースシェアリングの設定、イベントリの設定、アクセスポイントの設定、マルチリージョンアクセスポイントの設定、メトリクスの確認、アクセスアナライザーの活用、ストレージレンズの活用、S3のデータ分析、Amazon S3 Glacierの作成、バケットの削除)"
   ]
  },
  {
   "cell_type": "code",
   "execution_count": null,
   "id": "c276c191-695d-4d30-86ce-79b78c0f7c02",
   "metadata": {},
   "outputs": [],
   "source": []
  }
 ],
 "metadata": {
  "kernelspec": {
   "display_name": "Python 3 (ipykernel)",
   "language": "python",
   "name": "python3"
  },
  "language_info": {
   "codemirror_mode": {
    "name": "ipython",
    "version": 3
   },
   "file_extension": ".py",
   "mimetype": "text/x-python",
   "name": "python",
   "nbconvert_exporter": "python",
   "pygments_lexer": "ipython3",
   "version": "3.12.7"
  }
 },
 "nbformat": 4,
 "nbformat_minor": 5
}
