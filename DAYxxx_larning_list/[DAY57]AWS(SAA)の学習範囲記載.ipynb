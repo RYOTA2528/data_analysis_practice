{
 "cells": [
  {
   "cell_type": "markdown",
   "id": "10980af8-577f-4553-9ad3-d3f6750db102",
   "metadata": {},
   "source": [
    "[DAY57]\n",
    "- Route53(Route53の概要、DNSの名前解決の仕組み、コンソールの見方、ホストゾーンの設定、シンプルルーティングの設定、加重ルーティングの設定、レイテンシールーティングの設定、位置情報ルーティングの設定、マルチバリュールーティングの設定、フェイルオーバー設計の構成、アプリケーションリカバリーコントローラーの設定)\n",
    "- データベース（DynamoDBの概要・構築、Auroraの概要・構築、Auroraサーバレスの設定、Redshiftの概要・構築、ElasticCache(Memcached,Redis)の概要・構築）"
   ]
  }
 ],
 "metadata": {
  "kernelspec": {
   "display_name": "Python 3 (ipykernel)",
   "language": "python",
   "name": "python3"
  },
  "language_info": {
   "codemirror_mode": {
    "name": "ipython",
    "version": 3
   },
   "file_extension": ".py",
   "mimetype": "text/x-python",
   "name": "python",
   "nbconvert_exporter": "python",
   "pygments_lexer": "ipython3",
   "version": "3.12.7"
  }
 },
 "nbformat": 4,
 "nbformat_minor": 5
}
