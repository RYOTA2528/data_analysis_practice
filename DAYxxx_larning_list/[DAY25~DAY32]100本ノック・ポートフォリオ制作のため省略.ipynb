{
 "cells": [
  {
   "cell_type": "code",
   "execution_count": null,
   "id": "0e58bcf9-3323-41b4-a9a9-2a13ea8d81d1",
   "metadata": {},
   "outputs": [],
   "source": []
  }
 ],
 "metadata": {
  "kernelspec": {
   "display_name": "",
   "name": ""
  },
  "language_info": {
   "name": ""
  }
 },
 "nbformat": 4,
 "nbformat_minor": 5
}
