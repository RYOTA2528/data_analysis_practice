{
 "cells": [
  {
   "cell_type": "code",
   "execution_count": 1,
   "id": "d3df90a2-53c0-4701-81f3-d0234ede0dc8",
   "metadata": {},
   "outputs": [],
   "source": [
    "import os"
   ]
  },
  {
   "cell_type": "code",
   "execution_count": 13,
   "id": "8642be13-4495-4f0d-9105-1f9fc48ac833",
   "metadata": {},
   "outputs": [],
   "source": [
    "c_path = os.getcwd() #OSの絶対パス参照"
   ]
  },
  {
   "cell_type": "code",
   "execution_count": 25,
   "id": "cdf585de-702f-4fe7-afa0-8adee045a2d0",
   "metadata": {},
   "outputs": [
    {
     "data": {
      "text/plain": [
       "['.git',\n",
       " '.ipynb_checkpoints',\n",
       " 'output.txt',\n",
       " 'resources',\n",
       " 'sample.txt',\n",
       " 'Untitled.ipynb',\n",
       " '[DAY1]python_practice.ipynb',\n",
       " '[DAY2]numpy_practice.ipynb']"
      ]
     },
     "execution_count": 25,
     "metadata": {},
     "output_type": "execute_result"
    }
   ],
   "source": [
    "os.listdir(c_path) #path内にあるファイルが見れる"
   ]
  },
  {
   "cell_type": "code",
   "execution_count": 44,
   "id": "ccc8603f-ade4-4861-99de-78660a3c787f",
   "metadata": {},
   "outputs": [
    {
     "name": "stdout",
     "output_type": "stream",
     "text": [
      "2 output.txt\n",
      "['output.txt']\n",
      "4 sample.txt\n",
      "['output.txt', 'sample.txt']\n"
     ]
    }
   ],
   "source": [
    "#それぞれの要素の裏から4番目が.txtと等しいなら\n",
    "text_list = []\n",
    "for i,j in enumerate(os.listdir(c_path)):\n",
    "    if j[-4:] == \".txt\":\n",
    "        print(i,j) #ここではインデックスの7どこに入ってるのか表示\n",
    "        text_list.append(j)  # j(textファイル)を格納したlistを作成\n",
    "        print(text_list)\n",
    "\n",
    "        "
   ]
  },
  {
   "cell_type": "code",
   "execution_count": 46,
   "id": "b43eafd1-b684-4fda-9b94-e04f878555c2",
   "metadata": {},
   "outputs": [],
   "source": [
    "# ディレクトリの作成\n",
    "os.mkdir(\"test\")"
   ]
  },
  {
   "cell_type": "code",
   "execution_count": 54,
   "id": "2666e5cb-b288-427e-b25e-ccde566ea174",
   "metadata": {},
   "outputs": [
    {
     "data": {
      "text/plain": [
       "['.git',\n",
       " '.ipynb_checkpoints',\n",
       " 'output.txt',\n",
       " 'resources',\n",
       " 'sample.txt',\n",
       " 'Untitled.ipynb',\n",
       " '[DAY1]python_practice.ipynb',\n",
       " '[DAY2]numpy_practice.ipynb']"
      ]
     },
     "execution_count": 54,
     "metadata": {},
     "output_type": "execute_result"
    }
   ],
   "source": [
    "os.listdir()"
   ]
  },
  {
   "cell_type": "code",
   "execution_count": 52,
   "id": "ee18658b-2ba9-4315-9a61-fdb14827a3e0",
   "metadata": {},
   "outputs": [],
   "source": [
    "# 削除する\n",
    "os.rmdir(\"test\")"
   ]
  },
  {
   "cell_type": "code",
   "execution_count": null,
   "id": "897fb340-06e9-41d0-a8f9-02b87db715af",
   "metadata": {},
   "outputs": [],
   "source": []
  }
 ],
 "metadata": {
  "kernelspec": {
   "display_name": "Python 3 (ipykernel)",
   "language": "python",
   "name": "python3"
  },
  "language_info": {
   "codemirror_mode": {
    "name": "ipython",
    "version": 3
   },
   "file_extension": ".py",
   "mimetype": "text/x-python",
   "name": "python",
   "nbconvert_exporter": "python",
   "pygments_lexer": "ipython3",
   "version": "3.12.7"
  }
 },
 "nbformat": 4,
 "nbformat_minor": 5
}
