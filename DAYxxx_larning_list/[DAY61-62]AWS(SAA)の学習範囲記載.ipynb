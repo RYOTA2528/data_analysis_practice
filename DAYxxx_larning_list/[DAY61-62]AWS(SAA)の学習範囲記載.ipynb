{
 "cells": [
  {
   "cell_type": "markdown",
   "id": "e427e8f2-ad78-4022-b6f1-c1d53f274512",
   "metadata": {},
   "source": [
    "### 模擬試験でのポイント\n",
    "\n",
    "[**S3**]<br>\n",
    "\n",
    "\n",
    "[**SQS**]<br>\n",
    "・SQSとAuto Scalingを構成する際はCloudWatchメトリックスに基づいてキューの処理量に応じたスケーリングを設定\n",
    "\n",
    "\n",
    "[**Amazon Kinesis Data Streams**]<br>\n",
    ".デバイスなどから送られる大量のストリーミングデータをリアルタイムに収集、処理して別のサービスに送信するサービス\n",
    "\n",
    "[**Amazon Kinesis Data Kinesis Firehose**]<br>\n",
    "・大量のストリーミングデータを取得して、Lambda関数によってETL処理をしつつ、RedShiftやS3などのストレージやデータベースに配信するサービス\n",
    "\n",
    "[**Amazon EMR**]<br>\n",
    "・Apache Sparkなどのソフトウェアを構成して、デバイスなどから送られる大量のストリーミングデータをリアルタイムに収集、分析するサービス\n",
    "\n",
    "[**Amazon Inspector**]<br>\n",
    "・自動化されたセキュリティ評価サービスで、AWS にデプロイしたアプリケーションのセキュリティとコンプライアンスを向上させることができます。EC2インスタンスにエージェントをインストールして、そこにホストされたアプリケーションの意図しないネットワークエクスポージャーなどの脆弱性を検知\n",
    "\n",
    "[**Amazon GuardDuty**]<br>\n",
    "Amazon S3 ログ、CloudTrail 管理イベントログ、DNS ログ、Amazon EBS ボリュームデータ、Kubernetes Audit Logs、Amazon VPC フローログ、RDS ログインアクティビティの AWS CloudTrail データイベントなどのデータソースを分析して、DDoS攻撃以外の様々なネットワークへの不正アクセスを自動的に検知\n",
    "\n",
    "[**AWS Compute Optimize**]<br>\n",
    "EC2インスタンスタイプ、Amazon Elastic Block Store (EBS) ボリューム、AWS Lambda 関数の 3 種類の AWS リソースの過剰プロビジョニングや過小プロビジョニングなどの利用状況に基づいて、コスト最適化のアドバイスを実施\n",
    "\n",
    "[****]<br>\n"
   ]
  },
  {
   "cell_type": "markdown",
   "id": "ef4fc189-87b7-4e1b-b7fd-fb0222c9e254",
   "metadata": {},
   "source": [
    "### 知見\n",
    "[**CloudFrontとHTTP領域**]<br>\n",
    "CloudFrontを利用しグローバルにコンテンツを配信することを考えた場合「言語処理」\n",
    "を例えば以下のようにHTTP領域にて展開する方法もある。パラメータをこれで送ることが可能\n",
    "- http://pintor.cloudfront.net/index?language=jp\n",
    "- http://pintor.cloudfront.net/index?language=en<br>\n",
    "この場合は「クエリ文字列パラメーター値に基づくキャッシュ設定を行うことでHTTPフィールド内の言語表示に基づいて配信方法を切り替えること」で実現可能\n",
    "\n",
    "(補足)<br>\n",
    "クエリ文字列（URLパラメーター）とは、サーバーに情報を送るためにURLの末尾につけ足す文字列（変数）のことです。「?」をURLの末尾につけ、その次に「パラメーター＝値」をつけ、複数のパラメーターをつけたい場合は「&」を使用します。この形式で、サーバーに送信したいデータをURLにつけ加えることが可能\n",
    "\n",
    "[**SQSによるマイクロサービス化されたコンポーネントとの連携処理**]<br>\n",
    "マイクロサービス化されたコンポーネント間の処理を連携する際は、Amazon SQSを利用したポーリング処理が最適となります。\n",
    "例えば：Amazon ECSを活用してマイクロサービス型のアプリケーションを構築しています。 このアプリケーションのアーキテクチャでは、マイクロサービス１とマイクロサービス２に分割し、マイクロサービス１の処理後にマイクロサービス２に処理が引き渡されます。\n",
    "\n"
   ]
  },
  {
   "cell_type": "code",
   "execution_count": null,
   "id": "2e0a284c-6b31-4957-9ad2-003cfd682e26",
   "metadata": {},
   "outputs": [],
   "source": []
  }
 ],
 "metadata": {
  "kernelspec": {
   "display_name": "Python 3 (ipykernel)",
   "language": "python",
   "name": "python3"
  },
  "language_info": {
   "codemirror_mode": {
    "name": "ipython",
    "version": 3
   },
   "file_extension": ".py",
   "mimetype": "text/x-python",
   "name": "python",
   "nbconvert_exporter": "python",
   "pygments_lexer": "ipython3",
   "version": "3.12.7"
  }
 },
 "nbformat": 4,
 "nbformat_minor": 5
}
