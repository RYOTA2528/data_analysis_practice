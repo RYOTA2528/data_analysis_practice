{
 "cells": [
  {
   "cell_type": "code",
   "execution_count": null,
   "id": "6e0a390f-b1b6-4570-9042-bc512abeb8e4",
   "metadata": {},
   "outputs": [],
   "source": [
    "import requests\n",
    "import io\n",
    "from fastavro import reader\n",
    "\n",
    "# Avro ファイルの URL\n",
    "url = \"https://storage.googleapis.com/cloud-training/dataengineering/lab_assets/idegc/campaigns.avro\"\n",
    "\n",
    "# ファイルをダウンロード\n",
    "response = requests.get(url)\n",
    "\n",
    "# Avro ファイルを読み込む\n",
    "avro_file = io.BytesIO(response.content)\n",
    "with reader(avro_file) as records:\n",
    "    # 最初のいくつかのレコードを読み取って内容を確認\n",
    "    content = [record for _, record in zip(range(5), records)]\n",
    "\n",
    "# 最初のいくつかのレコードを表示して内容を確認\n",
    "print(content)"
   ]
  }
 ],
 "metadata": {
  "kernelspec": {
   "display_name": "Python 3 (ipykernel)",
   "language": "python",
   "name": "python3"
  },
  "language_info": {
   "codemirror_mode": {
    "name": "ipython",
    "version": 3
   },
   "file_extension": ".py",
   "mimetype": "text/x-python",
   "name": "python",
   "nbconvert_exporter": "python",
   "pygments_lexer": "ipython3",
   "version": "3.12.7"
  }
 },
 "nbformat": 4,
 "nbformat_minor": 5
}
