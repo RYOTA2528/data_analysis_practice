{
 "cells": [
  {
   "cell_type": "markdown",
   "id": "f68aefde-03e0-4e8c-abe2-7fbda3796890",
   "metadata": {},
   "source": [
    "[DAY59]\n",
    "- CloudFormation（概要・コンソールの確認・EC2インスタンスの構築・VPCの構築・リソース参照の活用・変更管理）\n",
    "- AmazoECSの概要\n",
    "- セキュリティー（AWS KMSの構築）\n",
    "- CloudFront(概要・配信構成・S3静的Webサイトの構築・ACMの活用)\n",
    "- AWSにおけるファイアウォール（AWS NetworkFirewallの構築、AWS WAFの適用・AWS Shield・Route53リゾルバーDNSファイアウオールの適用・AWS Firewall Managerの確認）\n",
    "- 検知サービス(Amazon GuardDuty、Amazon Inspector)\n",
    "- "
   ]
  }
 ],
 "metadata": {
  "kernelspec": {
   "display_name": "Python 3 (ipykernel)",
   "language": "python",
   "name": "python3"
  },
  "language_info": {
   "codemirror_mode": {
    "name": "ipython",
    "version": 3
   },
   "file_extension": ".py",
   "mimetype": "text/x-python",
   "name": "python",
   "nbconvert_exporter": "python",
   "pygments_lexer": "ipython3",
   "version": "3.12.7"
  }
 },
 "nbformat": 4,
 "nbformat_minor": 5
}
