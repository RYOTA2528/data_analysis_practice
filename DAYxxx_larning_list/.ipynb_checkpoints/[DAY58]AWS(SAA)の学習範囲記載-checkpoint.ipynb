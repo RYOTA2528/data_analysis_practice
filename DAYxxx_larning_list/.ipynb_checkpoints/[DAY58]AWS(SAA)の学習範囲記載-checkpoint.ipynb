{
 "cells": [
  {
   "cell_type": "markdown",
   "id": "03cf6079-2c66-4143-a559-ab35086d9e72",
   "metadata": {},
   "source": [
    "[DAY58]\n",
    "- EFS(EFSの概要・構築)\n",
    "- AWS Backup(AWS Backupの設定)\n",
    "- Kinesis(Kinesisの概要・構築)\n",
    "- AWS Active Directory(AWS Active Directoryの概要・構築)\n",
    "- サーバレス(SQSの概要・構築、SNSの概要・構築、SESの概要・構築、Lambdaの概要・構築)\n",
    "- API Gateway(API Gatewayの概要・構築、API Gateway・Lambda・DynamoDBとの連携)"
   ]
  }
 ],
 "metadata": {
  "kernelspec": {
   "display_name": "Python 3 (ipykernel)",
   "language": "python",
   "name": "python3"
  },
  "language_info": {
   "codemirror_mode": {
    "name": "ipython",
    "version": 3
   },
   "file_extension": ".py",
   "mimetype": "text/x-python",
   "name": "python",
   "nbconvert_exporter": "python",
   "pygments_lexer": "ipython3",
   "version": "3.12.7"
  }
 },
 "nbformat": 4,
 "nbformat_minor": 5
}
