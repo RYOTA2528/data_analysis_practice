{
 "cells": [
  {
   "cell_type": "markdown",
   "id": "e427e8f2-ad78-4022-b6f1-c1d53f274512",
   "metadata": {},
   "source": [
    "### 模擬試験でのポイント\n",
    "[S3]\n",
    "\n",
    "\n",
    "[SQS]\n",
    "・SQSとAuto Scalingを構成する際はCloudWatchメトリックスに基づいてキューの処理量に応じたスケーリングを設定"
   ]
  },
  {
   "cell_type": "code",
   "execution_count": null,
   "id": "abf66553-3c74-4dda-83e8-cf2aa1f7820b",
   "metadata": {},
   "outputs": [],
   "source": []
  }
 ],
 "metadata": {
  "kernelspec": {
   "display_name": "Python 3 (ipykernel)",
   "language": "python",
   "name": "python3"
  },
  "language_info": {
   "codemirror_mode": {
    "name": "ipython",
    "version": 3
   },
   "file_extension": ".py",
   "mimetype": "text/x-python",
   "name": "python",
   "nbconvert_exporter": "python",
   "pygments_lexer": "ipython3",
   "version": "3.12.7"
  }
 },
 "nbformat": 4,
 "nbformat_minor": 5
}
