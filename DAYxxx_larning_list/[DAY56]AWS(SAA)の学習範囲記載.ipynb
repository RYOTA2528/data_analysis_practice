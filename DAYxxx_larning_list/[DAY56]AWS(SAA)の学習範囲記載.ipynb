{
 "cells": [
  {
   "cell_type": "markdown",
   "id": "77392634-aa71-46dd-9a9f-8b4bfe0fa41a",
   "metadata": {},
   "source": [
    "[DAY56]\n",
    "- Well Architected Framework(AWSアーキテクチャ設計の基礎、Toolでの確認方法、AWS設計ケーススタディ)\n",
    "- Auto Scaling(ELBによる冗長構成、Auto Scalingの概要と設定)\n",
    "- RDS（概要、スケールアップ・スケールアウト、RDSによるマスタースレーブ構成の構築、RDSのネットワーク構成の確認、リードレプリカとフェイルオーバー、DBインスタンスの変更、ストレージのスケーリング、Auroraへの移行、RDSの削除）"
   ]
  }
 ],
 "metadata": {
  "kernelspec": {
   "display_name": "Python 3 (ipykernel)",
   "language": "python",
   "name": "python3"
  },
  "language_info": {
   "codemirror_mode": {
    "name": "ipython",
    "version": 3
   },
   "file_extension": ".py",
   "mimetype": "text/x-python",
   "name": "python",
   "nbconvert_exporter": "python",
   "pygments_lexer": "ipython3",
   "version": "3.12.7"
  }
 },
 "nbformat": 4,
 "nbformat_minor": 5
}
