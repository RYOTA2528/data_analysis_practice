{
 "cells": [
  {
   "cell_type": "code",
   "execution_count": 1,
   "id": "431b444e-73d2-489a-b1c9-68f7f8f4f08c",
   "metadata": {},
   "outputs": [],
   "source": [
    "import numpy as np"
   ]
  },
  {
   "cell_type": "code",
   "execution_count": 3,
   "id": "c0ada7ed-b0df-4009-8009-ab82687fe758",
   "metadata": {},
   "outputs": [],
   "source": [
    "arr1 = np.array([1,2,3])"
   ]
  },
  {
   "cell_type": "code",
   "execution_count": 5,
   "id": "61e9dbd8-c1bc-49ab-9fcf-2e4d0b560f8f",
   "metadata": {},
   "outputs": [
    {
     "data": {
      "text/plain": [
       "array([1, 2, 3])"
      ]
     },
     "execution_count": 5,
     "metadata": {},
     "output_type": "execute_result"
    }
   ],
   "source": [
    "arr1"
   ]
  },
  {
   "cell_type": "code",
   "execution_count": 13,
   "id": "feca2f9d-8b21-4a7b-9db5-b296f7619d57",
   "metadata": {},
   "outputs": [],
   "source": [
    "arr2 = np.array([4,5,6])"
   ]
  },
  {
   "cell_type": "code",
   "execution_count": 15,
   "id": "6381c9b7-5a34-4e48-ab81-da330ac33c4a",
   "metadata": {},
   "outputs": [
    {
     "data": {
      "text/plain": [
       "array([5, 7, 9])"
      ]
     },
     "execution_count": 15,
     "metadata": {},
     "output_type": "execute_result"
    }
   ],
   "source": [
    "arr1 + arr2 #ベクトル演算により実現できる"
   ]
  },
  {
   "cell_type": "code",
   "execution_count": 19,
   "id": "8b040546-ec67-4469-a5d0-99ead75d635a",
   "metadata": {},
   "outputs": [],
   "source": [
    "arr3 = np.array([[1,2],[3,4],[5,6]]) #2つずつの要素を持ったリストをねすとしていく"
   ]
  },
  {
   "cell_type": "code",
   "execution_count": 21,
   "id": "ffffce1d-0480-48c4-8394-6e2885d2fed4",
   "metadata": {},
   "outputs": [
    {
     "data": {
      "text/plain": [
       "array([[1, 2],\n",
       "       [3, 4],\n",
       "       [5, 6]])"
      ]
     },
     "execution_count": 21,
     "metadata": {},
     "output_type": "execute_result"
    }
   ],
   "source": [
    "arr3"
   ]
  },
  {
   "cell_type": "code",
   "execution_count": 23,
   "id": "bbff72e7-e8e4-441b-a359-9ee154413f95",
   "metadata": {},
   "outputs": [
    {
     "data": {
      "text/plain": [
       "(3, 2)"
      ]
     },
     "execution_count": 23,
     "metadata": {},
     "output_type": "execute_result"
    }
   ],
   "source": [
    "arr3.shape #タプルで帰ってくる(3行2列という意味)"
   ]
  },
  {
   "cell_type": "code",
   "execution_count": 25,
   "id": "dd180cbc-390b-4861-bf07-9410dcec2cca",
   "metadata": {},
   "outputs": [
    {
     "data": {
      "text/plain": [
       "3"
      ]
     },
     "execution_count": 25,
     "metadata": {},
     "output_type": "execute_result"
    }
   ],
   "source": [
    "arr3.shape[0] #1つ目要素をとる"
   ]
  },
  {
   "cell_type": "code",
   "execution_count": 29,
   "id": "816fbfdd-0ab8-4544-a693-ea4a3a94a6d0",
   "metadata": {},
   "outputs": [],
   "source": [
    "arr4 = np.arange(10) #0から9まででarrayを作ってくれる"
   ]
  },
  {
   "cell_type": "code",
   "execution_count": 31,
   "id": "00eb512a-a571-4315-b513-768975f265e3",
   "metadata": {},
   "outputs": [
    {
     "data": {
      "text/plain": [
       "array([0, 1, 2, 3, 4, 5, 6, 7, 8, 9])"
      ]
     },
     "execution_count": 31,
     "metadata": {},
     "output_type": "execute_result"
    }
   ],
   "source": [
    "arr4"
   ]
  },
  {
   "cell_type": "code",
   "execution_count": 39,
   "id": "d85a12b8-432c-4183-9c56-fbb6936ef80f",
   "metadata": {},
   "outputs": [
    {
     "data": {
      "text/plain": [
       "array([[0, 1, 2],\n",
       "       [3, 4, 5],\n",
       "       [6, 7, 8]])"
      ]
     },
     "execution_count": 39,
     "metadata": {},
     "output_type": "execute_result"
    }
   ],
   "source": [
    "np.arange(9).reshape(3,3) #3行3列の配列に変換しネストさせてくれる"
   ]
  },
  {
   "cell_type": "code",
   "execution_count": 41,
   "id": "4c136466-7561-456b-8f35-d93de1e50ff0",
   "metadata": {},
   "outputs": [
    {
     "data": {
      "text/plain": [
       "array([1, 2, 3, 4, 5, 6])"
      ]
     },
     "execution_count": 41,
     "metadata": {},
     "output_type": "execute_result"
    }
   ],
   "source": [
    "arr3.reshape(-1) #で1次元配列に変換することができる"
   ]
  },
  {
   "cell_type": "code",
   "execution_count": 45,
   "id": "e69995bd-dbd4-43c0-9121-ce3a1bb8c66b",
   "metadata": {},
   "outputs": [
    {
     "data": {
      "text/plain": [
       "array([0., 0., 0.])"
      ]
     },
     "execution_count": 45,
     "metadata": {},
     "output_type": "execute_result"
    }
   ],
   "source": [
    "#numpyでよく使われる行列\n",
    "np.zeros(3) #全要素が0かつ要素数が０の配列を作る"
   ]
  },
  {
   "cell_type": "code",
   "execution_count": 47,
   "id": "24dad27e-40d3-468e-a017-4510107b722e",
   "metadata": {},
   "outputs": [
    {
     "data": {
      "text/plain": [
       "array([[0., 0., 0.],\n",
       "       [0., 0., 0.],\n",
       "       [0., 0., 0.]])"
      ]
     },
     "execution_count": 47,
     "metadata": {},
     "output_type": "execute_result"
    }
   ],
   "source": [
    "np.zeros([3,3]) #全要素が0かつ3行3列の行列ができる"
   ]
  },
  {
   "cell_type": "code",
   "execution_count": 51,
   "id": "74e466f0-b357-49d4-857d-bce0a869334e",
   "metadata": {},
   "outputs": [
    {
     "data": {
      "text/plain": [
       "array([[1., 1., 1., 1.],\n",
       "       [1., 1., 1., 1.],\n",
       "       [1., 1., 1., 1.]])"
      ]
     },
     "execution_count": 51,
     "metadata": {},
     "output_type": "execute_result"
    }
   ],
   "source": [
    "np.ones([3,4]) #全要素が1かつ3行4列の行列ができる"
   ]
  },
  {
   "cell_type": "code",
   "execution_count": 53,
   "id": "68a93045-5261-49eb-830c-3026c8dffe9b",
   "metadata": {},
   "outputs": [
    {
     "data": {
      "text/plain": [
       "array([[0., 0., 0.],\n",
       "       [0., 0., 0.],\n",
       "       [0., 0., 0.]])"
      ]
     },
     "execution_count": 53,
     "metadata": {},
     "output_type": "execute_result"
    }
   ],
   "source": [
    "np.empty([3,3]) #np.zeros() や np.ones() とは異なり、配列のメモリ領域だけを確保して、値は設定しない"
   ]
  },
  {
   "cell_type": "code",
   "execution_count": 55,
   "id": "94fc54f6-12b0-4047-ba3f-915343b039a5",
   "metadata": {},
   "outputs": [
    {
     "data": {
      "text/plain": [
       "array([[1., 0., 0., 0., 0.],\n",
       "       [0., 1., 0., 0., 0.],\n",
       "       [0., 0., 1., 0., 0.],\n",
       "       [0., 0., 0., 1., 0.],\n",
       "       [0., 0., 0., 0., 1.]])"
      ]
     },
     "execution_count": 55,
     "metadata": {},
     "output_type": "execute_result"
    }
   ],
   "source": [
    "np.eye(5) #体格行列"
   ]
  },
  {
   "cell_type": "code",
   "execution_count": 59,
   "id": "87ae0445-94a9-4ec2-a9c2-d6349fe606e9",
   "metadata": {},
   "outputs": [
    {
     "data": {
      "text/plain": [
       "array([[-1.58528773,  0.94160645, -0.6580874 ],\n",
       "       [-0.23762308,  2.27032735,  0.52807462],\n",
       "       [ 0.01369095, -0.10592903,  0.92284698]])"
      ]
     },
     "execution_count": 59,
     "metadata": {},
     "output_type": "execute_result"
    }
   ],
   "source": [
    "np.random.randn(3,3) #平均値が0,標準偏差が１の正規分布に従う3行3列"
   ]
  },
  {
   "cell_type": "code",
   "execution_count": null,
   "id": "c9d745e1-0056-4d74-b6b1-995745080b79",
   "metadata": {},
   "outputs": [],
   "source": []
  }
 ],
 "metadata": {
  "kernelspec": {
   "display_name": "Python 3 (ipykernel)",
   "language": "python",
   "name": "python3"
  },
  "language_info": {
   "codemirror_mode": {
    "name": "ipython",
    "version": 3
   },
   "file_extension": ".py",
   "mimetype": "text/x-python",
   "name": "python",
   "nbconvert_exporter": "python",
   "pygments_lexer": "ipython3",
   "version": "3.12.7"
  }
 },
 "nbformat": 4,
 "nbformat_minor": 5
}
