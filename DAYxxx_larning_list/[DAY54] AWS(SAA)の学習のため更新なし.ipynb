{
 "cells": [
  {
   "cell_type": "markdown",
   "id": "0a8eebce-531c-4a0a-948f-67ba144cb052",
   "metadata": {},
   "source": [
    "### 学習範囲\n",
    "[Day47-53]\n",
    " - AWS概要\n",
    " - 認証関係(ユーザ設定、アクセスログ、請求アラート)\n",
    " - KMS、AWS Organizations\n",
    " - IAM(グループポリシー、ロール、権限移譲、境界設定、アクセスアナライザー)\n",
    " - VPC(IPアドレス基礎、サブネットマスク・サブネット、構築、プライベートサブネット構築、通信プロトコルとOSI参照モデル、セキュリティーグループとネットワークACL、NATゲートウェイ設定、VPCエンドポイント、VPCピアリング、Transit Gateway、VPCフローログ、)\n",
    " - EC2(インスタンス起動、公開認証方式、SSH接続、Apacheサーバの構築、MySQLサーバの構築、ElasticIPの設定、ユーザデータの活用方法、インスタンスタイプも変更、起動テンプレートの理解、スポットリクエスト、リザーブドインスタンス、専有ホスト、キャパシティ予約、ハイバネーションの利用、AMIの活用、AMIカタログの利用)\n",
    " - EBS(EBSボリュームの作成、Snapshot、DLMの設定、ネットワークインターフェース(NIC)の活用、プレスメン十グループの活用、)\n",
    "\n",
    "[Day54]\n",
    " - S3(S3のデータ保護概要について、S3バケットの作成と操作、S3のアクセス管理、署名付きURLの利用、S3のバージョン管理、Intelligent tieringの活用、サーバアクセスログの有効化、リクエスタ支払いの有効化、イベント通知設定、S3のパフォーマンス、Transfer Accelerationの有効化、静的WEBホスティングの活用、S3のライフサイクル、EC2からS3ファイルの取得、リージョン間を跨いだレプリケーション、クロスアカウントアクセスの設定、)\n",
    " - AWS CLIの利用方法・AWS CloudShellの利用方法"
   ]
  },
  {
   "cell_type": "code",
   "execution_count": null,
   "id": "4509c6af-d66c-4653-89ef-84c46c7ba244",
   "metadata": {},
   "outputs": [],
   "source": []
  }
 ],
 "metadata": {
  "kernelspec": {
   "display_name": "Python 3 (ipykernel)",
   "language": "python",
   "name": "python3"
  },
  "language_info": {
   "codemirror_mode": {
    "name": "ipython",
    "version": 3
   },
   "file_extension": ".py",
   "mimetype": "text/x-python",
   "name": "python",
   "nbconvert_exporter": "python",
   "pygments_lexer": "ipython3",
   "version": "3.12.7"
  }
 },
 "nbformat": 4,
 "nbformat_minor": 5
}
