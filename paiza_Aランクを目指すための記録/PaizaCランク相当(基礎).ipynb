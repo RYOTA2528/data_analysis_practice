{
 "cells": [
  {
   "cell_type": "code",
   "execution_count": 1,
   "id": "e0a20345-9673-4d2f-ace8-25c15c05cf69",
   "metadata": {},
   "outputs": [
    {
     "name": "stdout",
     "output_type": "stream",
     "text": [
      "['やり', '剣', '弓']\n",
      "[('やり', 20), ('剣', 40), ('弓', 30)]\n"
     ]
    }
   ],
   "source": [
    "# 辞書/タプルの整列(基礎)\n",
    "wepons = {\"剣\":40, \"弓\":30, \"やり\":20 }\n",
    "print(sorted(wepons)) #リスト型\n",
    "print(sorted(wepons.items())) #タプル型(変更できないようにする)"
   ]
  },
  {
   "cell_type": "code",
   "execution_count": 11,
   "id": "79792980-f633-459a-9a5b-23553d88762c",
   "metadata": {},
   "outputs": [
    {
     "name": "stdout",
     "output_type": "stream",
     "text": [
      "[['村人', '勇者', '戦士', '魔法使い'], ['盗賊', '忍者', '商人'], ['スライム', 'ドラゴン', '魔王']]\n",
      "村人\n",
      "忍者\n"
     ]
    }
   ],
   "source": [
    "# 2次元リストの作成\n",
    "test = \"村人\"\n",
    "team_c = [test,\"勇者\", \"戦士\", \"魔法使い\"]\n",
    "team_d = [\"盗賊\", \"忍者\", \"商人\"]\n",
    "team_e = [\"スライム\", \"ドラゴン\", \"魔王\"]\n",
    "\n",
    "teams = [team_c, team_d, team_e]\n",
    "print(teams)\n",
    "\n",
    "#取り出し方\n",
    "print(teams[0][0])\n",
    "print(teams[1][1])"
   ]
  },
  {
   "cell_type": "code",
   "execution_count": null,
   "id": "c23d28b0-1bd7-448a-94b2-6d30dc97acdd",
   "metadata": {},
   "outputs": [],
   "source": []
  }
 ],
 "metadata": {
  "kernelspec": {
   "display_name": "Python 3 (ipykernel)",
   "language": "python",
   "name": "python3"
  },
  "language_info": {
   "codemirror_mode": {
    "name": "ipython",
    "version": 3
   },
   "file_extension": ".py",
   "mimetype": "text/x-python",
   "name": "python",
   "nbconvert_exporter": "python",
   "pygments_lexer": "ipython3",
   "version": "3.12.7"
  }
 },
 "nbformat": 4,
 "nbformat_minor": 5
}
