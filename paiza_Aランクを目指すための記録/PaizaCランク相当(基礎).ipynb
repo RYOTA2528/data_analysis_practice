{
 "cells": [
  {
   "cell_type": "code",
   "execution_count": 1,
   "id": "e0a20345-9673-4d2f-ace8-25c15c05cf69",
   "metadata": {},
   "outputs": [
    {
     "name": "stdout",
     "output_type": "stream",
     "text": [
      "['やり', '剣', '弓']\n",
      "[('やり', 20), ('剣', 40), ('弓', 30)]\n"
     ]
    }
   ],
   "source": [
    "# 辞書/タプルの整列(基礎)\n",
    "wepons = {\"剣\":40, \"弓\":30, \"やり\":20 }\n",
    "print(sorted(wepons)) #リスト型\n",
    "print(sorted(wepons.items())) #タプル型(変更できないようにする)"
   ]
  },
  {
   "cell_type": "code",
   "execution_count": null,
   "id": "79792980-f633-459a-9a5b-23553d88762c",
   "metadata": {},
   "outputs": [],
   "source": []
  }
 ],
 "metadata": {
  "kernelspec": {
   "display_name": "Python 3 (ipykernel)",
   "language": "python",
   "name": "python3"
  },
  "language_info": {
   "codemirror_mode": {
    "name": "ipython",
    "version": 3
   },
   "file_extension": ".py",
   "mimetype": "text/x-python",
   "name": "python",
   "nbconvert_exporter": "python",
   "pygments_lexer": "ipython3",
   "version": "3.12.7"
  }
 },
 "nbformat": 4,
 "nbformat_minor": 5
}
