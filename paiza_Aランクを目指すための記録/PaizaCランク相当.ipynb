{
 "cells": [
  {
   "cell_type": "code",
   "execution_count": 5,
   "id": "f59cdc62-a864-4337-8df1-1490e549a8d9",
   "metadata": {},
   "outputs": [],
   "source": [
    "# \n",
    "# PaizaC相当問題[1]:実行するたびに、1から3までの数値を\n",
    "# ランダムに生成して、順位として表示します。ここにif文を追加して、\n",
    "# 1位の時には「おめでとう」と表示するようにしてください\n",
    "# "
   ]
  },
  {
   "cell_type": "code",
   "execution_count": 27,
   "id": "32991fce-8042-45ca-9b87-2ebebe6f7aee",
   "metadata": {},
   "outputs": [
    {
     "name": "stdout",
     "output_type": "stream",
     "text": [
      "あなたの順位は1位です\n"
     ]
    }
   ],
   "source": [
    "import random\n",
    "number = random.randint(1, 3)\n",
    "if number == 1:\n",
    "    print(\"あなたの順位は\" + str(number) + \"位です\")"
   ]
  },
  {
   "cell_type": "code",
   "execution_count": 33,
   "id": "afac1a2a-e96b-4707-ba4b-4be30179792d",
   "metadata": {},
   "outputs": [],
   "source": [
    "# PaizaC相当問題[2]:実行するたびに、1から5までの数値をランダムに生成して、\n",
    "# 順位として表示します。ここにif文を追加して、1位の時には「おめでとう」と\n",
    "# 表示し、2位から5位のときには「あと少し」と表示するようにしてください。\n"
   ]
  },
  {
   "cell_type": "code",
   "execution_count": 39,
   "id": "7b5dba67-e5bb-48d4-915d-119c4ab973b4",
   "metadata": {},
   "outputs": [
    {
     "name": "stdout",
     "output_type": "stream",
     "text": [
      "あなたの順位は1位です\n"
     ]
    }
   ],
   "source": [
    "# if文による条件分岐\n",
    "import random\n",
    "number = random.randint(1,5)\n",
    "print(\"あなたの順位は\" + str(number) + \"位です\")\n",
    "# ここにif文を追加する\n",
    "if number == 1:\n",
    "    print(\"おめでとう\")\n",
    "else:\n",
    "    print(\"あと少し\")\n"
   ]
  },
  {
   "cell_type": "code",
   "execution_count": null,
   "id": "64d7a572-143e-4248-8ba4-6b3c269e95f2",
   "metadata": {},
   "outputs": [],
   "source": [
    "# age の中には、飲酒可能か判定する人の年齢が、\n",
    "# 18〜22才までランダムで数字で代入されています。\n",
    "# 例）19才だったら19が代入されているとします。\n",
    "\n",
    "# 20才未満の場合は「○才は飲酒不可」と表示し\n",
    "# 20才以上だったら「○才は飲酒可能」と表示するプログラムを書きましょう。"
   ]
  },
  {
   "cell_type": "code",
   "execution_count": 41,
   "id": "94a1b8a8-e631-4eb3-9b4d-f639884b6b9e",
   "metadata": {},
   "outputs": [
    {
     "name": "stdout",
     "output_type": "stream",
     "text": [
      "19才は飲酒不可\n"
     ]
    }
   ],
   "source": [
    "# if文による比較演算子\n",
    "import random\n",
    "age = random.randint(18, 22)    # ageに、何才かを18~22の範囲でランダムに代入\n",
    "no_drinking_text = \"飲酒不可\"\n",
    "yes_drinking__text = \"飲酒可能\"\n",
    "if age < 20:\n",
    "    print(str(age) + \"才は\" + no_drinking_text)\n",
    "else:\n",
    "    print(str(age) + \"才は\" + yes_drinking__text)\n"
   ]
  },
  {
   "cell_type": "code",
   "execution_count": 43,
   "id": "9b4a649c-d9a2-4634-b732-9a470fa5631e",
   "metadata": {},
   "outputs": [
    {
     "name": "stdout",
     "output_type": "stream",
     "text": [
      "西暦2024年\n",
      "平成36年です\n",
      "令和6年です\n"
     ]
    }
   ],
   "source": [
    "#西暦年から平成年を求める\n",
    "import datetime\n",
    "seireki = datetime.date.today().year\n",
    "print(\"西暦\" + str(seireki) + \"年\")\n",
    "\n",
    "# 平成年を求めるには\n",
    "# 平成：1989年～\n",
    "heisei = seireki - 1988\n",
    "print(\"平成\" + str(heisei) + \"年です\")\n",
    "\n",
    "# 令和年を求めるには\n",
    "# 令和：2018年～\n",
    "reiwa = seireki - 2018\n",
    "print(\"令和\" + str(reiwa) + \"年です\")\n"
   ]
  },
  {
   "cell_type": "code",
   "execution_count": null,
   "id": "1f355e56-bc6f-4dae-9c2a-3fe9f899d8f8",
   "metadata": {},
   "outputs": [],
   "source": []
  }
 ],
 "metadata": {
  "kernelspec": {
   "display_name": "Python 3 (ipykernel)",
   "language": "python",
   "name": "python3"
  },
  "language_info": {
   "codemirror_mode": {
    "name": "ipython",
    "version": 3
   },
   "file_extension": ".py",
   "mimetype": "text/x-python",
   "name": "python",
   "nbconvert_exporter": "python",
   "pygments_lexer": "ipython3",
   "version": "3.12.7"
  }
 },
 "nbformat": 4,
 "nbformat_minor": 5
}
