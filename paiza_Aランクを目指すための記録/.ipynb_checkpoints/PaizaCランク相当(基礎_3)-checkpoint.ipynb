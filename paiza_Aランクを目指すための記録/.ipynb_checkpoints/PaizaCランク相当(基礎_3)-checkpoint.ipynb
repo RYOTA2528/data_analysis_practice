{
 "cells": [
  {
   "cell_type": "code",
   "execution_count": 21,
   "id": "31eb2b82-8bcd-4f81-a743-cc2f7500d1a7",
   "metadata": {},
   "outputs": [
    {
     "name": "stdin",
     "output_type": "stream",
     "text": [
      "Enter a list of numbers (or _ to stop):  0,0,1,1,1,1,1,1,1,1,1,1,1,1,0,0 1,1,0,0,0,0,0,0,0,0,0,0,0,0,1,1 1,0,0,1,1,1,0,0,0,1,1,1,0,0,0,1 1,1,0,0,0,0,1,1,0,0,0,0,0,0,1,1 0,0,1,1,1,1,1,1,1,1,1,1,1,1,0,0 0,0,0,1,1,1,0,0,0,0,0,1,1,1,0,0 0,0,0,0,1,1,1,0,0,0,0,0,0,1,1,1\n",
      "Enter a list of numbers (or _ to stop):  _\n"
     ]
    },
    {
     "name": "stdout",
     "output_type": "stream",
     "text": [
      "Entered data: [[0, 0, 1, 1, 1, 1, 1, 1, 1, 1, 1, 1, 1, 1, 0, 0, 1, 1, 0, 0, 0, 0, 0, 0, 0, 0, 0, 0, 0, 0, 1, 1, 1, 0, 0, 1, 1, 1, 0, 0, 0, 1, 1, 1, 0, 0, 0, 1, 1, 1, 0, 0, 0, 0, 1, 1, 0, 0, 0, 0, 0, 0, 1, 1, 0, 0, 1, 1, 1, 1, 1, 1, 1, 1, 1, 1, 1, 1, 0, 0, 0, 0, 0, 1, 1, 1, 0, 0, 0, 0, 0, 1, 1, 1, 0, 0, 0, 0, 0, 0, 1, 1, 1, 0, 0, 0, 0, 0, 0, 1, 1, 1]]\n"
     ]
    }
   ],
   "source": [
    "\n",
    "import re #正規表現用\n",
    "\n",
    "data = []\n",
    "while True:\n",
    "    line = input(\"Enter a list of numbers (or _ to stop): \")\n",
    "    if line == \"_\":  # '_' の入力で終了\n",
    "        break\n",
    "    # スペースかカンマで分割して整数に変換\n",
    "    try:\n",
    "        # 整数変換を試みる\n",
    "        data.append(list(map(int, re.split('[, ]+', line.strip()))))\n",
    "    except ValueError:\n",
    "        print(\"Invalid input, please enter valid numbers.\")\n",
    "    \n",
    "print(\"Entered data:\", data)"
   ]
  },
  {
   "cell_type": "code",
   "execution_count": 23,
   "id": "00a1a476-7a30-4792-a8aa-95f01beb35ef",
   "metadata": {},
   "outputs": [
    {
     "name": "stdout",
     "output_type": "stream",
     "text": [
      "1  2  3  4  5  6  7  8  9  \n",
      "2  4  6  8  10  12  14  16  18  \n",
      "3  6  9  12  15  18  21  24  27  \n",
      "4  8  12  16  20  24  28  32  36  \n",
      "5  10  15  20  25  30  35  40  45  \n",
      "6  12  18  24  30  36  42  48  54  \n",
      "7  14  21  28  35  42  49  56  63  \n",
      "8  16  24  32  40  48  56  64  72  \n",
      "9  18  27  36  45  54  63  72  81  \n"
     ]
    }
   ],
   "source": [
    "# 九九の表を作成してみよう\n",
    "\n",
    "def multiply(x, y):\n",
    "    return x * y\n",
    "\n",
    "# 九九の表を作成する関数\n",
    "def multiply_fx_99(multiply):\n",
    "    # 外枠のrangeで取り出す[1,2,3,4,5,6,7,8,9]のvalueひとつ一つに対して下のrangeで掛け算する\n",
    "    for i in range(1, 10): \n",
    "        for j in range(1, 10):\n",
    "            # result = multiply(i, j)\n",
    "            print(f\"{multiply(i, j)}\", end=\"  \")\n",
    "        print()  # 行ごとに改行\n",
    "\n",
    "# 九九の表を表示\n",
    "multiply_fx_99(multiply)"
   ]
  },
  {
   "cell_type": "code",
   "execution_count": 25,
   "id": "08dc385a-7e9a-470f-838f-40813806e327",
   "metadata": {},
   "outputs": [
    {
     "name": "stdout",
     "output_type": "stream",
     "text": [
      "paizapaiza 3\n"
     ]
    }
   ],
   "source": [
    "# スコープを理解する\n",
    "message = \"paiza\"\n",
    "a = 10\n",
    "b = 20\n",
    "\n",
    "def sum(x, y):\n",
    "    a = 3\n",
    "    global message #グローバル変数をスコープの中で加工する\n",
    "    message += \"paiza\"\n",
    "    print(message + \" \" + str(a))\n",
    "    return x, y\n",
    "    \n",
    "num = sum(a, b)"
   ]
  },
  {
   "cell_type": "code",
   "execution_count": 27,
   "id": "4656e0cc-da8c-4006-9c12-196a41b52404",
   "metadata": {},
   "outputs": [
    {
     "name": "stdout",
     "output_type": "stream",
     "text": [
      "勇者はスライムを攻撃した。\n",
      "スライムに、4のダメージを与えた!\n",
      "勇者はモンスターを攻撃した。\n",
      "クリティカルヒットモンスターに、100のダメージを与えた\n",
      "勇者はドラゴンを攻撃した。\n",
      "クリティカルヒットドラゴンに、100のダメージを与えた\n"
     ]
    }
   ],
   "source": [
    "# RPGの攻撃シーン(勇者の全範囲攻撃)\n",
    "\n",
    "import random\n",
    "\n",
    "def attack(enemy):\n",
    "    print(\"勇者は\" + enemy + \"を攻撃した。\")\n",
    "    hit = random.randint(1,10)\n",
    "    if hit < 6:\n",
    "        print(enemy + \"に、\" + str(hit) + \"のダメージを与えた!\")\n",
    "    else:\n",
    "        print(\"クリティカルヒット\" + enemy + \"に、100のダメージを与えた\")\n",
    "enemies = [\"スライム\", \"モンスター\", \"ドラゴン\"]\n",
    "for enemy in enemies:\n",
    "    attack(enemy)"
   ]
  },
  {
   "cell_type": "code",
   "execution_count": 29,
   "id": "da7accef-e3b3-43ee-bb0f-cd7bd428216e",
   "metadata": {},
   "outputs": [
    {
     "name": "stdout",
     "output_type": "stream",
     "text": [
      "勇者はスライムを攻撃した\n",
      "スライムのHPは残り100です\n"
     ]
    }
   ],
   "source": [
    "# RPGの攻撃シーン(勇者がスライムに攻撃せよ)\n",
    "\n",
    "def attack(person):\n",
    "    print(person + \"はスライムを攻撃した\")\n",
    "\n",
    "def output_enemy_hp(enemy_hp_first):\n",
    "    for enemy, hp in enemy_hp_first.items():\n",
    "        if enemy ==  \"スライム\":\n",
    "            print(f\"{enemy}のHPは残り{hp}です\")\n",
    "\n",
    "# 敵のHP\n",
    "enemy_hp_first = {\"ゾンビ\": 700, \"スライム\": 300}\n",
    "\n",
    "# チームの攻撃力\n",
    "team = {\"勇者\": 200, \"戦士\": 150, \"魔法使い\": 100}\n",
    "\n",
    "# 「勇者」が最初の敵「スライム」を攻撃\n",
    "attack(\"勇者\")\n",
    "\n",
    "# 「スライム」のHPを減少させる（勇者の攻撃力分だけ減らす）\n",
    "enemy_hp_first[\"スライム\"] -= team[\"勇者\"]\n",
    "\n",
    "# 残りHPを表示\n",
    "output_enemy_hp(enemy_hp_first)"
   ]
  }
 ],
 "metadata": {
  "kernelspec": {
   "display_name": "Python 3 (ipykernel)",
   "language": "python",
   "name": "python3"
  },
  "language_info": {
   "codemirror_mode": {
    "name": "ipython",
    "version": 3
   },
   "file_extension": ".py",
   "mimetype": "text/x-python",
   "name": "python",
   "nbconvert_exporter": "python",
   "pygments_lexer": "ipython3",
   "version": "3.12.7"
  }
 },
 "nbformat": 4,
 "nbformat_minor": 5
}
