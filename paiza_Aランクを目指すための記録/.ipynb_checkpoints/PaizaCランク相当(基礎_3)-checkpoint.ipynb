{
 "cells": [
  {
   "cell_type": "code",
   "execution_count": 21,
   "id": "31eb2b82-8bcd-4f81-a743-cc2f7500d1a7",
   "metadata": {},
   "outputs": [
    {
     "name": "stdin",
     "output_type": "stream",
     "text": [
      "Enter a list of numbers (or _ to stop):  0,0,1,1,1,1,1,1,1,1,1,1,1,1,0,0 1,1,0,0,0,0,0,0,0,0,0,0,0,0,1,1 1,0,0,1,1,1,0,0,0,1,1,1,0,0,0,1 1,1,0,0,0,0,1,1,0,0,0,0,0,0,1,1 0,0,1,1,1,1,1,1,1,1,1,1,1,1,0,0 0,0,0,1,1,1,0,0,0,0,0,1,1,1,0,0 0,0,0,0,1,1,1,0,0,0,0,0,0,1,1,1\n",
      "Enter a list of numbers (or _ to stop):  _\n"
     ]
    },
    {
     "name": "stdout",
     "output_type": "stream",
     "text": [
      "Entered data: [[0, 0, 1, 1, 1, 1, 1, 1, 1, 1, 1, 1, 1, 1, 0, 0, 1, 1, 0, 0, 0, 0, 0, 0, 0, 0, 0, 0, 0, 0, 1, 1, 1, 0, 0, 1, 1, 1, 0, 0, 0, 1, 1, 1, 0, 0, 0, 1, 1, 1, 0, 0, 0, 0, 1, 1, 0, 0, 0, 0, 0, 0, 1, 1, 0, 0, 1, 1, 1, 1, 1, 1, 1, 1, 1, 1, 1, 1, 0, 0, 0, 0, 0, 1, 1, 1, 0, 0, 0, 0, 0, 1, 1, 1, 0, 0, 0, 0, 0, 0, 1, 1, 1, 0, 0, 0, 0, 0, 0, 1, 1, 1]]\n"
     ]
    }
   ],
   "source": [
    "\n",
    "import re #正規表現用\n",
    "\n",
    "data = []\n",
    "while True:\n",
    "    line = input(\"Enter a list of numbers (or _ to stop): \")\n",
    "    if line == \"_\":  # '_' の入力で終了\n",
    "        break\n",
    "    # スペースかカンマで分割して整数に変換\n",
    "    try:\n",
    "        # 整数変換を試みる\n",
    "        data.append(list(map(int, re.split('[, ]+', line.strip()))))\n",
    "    except ValueError:\n",
    "        print(\"Invalid input, please enter valid numbers.\")\n",
    "    \n",
    "print(\"Entered data:\", data)"
   ]
  },
  {
   "cell_type": "code",
   "execution_count": null,
   "id": "00a1a476-7a30-4792-a8aa-95f01beb35ef",
   "metadata": {},
   "outputs": [],
   "source": []
  }
 ],
 "metadata": {
  "kernelspec": {
   "display_name": "Python 3 (ipykernel)",
   "language": "python",
   "name": "python3"
  },
  "language_info": {
   "codemirror_mode": {
    "name": "ipython",
    "version": 3
   },
   "file_extension": ".py",
   "mimetype": "text/x-python",
   "name": "python",
   "nbconvert_exporter": "python",
   "pygments_lexer": "ipython3",
   "version": "3.12.7"
  }
 },
 "nbformat": 4,
 "nbformat_minor": 5
}
