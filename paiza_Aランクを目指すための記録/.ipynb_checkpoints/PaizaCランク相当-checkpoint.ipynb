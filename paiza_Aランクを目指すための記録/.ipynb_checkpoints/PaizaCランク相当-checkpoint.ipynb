{
 "cells": [
  {
   "cell_type": "code",
   "execution_count": 5,
   "id": "f59cdc62-a864-4337-8df1-1490e549a8d9",
   "metadata": {},
   "outputs": [],
   "source": [
    "# \n",
    "# PaizaC相当問題[1]:実行するたびに、1から3までの数値を\n",
    "# ランダムに生成して、順位として表示します。ここにif文を追加して、\n",
    "# 1位の時には「おめでとう」と表示するようにしてください\n",
    "# "
   ]
  },
  {
   "cell_type": "code",
   "execution_count": 27,
   "id": "32991fce-8042-45ca-9b87-2ebebe6f7aee",
   "metadata": {},
   "outputs": [
    {
     "name": "stdout",
     "output_type": "stream",
     "text": [
      "あなたの順位は1位です\n"
     ]
    }
   ],
   "source": [
    "import random\n",
    "number = random.randint(1, 3)\n",
    "if number == 1:\n",
    "    print(\"あなたの順位は\" + str(number) + \"位です\")"
   ]
  },
  {
   "cell_type": "code",
   "execution_count": null,
   "id": "afac1a2a-e96b-4707-ba4b-4be30179792d",
   "metadata": {},
   "outputs": [],
   "source": []
  }
 ],
 "metadata": {
  "kernelspec": {
   "display_name": "Python 3 (ipykernel)",
   "language": "python",
   "name": "python3"
  },
  "language_info": {
   "codemirror_mode": {
    "name": "ipython",
    "version": 3
   },
   "file_extension": ".py",
   "mimetype": "text/x-python",
   "name": "python",
   "nbconvert_exporter": "python",
   "pygments_lexer": "ipython3",
   "version": "3.12.7"
  }
 },
 "nbformat": 4,
 "nbformat_minor": 5
}
