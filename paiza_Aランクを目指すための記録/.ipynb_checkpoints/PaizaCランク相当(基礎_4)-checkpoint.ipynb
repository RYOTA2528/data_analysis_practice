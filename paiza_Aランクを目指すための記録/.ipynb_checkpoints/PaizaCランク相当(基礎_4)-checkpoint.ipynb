{
 "cells": [
  {
   "cell_type": "code",
   "execution_count": 1,
   "id": "0340cae2-34d9-4fd8-af3f-7046a470174a",
   "metadata": {},
   "outputs": [
    {
     "name": "stdout",
     "output_type": "stream",
     "text": [
      "hello paiza\n"
     ]
    }
   ],
   "source": [
    "# クラスからオブジェクトを作成しよう\n",
    "\n",
    "class Greeting:\n",
    "    def __init__(self, name):\n",
    "        self.name = name\n",
    "\n",
    "    def say_hello(self):\n",
    "        print(\"hello \" + self.name)\n",
    "\n",
    "# この下に、必要な処理を記述します\n",
    "paiza = Greeting(\"paiza\")\n",
    "paiza.say_hello()"
   ]
  },
  {
   "cell_type": "code",
   "execution_count": 3,
   "id": "aad2fa4a-af36-42ed-8df1-c2eaf6baec56",
   "metadata": {},
   "outputs": [
    {
     "name": "stdout",
     "output_type": "stream",
     "text": [
      "スライムは勇者を攻撃した\n",
      "モンスターは勇者を攻撃した\n",
      "ドラゴンは勇者を攻撃した\n"
     ]
    }
   ],
   "source": [
    "# RPGの敵クラスを作る\n",
    "class Enemy:\n",
    "    def __init__(self, name):\n",
    "        self.name = name\n",
    "        \n",
    "    def attack(self):\n",
    "        print(self.name + \"は勇者を攻撃した\")\n",
    "\n",
    "enemies = []\n",
    "enemies.append(Enemy(\"スライム\"))\n",
    "enemies.append(Enemy(\"モンスター\"))\n",
    "enemies.append(Enemy(\"ドラゴン\"))\n",
    "\n",
    "\n",
    "for enemy in enemies:\n",
    "    enemy.attack()"
   ]
  },
  {
   "cell_type": "code",
   "execution_count": 5,
   "id": "17fa9858-0e77-48cd-81ac-2d008649f6ab",
   "metadata": {},
   "outputs": [
    {
     "name": "stdout",
     "output_type": "stream",
     "text": [
      "勇者はゴーレムを攻撃した\n",
      "戦士はゴーレムを攻撃した\n",
      "魔法使いはゴーレムを攻撃した\n"
     ]
    }
   ],
   "source": [
    "# RPGの攻撃シーン\n",
    "\n",
    "class Player:\n",
    "    def __init__(self,player_name):\n",
    "        self.player_name =player_name\n",
    "        \n",
    "    def attack(self, enemy_name):\n",
    "        print(self.player_name + \"は\" + enemy_name + \"を攻撃した\")\n",
    "        \n",
    "team = []\n",
    "team.append(Player(\"勇者\"))\n",
    "team.append(Player(\"戦士\"))\n",
    "team.append(Player(\"魔法使い\"))\n",
    "\n",
    "for player in team:\n",
    "    player.attack(\"ゴーレム\")"
   ]
  },
  {
   "cell_type": "code",
   "execution_count": 7,
   "id": "42db5e39-fedc-4beb-86de-49e87a2a6d32",
   "metadata": {},
   "outputs": [
    {
     "name": "stdout",
     "output_type": "stream",
     "text": [
      "合計金額は1944円です\n"
     ]
    }
   ],
   "source": [
    "# クラスで、引数と戻り値かつ「クラス変数」を使用した例\n",
    "class Item:\n",
    "    tax = 1.08 #クラス変数\n",
    "    \n",
    "    def __init__(self, price, quantity):\n",
    "        self.price = price\n",
    "        self.quantity = quantity\n",
    "        \n",
    "    def total(self):\n",
    "        return int(self.price * self.quantity * Item.tax)\n",
    "        \n",
    "apple = Item(120,15)\n",
    "total = apple.total()\n",
    "print(\"合計金額は\" + str(total) + \"円です\")"
   ]
  },
  {
   "cell_type": "code",
   "execution_count": 11,
   "id": "7b1c2cb8-1248-43d7-b287-2d66b12a9cfb",
   "metadata": {},
   "outputs": [
    {
     "name": "stdout",
     "output_type": "stream",
     "text": [
      "宝箱を開いた鋼鉄の剣を手に入れた\n",
      "宝箱はきらきらと輝いている\n",
      "宝箱を開いた魔法の指輪を手に入れた\n"
     ]
    }
   ],
   "source": [
    "#継承の方法\n",
    "class Box:\n",
    "    def __init__(self,item):\n",
    "        self.item = item\n",
    "        \n",
    "    def open(self):\n",
    "        print(\"宝箱を開いた\" + self.item + \"を手に入れた\")\n",
    "    \n",
    "#継承\n",
    "class JewerlyBox(Box):\n",
    "    def look(self):\n",
    "        print(\"宝箱はきらきらと輝いている\")\n",
    "\n",
    "box = Box(\"鋼鉄の剣\")\n",
    "box.open()\n",
    "\n",
    "jewerlyBox = JewerlyBox(\"魔法の指輪\")\n",
    "jewerlyBox.look()\n",
    "jewerlyBox.open()"
   ]
  },
  {
   "cell_type": "code",
   "execution_count": 9,
   "id": "6facf38b-da46-46db-b53b-0f3477ab9e62",
   "metadata": {},
   "outputs": [
    {
     "name": "stdout",
     "output_type": "stream",
     "text": [
      "宝箱を開いた。鋼鉄の剣を手に入れた。\n",
      "宝箱を開いた。鋼鉄の剣を手に入れた。\n",
      "宝箱は、妖しく輝いてる\n",
      "宝箱を開いた。モノマネモンスターが襲ってきた\n"
     ]
    }
   ],
   "source": [
    "class Box:\n",
    "    def __init__(self, item):\n",
    "        self.item = item\n",
    "\n",
    "    def open(self):\n",
    "        print(\"宝箱を開いた。\" + self.item + \"を手に入れた。\")\n",
    "\n",
    "box = Box(\"鋼鉄の剣\")\n",
    "box.open()\n",
    "\n",
    "class MagicBox(Box):\n",
    "    def look(self):\n",
    "        print(\"宝箱は、妖しく輝いてる\")\n",
    "    #　オーバーライド\n",
    "    def open(self):\n",
    "        print(\"宝箱を開いた。\" + self.item + \"が襲ってきた\")\n",
    "box = Box(\"鋼鉄の剣\")\n",
    "box.open()\n",
    "\n",
    "magicbox = MagicBox(\"モノマネモンスター\")\n",
    "magicbox.look()\n",
    "magicbox.open() #　オーバーライド\n",
    "\n",
    "        \n"
   ]
  }
 ],
 "metadata": {
  "kernelspec": {
   "display_name": "Python 3 (ipykernel)",
   "language": "python",
   "name": "python3"
  },
  "language_info": {
   "codemirror_mode": {
    "name": "ipython",
    "version": 3
   },
   "file_extension": ".py",
   "mimetype": "text/x-python",
   "name": "python",
   "nbconvert_exporter": "python",
   "pygments_lexer": "ipython3",
   "version": "3.12.7"
  }
 },
 "nbformat": 4,
 "nbformat_minor": 5
}
