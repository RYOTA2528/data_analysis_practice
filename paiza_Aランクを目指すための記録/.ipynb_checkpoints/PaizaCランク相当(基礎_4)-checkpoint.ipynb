{
 "cells": [
  {
   "cell_type": "code",
   "execution_count": 1,
   "id": "0340cae2-34d9-4fd8-af3f-7046a470174a",
   "metadata": {},
   "outputs": [
    {
     "name": "stdout",
     "output_type": "stream",
     "text": [
      "hello paiza\n"
     ]
    }
   ],
   "source": [
    "# クラスからオブジェクトを作成しよう\n",
    "\n",
    "class Greeting:\n",
    "    def __init__(self, name):\n",
    "        self.name = name\n",
    "\n",
    "    def say_hello(self):\n",
    "        print(\"hello \" + self.name)\n",
    "\n",
    "# この下に、必要な処理を記述します\n",
    "paiza = Greeting(\"paiza\")\n",
    "paiza.say_hello()"
   ]
  },
  {
   "cell_type": "code",
   "execution_count": 3,
   "id": "aad2fa4a-af36-42ed-8df1-c2eaf6baec56",
   "metadata": {},
   "outputs": [
    {
     "name": "stdout",
     "output_type": "stream",
     "text": [
      "スライムは勇者を攻撃した\n",
      "モンスターは勇者を攻撃した\n",
      "ドラゴンは勇者を攻撃した\n"
     ]
    }
   ],
   "source": [
    "# RPGの敵クラスを作る\n",
    "class Enemy:\n",
    "    def __init__(self, name):\n",
    "        self.name = name\n",
    "        \n",
    "    def attack(self):\n",
    "        print(self.name + \"は勇者を攻撃した\")\n",
    "\n",
    "enemies = []\n",
    "enemies.append(Enemy(\"スライム\"))\n",
    "enemies.append(Enemy(\"モンスター\"))\n",
    "enemies.append(Enemy(\"ドラゴン\"))\n",
    "\n",
    "\n",
    "for enemy in enemies:\n",
    "    enemy.attack()"
   ]
  }
 ],
 "metadata": {
  "kernelspec": {
   "display_name": "Python 3 (ipykernel)",
   "language": "python",
   "name": "python3"
  },
  "language_info": {
   "codemirror_mode": {
    "name": "ipython",
    "version": 3
   },
   "file_extension": ".py",
   "mimetype": "text/x-python",
   "name": "python",
   "nbconvert_exporter": "python",
   "pygments_lexer": "ipython3",
   "version": "3.12.7"
  }
 },
 "nbformat": 4,
 "nbformat_minor": 5
}
