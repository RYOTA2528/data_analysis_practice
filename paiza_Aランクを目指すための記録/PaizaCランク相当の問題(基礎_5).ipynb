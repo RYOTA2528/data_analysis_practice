{
 "cells": [
  {
   "cell_type": "code",
   "execution_count": 1,
   "id": "7988d95d-925b-4364-9e9f-2572929754f5",
   "metadata": {},
   "outputs": [
    {
     "name": "stdout",
     "output_type": "stream",
     "text": [
      "1\n",
      "division by zero\n",
      "処理が終了しました\n"
     ]
    }
   ],
   "source": [
    "#例外処理について学ぶ\n",
    "print(1)\n",
    "try:\n",
    "    number = 0\n",
    "    answer = 100 / number\n",
    "    print(answer)\n",
    "except ZeroDivisionError as e:\n",
    "    print(e)\n",
    "finally:\n",
    "    print(\"処理が終了しました\")\n"
   ]
  },
  {
   "cell_type": "code",
   "execution_count": 3,
   "id": "d8ede170-f852-49c5-90bc-2a24bdaa929c",
   "metadata": {},
   "outputs": [
    {
     "name": "stdout",
     "output_type": "stream",
     "text": [
      "1\n",
      "0では割り算できません\n",
      "処理が終了しました\n"
     ]
    },
    {
     "name": "stderr",
     "output_type": "stream",
     "text": [
      "Traceback (most recent call last):\n",
      "  File \"C:\\Users\\rsfre\\AppData\\Local\\Temp\\ipykernel_19248\\2239980885.py\", line 7, in <module>\n",
      "    answer = 100 /number\n",
      "             ~~~~^~~~~~~\n",
      "ZeroDivisionError: division by zero\n"
     ]
    }
   ],
   "source": [
    "#標準エラー出力\n",
    "import traceback, sys\n",
    "\n",
    "print(1)\n",
    "try:\n",
    "    number = 0\n",
    "    answer = 100 /number\n",
    "except ZeroDivisionError as e:\n",
    "    print(\"0では割り算できません\")\n",
    "    sys.stderr.write(traceback.format_exc()) #標準エラー出力\n",
    "finally:\n",
    "    print(\"処理が終了しました\")"
   ]
  },
  {
   "cell_type": "code",
   "execution_count": null,
   "id": "dbc2210f-9c74-4a86-9512-0a962382950c",
   "metadata": {},
   "outputs": [],
   "source": []
  }
 ],
 "metadata": {
  "kernelspec": {
   "display_name": "Python 3 (ipykernel)",
   "language": "python",
   "name": "python3"
  },
  "language_info": {
   "codemirror_mode": {
    "name": "ipython",
    "version": 3
   },
   "file_extension": ".py",
   "mimetype": "text/x-python",
   "name": "python",
   "nbconvert_exporter": "python",
   "pygments_lexer": "ipython3",
   "version": "3.12.7"
  }
 },
 "nbformat": 4,
 "nbformat_minor": 5
}
