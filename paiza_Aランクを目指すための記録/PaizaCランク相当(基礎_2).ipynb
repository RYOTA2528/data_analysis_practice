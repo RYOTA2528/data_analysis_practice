{
 "cells": [
  {
   "cell_type": "code",
   "execution_count": null,
   "id": "e0a20345-9673-4d2f-ace8-25c15c05cf69",
   "metadata": {},
   "outputs": [],
   "source": []
  }
 ],
 "metadata": {
  "kernelspec": {
   "display_name": "",
   "name": ""
  },
  "language_info": {
   "name": ""
  }
 },
 "nbformat": 4,
 "nbformat_minor": 5
}
