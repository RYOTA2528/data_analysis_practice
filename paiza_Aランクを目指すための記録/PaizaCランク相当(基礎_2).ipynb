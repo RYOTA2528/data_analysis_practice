{
 "cells": [
  {
   "cell_type": "code",
   "execution_count": 1,
   "id": "e0a20345-9673-4d2f-ace8-25c15c05cf69",
   "metadata": {},
   "outputs": [
    {
     "name": "stdout",
     "output_type": "stream",
     "text": [
      "['やり', '剣', '弓']\n",
      "[('やり', 20), ('剣', 40), ('弓', 30)]\n"
     ]
    }
   ],
   "source": [
    "# 辞書/タプルの整列(基礎)\n",
    "wepons = {\"剣\":40, \"弓\":30, \"やり\":20 }\n",
    "print(sorted(wepons)) #リスト型\n",
    "print(sorted(wepons.items())) #タプル型(変更できないようにする)"
   ]
  },
  {
   "cell_type": "code",
   "execution_count": 19,
   "id": "79792980-f633-459a-9a5b-23553d88762c",
   "metadata": {},
   "outputs": [
    {
     "name": "stdout",
     "output_type": "stream",
     "text": [
      "[['村人', '勇者', '戦士', '魔法使い'], ['盗賊', '忍者', '商人'], ['スライム', 'ドラゴン', '魔王']]\n",
      "村人\n",
      "忍者\n",
      "3\n",
      "4\n"
     ]
    }
   ],
   "source": [
    "# 2次元リストの作成\n",
    "test = \"村人\"\n",
    "team_c = [test,\"勇者\", \"戦士\", \"魔法使い\"]\n",
    "team_d = [\"盗賊\", \"忍者\", \"商人\"]\n",
    "team_e = [\"スライム\", \"ドラゴン\", \"魔王\"]\n",
    "\n",
    "teams = [team_c, team_d, team_e]\n",
    "print(teams)\n",
    "\n",
    "#取り出し方\n",
    "print(teams[0][0])\n",
    "print(teams[1][1])\n",
    "print(len(teams))\n",
    "print(len(teams[0]))"
   ]
  },
  {
   "cell_type": "code",
   "execution_count": 21,
   "id": "c23d28b0-1bd7-448a-94b2-6d30dc97acdd",
   "metadata": {},
   "outputs": [
    {
     "name": "stdout",
     "output_type": "stream",
     "text": [
      "[36, 102, 168, 234, 270]\n"
     ]
    }
   ],
   "source": [
    "# 各要素を3倍にして新しいリストを作成する\n",
    "numbers = [12, 34, 56, 78, 90]\n",
    "numbers2 = []\n",
    "for i, number in enumerate(numbers):\n",
    "    # print(i,number)\n",
    "    number *= 3\n",
    "    numbers2.append(number)\n",
    "print(numbers2)"
   ]
  },
  {
   "cell_type": "code",
   "execution_count": 23,
   "id": "cfb080c7-f4d2-405e-88e4-4db6c545c820",
   "metadata": {},
   "outputs": [
    {
     "name": "stdout",
     "output_type": "stream",
     "text": [
      "[0, 2, 4, 6, 8, 10, 12, 14, 16, 18]\n",
      "10\n",
      "[[0, '変更', 4], [0, 2, 4], [0, 2, 4], [0, 2, 4]]\n"
     ]
    }
   ],
   "source": [
    "# 2次元リストをforで作成する\n",
    "numbers = [i * 2 for i  in range(10) ]\n",
    "print(numbers)\n",
    "print(len(numbers))\n",
    "\n",
    "numbers2 = [[i *2 for i in range(3)] for j in range(4)]\n",
    "numbers2[0][1] = \"変更\"\n",
    "print(numbers2)"
   ]
  },
  {
   "cell_type": "code",
   "execution_count": 25,
   "id": "eb3f066b-012b-4d89-854b-48fd3ff64262",
   "metadata": {},
   "outputs": [
    {
     "name": "stdout",
     "output_type": "stream",
     "text": [
      "['paiza', 'paiza', 'paiza', 'paiza', 'paiza']\n"
     ]
    }
   ],
   "source": [
    "# forを使って、要素数が5、初期値が\"paiza\"というリストを作成\n",
    "numbers = [\"paiza\" for i in range(5)]\n",
    "print(numbers)"
   ]
  },
  {
   "cell_type": "code",
   "execution_count": 27,
   "id": "e47ca4c1-fe2b-4641-9d6a-a10014920058",
   "metadata": {},
   "outputs": [
    {
     "name": "stdout",
     "output_type": "stream",
     "text": [
      "[[7, 7, 7, 7], [7, 7, 7, 7], [7, 7, 7, 7], [7, 7, 7, 7], [7, 7, 7, 7]]\n"
     ]
    }
   ],
   "source": [
    "# 2次元リストを作成してみよう\n",
    "numbers = [[7 for i in range(4)] for j in range(5)]\n",
    "print(numbers)"
   ]
  },
  {
   "cell_type": "code",
   "execution_count": 29,
   "id": "fd5d9838-d2a9-4be4-9b3b-464085480837",
   "metadata": {},
   "outputs": [
    {
     "name": "stdout",
     "output_type": "stream",
     "text": [
      "0:城++++++++++++++++++町1:+森森+森森+森森+森森+森森+森森+森2:++++++++++++++++++++3:+森森+森森+森森+森森+森森+森森+森4:++++++++++++++++++++5:+森森+森森+森森+森森+森森+森森+森6:++++++++++++++++++++7:+森森+森森+森森+森森+森森+森森+森8:++++++++++++++++++++9:+森森+森森+森森+森森+森森+森森+町"
     ]
    }
   ],
   "source": [
    "# 2次元リストで地図を表示する\n",
    "#城と町の間の森を+にし「道とする」\n",
    "\n",
    "landmap = [[\"森\" for i in range(20)] for j in range(10)]\n",
    "landmap[0][0] = \"城\"\n",
    "landmap[0][19] = \"町\"\n",
    "landmap[9][19] = \"町\"\n",
    "for i,line in enumerate(landmap):\n",
    "    print(str(i)+ \":\", end=\"\") #end=\"\" を指定することで改行せず、出力の後に何も追加しないように設定します。\n",
    "    for j,area in enumerate(line):\n",
    "        if (i % 2 == 0 or j % 3 == 0) and area == \"森\": #偶数の時\n",
    "            print(\"+\", end=\"\")\n",
    "        else:\n",
    "            print(area, end=\"\")"
   ]
  },
  {
   "cell_type": "code",
   "execution_count": null,
   "id": "0f77f986-b2d3-401b-b61a-f46711954f7e",
   "metadata": {},
   "outputs": [
    {
     "name": "stdin",
     "output_type": "stream",
     "text": [
      " 0,0,1,1,1,1,1,1,1,1,1,1,1,1,0,0 1,1,0,0,0,0,0,0,0,0,0,0,0,0,1,1 1,0,0,1,1,1,0,0,0,1,1,1,0,0,0,1 1,1,0,0,0,0,1,1,0,0,0,0,0,0,1,1 0,0,1,1,1,1,1,1,1,1,1,1,1,1,0,0 0,0,0,1,1,1,0,0,0,0,0,1,1,1,0,0 0,0,0,0,1,1,1,0,0,0,0,0,0,1,1,1 _\n"
     ]
    },
    {
     "name": "stdout",
     "output_type": "stream",
     "text": [
      "0,0,1,1,1,1,1,1,1,1,1,1,1,1,0,0 1,1,0,0,0,0,0,0,0,0,0,0,0,0,1,1 1,0,0,1,1,1,0,0,0,1,1,1,0,0,0,1 1,1,0,0,0,0,1,1,0,0,0,0,0,0,1,1 0,0,1,1,1,1,1,1,1,1,1,1,1,1,0,0 0,0,0,1,1,1,0,0,0,0,0,1,1,1,0,0 0,0,0,0,1,1,1,0,0,0,0,0,0,1,1,1 _\n"
     ]
    },
    {
     "name": "stdin",
     "output_type": "stream",
     "text": [
      " \n"
     ]
    },
    {
     "name": "stdout",
     "output_type": "stream",
     "text": [
      "\n"
     ]
    },
    {
     "name": "stdin",
     "output_type": "stream",
     "text": [
      " \n"
     ]
    },
    {
     "name": "stdout",
     "output_type": "stream",
     "text": [
      "\n"
     ]
    }
   ],
   "source": [
    "# 標準入力から2次元リスト\n",
    "while True:\n",
    "    line = input()\n",
    "    if line == \"_\":\n",
    "        break\n",
    "    print(line)"
   ]
  },
  {
   "cell_type": "code",
   "execution_count": null,
   "id": "9bebf9fe-2f7a-4b5f-a13d-e6dabce6d0bd",
   "metadata": {},
   "outputs": [],
   "source": []
  }
 ],
 "metadata": {
  "kernelspec": {
   "display_name": "Python 3 (ipykernel)",
   "language": "python",
   "name": "python3"
  },
  "language_info": {
   "codemirror_mode": {
    "name": "ipython",
    "version": 3
   },
   "file_extension": ".py",
   "mimetype": "text/x-python",
   "name": "python",
   "nbconvert_exporter": "python",
   "pygments_lexer": "ipython3",
   "version": "3.12.7"
  }
 },
 "nbformat": 4,
 "nbformat_minor": 5
}
