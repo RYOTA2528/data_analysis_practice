{
 "cells": [
  {
   "cell_type": "markdown",
   "id": "f031afe3-caf2-4836-8329-10bc5a946e5d",
   "metadata": {},
   "source": [
    "行列演算の基礎\n",
    "$$\n",
    "w=(X^TX)^{-1}X^Ty\n",
    "$$"
   ]
  },
  {
   "cell_type": "markdown",
   "id": "6672a00e-ba4b-4887-92bc-dfc43fa70e63",
   "metadata": {},
   "source": [
    "上記を実現するためには\n",
    " - ベクトルの定義\n",
    " - 行列の定義\n",
    " - 転置\n",
    " - 逆行列\n",
    " - 行列積"
   ]
  },
  {
   "cell_type": "code",
   "execution_count": 23,
   "id": "bc5e11c6-5f80-46a4-88d4-e2a6cdafafd3",
   "metadata": {},
   "outputs": [],
   "source": [
    "import numpy as np"
   ]
  },
  {
   "cell_type": "code",
   "execution_count": 27,
   "id": "5566e324-9f20-4ad1-9422-e09adc667d23",
   "metadata": {},
   "outputs": [
    {
     "name": "stdout",
     "output_type": "stream",
     "text": [
      "[[1]\n",
      " [2]\n",
      " [3]]\n"
     ]
    }
   ],
   "source": [
    "#ベクトルの定義\n",
    "x = np.array([[1],[2],[3]])\n",
    "print(x)"
   ]
  },
  {
   "cell_type": "code",
   "execution_count": 37,
   "id": "62ec677c-d5d9-4494-8ea2-45933664af7c",
   "metadata": {},
   "outputs": [
    {
     "name": "stdout",
     "output_type": "stream",
     "text": [
      "[[1 2]\n",
      " [3 4]]\n"
     ]
    }
   ],
   "source": [
    "# 行列の定義\n",
    "X = np.array([[1,2],[3,4]])\n",
    "print(X)"
   ]
  },
  {
   "cell_type": "code",
   "execution_count": 39,
   "id": "4b2c043e-c308-45a2-8af4-cf3af05ed425",
   "metadata": {},
   "outputs": [
    {
     "name": "stdout",
     "output_type": "stream",
     "text": [
      "[[1 3]\n",
      " [2 4]]\n"
     ]
    }
   ],
   "source": [
    "# 転置\n",
    "Xt = X.T\n",
    "print(Xt)"
   ]
  },
  {
   "cell_type": "code",
   "execution_count": 43,
   "id": "77a65598-9e75-4423-81d2-0d8edcb7be54",
   "metadata": {},
   "outputs": [
    {
     "name": "stdout",
     "output_type": "stream",
     "text": [
      "[[-2.   1. ]\n",
      " [ 1.5 -0.5]]\n"
     ]
    }
   ],
   "source": [
    "# 逆行列\n",
    "# linear algebra: 線形代数\n",
    "X_inv = np.linalg.inv(X)\n",
    "print(X_inv)"
   ]
  },
  {
   "cell_type": "code",
   "execution_count": 45,
   "id": "bc9cb2f5-876d-40cd-94ce-d300d58aa5c1",
   "metadata": {},
   "outputs": [
    {
     "name": "stdout",
     "output_type": "stream",
     "text": [
      "[[1.00000000e+00 1.11022302e-16]\n",
      " [0.00000000e+00 1.00000000e+00]]\n"
     ]
    }
   ],
   "source": [
    "# 行列積\n",
    "XX_inv = np.dot(X,X_inv)\n",
    "print(XX_inv)"
   ]
  },
  {
   "cell_type": "markdown",
   "id": "257a2802-a4c5-4b31-94c0-24a17c228adf",
   "metadata": {},
   "source": [
    "## よくある間違いについて"
   ]
  },
  {
   "cell_type": "code",
   "execution_count": 50,
   "id": "637cf3e6-9c82-4761-9d39-27cd33ec8df9",
   "metadata": {},
   "outputs": [
    {
     "data": {
      "text/plain": [
       "array([1, 2, 3])"
      ]
     },
     "execution_count": 50,
     "metadata": {},
     "output_type": "execute_result"
    }
   ],
   "source": [
    "# ベクトルは[[]]２重で囲わないと転置ができなくなる\n",
    "x = np.array([1,2,3])\n",
    "x"
   ]
  },
  {
   "cell_type": "code",
   "execution_count": 52,
   "id": "585c3a49-cee7-42d1-95cb-635728e56f4a",
   "metadata": {},
   "outputs": [
    {
     "data": {
      "text/plain": [
       "array([1, 2, 3])"
      ]
     },
     "execution_count": 52,
     "metadata": {},
     "output_type": "execute_result"
    }
   ],
   "source": [
    "x.T #ここで失敗する"
   ]
  },
  {
   "cell_type": "code",
   "execution_count": 58,
   "id": "5633475b-4489-41df-a5fa-5c0d3edb7867",
   "metadata": {},
   "outputs": [
    {
     "data": {
      "text/plain": [
       "array([[1],\n",
       "       [2],\n",
       "       [3]])"
      ]
     },
     "execution_count": 58,
     "metadata": {},
     "output_type": "execute_result"
    }
   ],
   "source": [
    "x = np.array([[1,2,3]])\n",
    "x.T"
   ]
  },
  {
   "cell_type": "markdown",
   "id": "47b7c79c-d762-4e42-b9b4-40b8eb3862be",
   "metadata": {},
   "source": [
    "## Numpyでよく使う処理"
   ]
  },
  {
   "cell_type": "code",
   "execution_count": 61,
   "id": "c957a024-340c-4842-8a0e-2cd016f1e524",
   "metadata": {},
   "outputs": [],
   "source": [
    "# X = np.array([[1,2],[3,4]]) の値をshapeで確認する\n",
    "row,col = X.shape"
   ]
  },
  {
   "cell_type": "code",
   "execution_count": 63,
   "id": "5af44730-9f8c-4fe2-9907-5b59df27b977",
   "metadata": {},
   "outputs": [
    {
     "data": {
      "text/plain": [
       "2"
      ]
     },
     "execution_count": 63,
     "metadata": {},
     "output_type": "execute_result"
    }
   ],
   "source": [
    "row"
   ]
  },
  {
   "cell_type": "code",
   "execution_count": 65,
   "id": "f38db663-8de6-4407-a711-fa1da75e0a3b",
   "metadata": {},
   "outputs": [
    {
     "data": {
      "text/plain": [
       "2"
      ]
     },
     "execution_count": 65,
     "metadata": {},
     "output_type": "execute_result"
    }
   ],
   "source": [
    "col"
   ]
  },
  {
   "cell_type": "code",
   "execution_count": 67,
   "id": "3953d3e9-c1b9-44b4-a837-c3123e7ec8bd",
   "metadata": {},
   "outputs": [],
   "source": [
    "# やや応用\n",
    "X = np.array([\n",
    "    [2,3,4],\n",
    "    [1,2,3]\n",
    "])"
   ]
  },
  {
   "cell_type": "code",
   "execution_count": 69,
   "id": "7ac02391-7ce7-4e17-ae48-1c8c3c93a5ff",
   "metadata": {},
   "outputs": [
    {
     "name": "stdout",
     "output_type": "stream",
     "text": [
      "[[2 3 4]\n",
      " [1 2 3]]\n"
     ]
    }
   ],
   "source": [
    "print(X)"
   ]
  },
  {
   "cell_type": "code",
   "execution_count": 71,
   "id": "74eda48b-0e8a-46ba-8eb4-188644cb5278",
   "metadata": {},
   "outputs": [
    {
     "data": {
      "text/plain": [
       "(2, 3)"
      ]
     },
     "execution_count": 71,
     "metadata": {},
     "output_type": "execute_result"
    }
   ],
   "source": [
    "X.shape"
   ]
  },
  {
   "cell_type": "code",
   "execution_count": 73,
   "id": "e94be6a8-5c8a-4699-a433-bc7b145da893",
   "metadata": {},
   "outputs": [],
   "source": [
    "row,col = X.shape"
   ]
  },
  {
   "cell_type": "code",
   "execution_count": 75,
   "id": "6df60eba-2eff-485c-895a-73d42cdda86f",
   "metadata": {},
   "outputs": [
    {
     "data": {
      "text/plain": [
       "2"
      ]
     },
     "execution_count": 75,
     "metadata": {},
     "output_type": "execute_result"
    }
   ],
   "source": [
    "row"
   ]
  },
  {
   "cell_type": "code",
   "execution_count": 77,
   "id": "ec948853-1136-4f71-82b3-88c0ebd2b889",
   "metadata": {},
   "outputs": [
    {
     "data": {
      "text/plain": [
       "3"
      ]
     },
     "execution_count": 77,
     "metadata": {},
     "output_type": "execute_result"
    }
   ],
   "source": [
    "col"
   ]
  },
  {
   "cell_type": "code",
   "execution_count": 79,
   "id": "72eed7f2-0b8c-4921-abba-ff776ee4a45c",
   "metadata": {},
   "outputs": [],
   "source": [
    "# 上記のように複数の代入も可能"
   ]
  },
  {
   "cell_type": "code",
   "execution_count": 81,
   "id": "84e5c01b-f6e6-4d54-8726-27755dcbee8d",
   "metadata": {},
   "outputs": [
    {
     "name": "stdout",
     "output_type": "stream",
     "text": [
      "[2 3 4]\n",
      "--\n",
      "[1 2 3]\n",
      "--\n"
     ]
    }
   ],
   "source": [
    "# 上記の処理を繰り返し使うためにfor文を使う\n",
    "for x in X:\n",
    "    print(x)\n",
    "    print('--')"
   ]
  },
  {
   "cell_type": "code",
   "execution_count": null,
   "id": "088925a8-07fa-4048-bf6a-7399c94faf96",
   "metadata": {},
   "outputs": [],
   "source": []
  }
 ],
 "metadata": {
  "kernelspec": {
   "display_name": "Python 3 (ipykernel)",
   "language": "python",
   "name": "python3"
  },
  "language_info": {
   "codemirror_mode": {
    "name": "ipython",
    "version": 3
   },
   "file_extension": ".py",
   "mimetype": "text/x-python",
   "name": "python",
   "nbconvert_exporter": "python",
   "pygments_lexer": "ipython3",
   "version": "3.12.7"
  }
 },
 "nbformat": 4,
 "nbformat_minor": 5
}
