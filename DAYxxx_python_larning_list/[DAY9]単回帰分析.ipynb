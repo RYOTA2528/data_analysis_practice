{
 "cells": [
  {
   "cell_type": "code",
   "execution_count": 1,
   "id": "4f8babce-e456-4f63-9f37-8ca0929602ae",
   "metadata": {},
   "outputs": [],
   "source": [
    "# 単回帰分析の学習\n",
    "import numpy as np"
   ]
  },
  {
   "cell_type": "code",
   "execution_count": 3,
   "id": "dc8a551b-1603-4c71-b7ca-b8a28e3242a3",
   "metadata": {},
   "outputs": [],
   "source": [
    "# ベクトルの定義\n",
    "x = np.array([1,2,3])\n",
    "y = np.array([2,3.9,6.1])"
   ]
  },
  {
   "cell_type": "code",
   "execution_count": 5,
   "id": "c35a236b-0d19-4b92-8cb7-1bc265debbb3",
   "metadata": {},
   "outputs": [
    {
     "data": {
      "text/plain": [
       "array([2. , 3.9, 6.1])"
      ]
     },
     "execution_count": 5,
     "metadata": {},
     "output_type": "execute_result"
    }
   ],
   "source": [
    "y"
   ]
  },
  {
   "cell_type": "code",
   "execution_count": 19,
   "id": "54c5dbf5-2ab4-4e50-8f1d-ac5b4798e71f",
   "metadata": {},
   "outputs": [
    {
     "data": {
      "text/plain": [
       "array([-2. , -0.1,  2.1])"
      ]
     },
     "execution_count": 19,
     "metadata": {},
     "output_type": "execute_result"
    }
   ],
   "source": [
    "# ステップ1:データの中心化を行う\n",
    "x.mean()\n",
    "y.mean()\n",
    "\n",
    "# 中心化\n",
    "xc = x - x.mean()\n",
    "xc\n",
    "yc = y-y.mean()\n",
    "yc"
   ]
  },
  {
   "cell_type": "code",
   "execution_count": 35,
   "id": "6e6f5417-3b3a-4fd6-b1d7-ab19998d1941",
   "metadata": {},
   "outputs": [
    {
     "data": {
      "text/plain": [
       "2.05"
      ]
     },
     "execution_count": 35,
     "metadata": {},
     "output_type": "execute_result"
    }
   ],
   "source": [
    "# パラメータaの計算を行う\n",
    "# 要素ごとの掛け算をまずは行う(要素積)\n",
    "xx = xc*xc\n",
    "xy = xc*yc\n",
    "\n",
    "# それぞれの合計を出す\n",
    "xx.sum()\n",
    "xy.sum()\n",
    "\n",
    "# 傾きa(パラメータ)の値を計算する\n",
    "a = xy.sum() / xx.sum()\n",
    "a"
   ]
  },
  {
   "cell_type": "code",
   "execution_count": null,
   "id": "6063ac22-bbbd-4611-8b0e-c5097f8a440f",
   "metadata": {},
   "outputs": [],
   "source": []
  },
  {
   "cell_type": "code",
   "execution_count": null,
   "id": "38bf1894-d27c-4d41-86b6-b36d11f35bf6",
   "metadata": {},
   "outputs": [],
   "source": []
  }
 ],
 "metadata": {
  "kernelspec": {
   "display_name": "Python 3 (ipykernel)",
   "language": "python",
   "name": "python3"
  },
  "language_info": {
   "codemirror_mode": {
    "name": "ipython",
    "version": 3
   },
   "file_extension": ".py",
   "mimetype": "text/x-python",
   "name": "python",
   "nbconvert_exporter": "python",
   "pygments_lexer": "ipython3",
   "version": "3.12.7"
  }
 },
 "nbformat": 4,
 "nbformat_minor": 5
}
