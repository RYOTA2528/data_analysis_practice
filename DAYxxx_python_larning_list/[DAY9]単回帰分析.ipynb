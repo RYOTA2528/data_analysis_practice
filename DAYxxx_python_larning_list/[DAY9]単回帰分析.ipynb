{
 "cells": [
  {
   "cell_type": "code",
   "execution_count": 1,
   "id": "4f8babce-e456-4f63-9f37-8ca0929602ae",
   "metadata": {},
   "outputs": [],
   "source": [
    "# 単回帰分析の学習（Numpy）\n",
    "import numpy as np"
   ]
  },
  {
   "cell_type": "code",
   "execution_count": 3,
   "id": "dc8a551b-1603-4c71-b7ca-b8a28e3242a3",
   "metadata": {},
   "outputs": [],
   "source": [
    "# ベクトルの定義\n",
    "x = np.array([1,2,3])\n",
    "y = np.array([2,3.9,6.1])"
   ]
  },
  {
   "cell_type": "code",
   "execution_count": 5,
   "id": "c35a236b-0d19-4b92-8cb7-1bc265debbb3",
   "metadata": {},
   "outputs": [
    {
     "data": {
      "text/plain": [
       "array([2. , 3.9, 6.1])"
      ]
     },
     "execution_count": 5,
     "metadata": {},
     "output_type": "execute_result"
    }
   ],
   "source": [
    "y"
   ]
  },
  {
   "cell_type": "code",
   "execution_count": 19,
   "id": "54c5dbf5-2ab4-4e50-8f1d-ac5b4798e71f",
   "metadata": {},
   "outputs": [
    {
     "data": {
      "text/plain": [
       "array([-2. , -0.1,  2.1])"
      ]
     },
     "execution_count": 19,
     "metadata": {},
     "output_type": "execute_result"
    }
   ],
   "source": [
    "# ステップ1:データの中心化を行う\n",
    "x.mean()\n",
    "y.mean()\n",
    "\n",
    "# 中心化\n",
    "xc = x - x.mean()\n",
    "xc\n",
    "yc = y-y.mean()\n",
    "yc"
   ]
  },
  {
   "cell_type": "code",
   "execution_count": 35,
   "id": "6e6f5417-3b3a-4fd6-b1d7-ab19998d1941",
   "metadata": {},
   "outputs": [
    {
     "data": {
      "text/plain": [
       "2.05"
      ]
     },
     "execution_count": 35,
     "metadata": {},
     "output_type": "execute_result"
    }
   ],
   "source": [
    "# パラメータaの計算を行う\n",
    "# 要素ごとの掛け算をまずは行う(要素積)\n",
    "xx = xc*xc\n",
    "xy = xc*yc\n",
    "\n",
    "# それぞれの合計を出す\n",
    "xx.sum()\n",
    "xy.sum()\n",
    "\n",
    "# 傾きa(パラメータ)の値を計算する\n",
    "a = xy.sum() / xx.sum()\n",
    "a"
   ]
  },
  {
   "cell_type": "code",
   "execution_count": 39,
   "id": "6063ac22-bbbd-4611-8b0e-c5097f8a440f",
   "metadata": {},
   "outputs": [],
   "source": [
    "# Pandasによるデータベース操作\n",
    "import pandas as pd"
   ]
  },
  {
   "cell_type": "code",
   "execution_count": 43,
   "id": "38bf1894-d27c-4d41-86b6-b36d11f35bf6",
   "metadata": {},
   "outputs": [],
   "source": [
    "# CSVファイルの読み込み\n",
    "# df:data.frame\n",
    "df = pd.read_csv('sample.csv')"
   ]
  },
  {
   "cell_type": "code",
   "execution_count": 45,
   "id": "f10a46bb-f3ac-4ae6-afc0-83fabe7b0904",
   "metadata": {},
   "outputs": [
    {
     "name": "stdout",
     "output_type": "stream",
     "text": [
      "         x         y\n",
      "0   40.362  137500.0\n",
      "1   40.686  132500.0\n",
      "2   38.430   93000.0\n",
      "3   36.822   96500.0\n",
      "4   37.002  100500.0\n",
      "..     ...       ...\n",
      "95  47.250  250000.0\n",
      "96  43.722  166500.0\n",
      "97  42.642  151500.0\n",
      "98  43.644  173000.0\n",
      "99  41.850  174500.0\n",
      "\n",
      "[100 rows x 2 columns]\n"
     ]
    }
   ],
   "source": [
    "print(df)"
   ]
  },
  {
   "cell_type": "code",
   "execution_count": 47,
   "id": "aa65bf8d-52c9-4084-a788-270efc4257bd",
   "metadata": {},
   "outputs": [
    {
     "data": {
      "text/html": [
       "<div>\n",
       "<style scoped>\n",
       "    .dataframe tbody tr th:only-of-type {\n",
       "        vertical-align: middle;\n",
       "    }\n",
       "\n",
       "    .dataframe tbody tr th {\n",
       "        vertical-align: top;\n",
       "    }\n",
       "\n",
       "    .dataframe thead th {\n",
       "        text-align: right;\n",
       "    }\n",
       "</style>\n",
       "<table border=\"1\" class=\"dataframe\">\n",
       "  <thead>\n",
       "    <tr style=\"text-align: right;\">\n",
       "      <th></th>\n",
       "      <th>x</th>\n",
       "      <th>y</th>\n",
       "    </tr>\n",
       "  </thead>\n",
       "  <tbody>\n",
       "    <tr>\n",
       "      <th>0</th>\n",
       "      <td>40.362</td>\n",
       "      <td>137500.0</td>\n",
       "    </tr>\n",
       "    <tr>\n",
       "      <th>1</th>\n",
       "      <td>40.686</td>\n",
       "      <td>132500.0</td>\n",
       "    </tr>\n",
       "    <tr>\n",
       "      <th>2</th>\n",
       "      <td>38.430</td>\n",
       "      <td>93000.0</td>\n",
       "    </tr>\n",
       "    <tr>\n",
       "      <th>3</th>\n",
       "      <td>36.822</td>\n",
       "      <td>96500.0</td>\n",
       "    </tr>\n",
       "    <tr>\n",
       "      <th>4</th>\n",
       "      <td>37.002</td>\n",
       "      <td>100500.0</td>\n",
       "    </tr>\n",
       "    <tr>\n",
       "      <th>...</th>\n",
       "      <td>...</td>\n",
       "      <td>...</td>\n",
       "    </tr>\n",
       "    <tr>\n",
       "      <th>95</th>\n",
       "      <td>47.250</td>\n",
       "      <td>250000.0</td>\n",
       "    </tr>\n",
       "    <tr>\n",
       "      <th>96</th>\n",
       "      <td>43.722</td>\n",
       "      <td>166500.0</td>\n",
       "    </tr>\n",
       "    <tr>\n",
       "      <th>97</th>\n",
       "      <td>42.642</td>\n",
       "      <td>151500.0</td>\n",
       "    </tr>\n",
       "    <tr>\n",
       "      <th>98</th>\n",
       "      <td>43.644</td>\n",
       "      <td>173000.0</td>\n",
       "    </tr>\n",
       "    <tr>\n",
       "      <th>99</th>\n",
       "      <td>41.850</td>\n",
       "      <td>174500.0</td>\n",
       "    </tr>\n",
       "  </tbody>\n",
       "</table>\n",
       "<p>100 rows × 2 columns</p>\n",
       "</div>"
      ],
      "text/plain": [
       "         x         y\n",
       "0   40.362  137500.0\n",
       "1   40.686  132500.0\n",
       "2   38.430   93000.0\n",
       "3   36.822   96500.0\n",
       "4   37.002  100500.0\n",
       "..     ...       ...\n",
       "95  47.250  250000.0\n",
       "96  43.722  166500.0\n",
       "97  42.642  151500.0\n",
       "98  43.644  173000.0\n",
       "99  41.850  174500.0\n",
       "\n",
       "[100 rows x 2 columns]"
      ]
     },
     "execution_count": 47,
     "metadata": {},
     "output_type": "execute_result"
    }
   ],
   "source": [
    "df"
   ]
  },
  {
   "cell_type": "code",
   "execution_count": 49,
   "id": "69b93529-e9ca-4f49-81a5-4d76a54af083",
   "metadata": {},
   "outputs": [
    {
     "data": {
      "text/html": [
       "<div>\n",
       "<style scoped>\n",
       "    .dataframe tbody tr th:only-of-type {\n",
       "        vertical-align: middle;\n",
       "    }\n",
       "\n",
       "    .dataframe tbody tr th {\n",
       "        vertical-align: top;\n",
       "    }\n",
       "\n",
       "    .dataframe thead th {\n",
       "        text-align: right;\n",
       "    }\n",
       "</style>\n",
       "<table border=\"1\" class=\"dataframe\">\n",
       "  <thead>\n",
       "    <tr style=\"text-align: right;\">\n",
       "      <th></th>\n",
       "      <th>x</th>\n",
       "      <th>y</th>\n",
       "    </tr>\n",
       "  </thead>\n",
       "  <tbody>\n",
       "    <tr>\n",
       "      <th>0</th>\n",
       "      <td>40.362</td>\n",
       "      <td>137500.0</td>\n",
       "    </tr>\n",
       "    <tr>\n",
       "      <th>1</th>\n",
       "      <td>40.686</td>\n",
       "      <td>132500.0</td>\n",
       "    </tr>\n",
       "    <tr>\n",
       "      <th>2</th>\n",
       "      <td>38.430</td>\n",
       "      <td>93000.0</td>\n",
       "    </tr>\n",
       "    <tr>\n",
       "      <th>3</th>\n",
       "      <td>36.822</td>\n",
       "      <td>96500.0</td>\n",
       "    </tr>\n",
       "    <tr>\n",
       "      <th>4</th>\n",
       "      <td>37.002</td>\n",
       "      <td>100500.0</td>\n",
       "    </tr>\n",
       "  </tbody>\n",
       "</table>\n",
       "</div>"
      ],
      "text/plain": [
       "        x         y\n",
       "0  40.362  137500.0\n",
       "1  40.686  132500.0\n",
       "2  38.430   93000.0\n",
       "3  36.822   96500.0\n",
       "4  37.002  100500.0"
      ]
     },
     "execution_count": 49,
     "metadata": {},
     "output_type": "execute_result"
    }
   ],
   "source": [
    "df.head()"
   ]
  },
  {
   "cell_type": "code",
   "execution_count": 70,
   "id": "4323e4af-c471-40d9-a64e-8ebae648dd47",
   "metadata": {},
   "outputs": [],
   "source": [
    "# データの抽出\n",
    "x = df['x'] #部屋の広さ\n",
    "y = df['y'] #家賃"
   ]
  },
  {
   "cell_type": "markdown",
   "id": "a4387b1f-ff75-44f8-b41b-5035d8c7d5cd",
   "metadata": {},
   "source": [
    "# Matplotlib: グラフの描画"
   ]
  },
  {
   "cell_type": "code",
   "execution_count": 56,
   "id": "71af2be3-311a-4119-babc-80ba0d3684ac",
   "metadata": {},
   "outputs": [],
   "source": [
    "import matplotlib.pyplot as plt"
   ]
  },
  {
   "cell_type": "code",
   "execution_count": 72,
   "id": "728f8119-dcb3-4741-998e-14bfac5a9174",
   "metadata": {},
   "outputs": [
    {
     "data": {
      "text/plain": [
       "<matplotlib.collections.PathCollection at 0x26e1ad97440>"
      ]
     },
     "execution_count": 72,
     "metadata": {},
     "output_type": "execute_result"
    },
    {
     "data": {
      "image/png": "[encoded data removed]",
      "text/plain": [
       "<Figure size 640x480 with 1 Axes>"
      ]
     },
     "metadata": {},
     "output_type": "display_data"
    }
   ],
   "source": [
    "# 横軸をx,縦軸をyの散布図(scatter)をプロット\n",
    "plt.scatter(x,y)"
   ]
  },
  {
   "cell_type": "code",
   "execution_count": 68,
   "id": "e31d806a-e602-48a3-8c24-33fd961a4671",
   "metadata": {},
   "outputs": [],
   "source": [
    "plt.show()"
   ]
  },
  {
   "cell_type": "code",
   "execution_count": null,
   "id": "b8eb484a-5754-4b1a-8d99-b0c8682c69cb",
   "metadata": {},
   "outputs": [],
   "source": []
  }
 ],
 "metadata": {
  "kernelspec": {
   "display_name": "Python 3 (ipykernel)",
   "language": "python",
   "name": "python3"
  },
  "language_info": {
   "codemirror_mode": {
    "name": "ipython",
    "version": 3
   },
   "file_extension": ".py",
   "mimetype": "text/x-python",
   "name": "python",
   "nbconvert_exporter": "python",
   "pygments_lexer": "ipython3",
   "version": "3.12.7"
  }
 },
 "nbformat": 4,
 "nbformat_minor": 5
}
