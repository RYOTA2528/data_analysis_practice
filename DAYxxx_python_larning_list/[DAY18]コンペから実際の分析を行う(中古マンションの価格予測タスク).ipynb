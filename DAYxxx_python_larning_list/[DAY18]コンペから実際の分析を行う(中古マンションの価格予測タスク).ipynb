{
 "cells": [
  {
   "cell_type": "markdown",
   "id": "c3f59731-a3fc-4375-a1f2-0706bd7f857b",
   "metadata": {},
   "source": [
    "# ”Nishika”より「中古マンションの価格予測タスク」コンペにて分析"
   ]
  },
  {
   "cell_type": "markdown",
   "id": "77bac540-6d03-41c5-a420-f8b57c540136",
   "metadata": {},
   "source": [
    "## 簡易概要\n",
    "- 本コンペティションのテーマは国内の中古マンションの価格推定\n",
    "- 目的変数は、取引価格（総額）について常用対数をとった、「取引価格（総額）_log」\n",
    "- 予測精度の評価はMAE(予測値)\n",
    "$$\n",
    "\\text{MAE} = \\frac{1}{n} \\sum_{i=1}^{n} |y_i - \\hat{y}_i|\n",
    "$$"
   ]
  },
  {
   "cell_type": "code",
   "execution_count": null,
   "id": "e1799758-93d0-4bb3-88e5-2ed505c171d1",
   "metadata": {},
   "outputs": [],
   "source": []
  }
 ],
 "metadata": {
  "kernelspec": {
   "display_name": "Python 3 (ipykernel)",
   "language": "python",
   "name": "python3"
  },
  "language_info": {
   "codemirror_mode": {
    "name": "ipython",
    "version": 3
   },
   "file_extension": ".py",
   "mimetype": "text/x-python",
   "name": "python",
   "nbconvert_exporter": "python",
   "pygments_lexer": "ipython3",
   "version": "3.12.7"
  }
 },
 "nbformat": 4,
 "nbformat_minor": 5
}
