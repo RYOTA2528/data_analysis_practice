{
 "cells": [
  {
   "cell_type": "code",
   "execution_count": 3,
   "id": "89120b06-dbef-4251-8973-49481cfb386b",
   "metadata": {},
   "outputs": [],
   "source": [
    "# \n",
    "num_list = []\n",
    "for i in range(11):\n",
    "    num_list.append(i**2)"
   ]
  },
  {
   "cell_type": "code",
   "execution_count": 5,
   "id": "3daa10a3-3d4e-4f05-ab7f-9d7af67c867f",
   "metadata": {},
   "outputs": [
    {
     "data": {
      "text/plain": [
       "[0, 1, 4, 9, 16, 25, 36, 49, 64, 81, 100]"
      ]
     },
     "execution_count": 5,
     "metadata": {},
     "output_type": "execute_result"
    }
   ],
   "source": [
    "num_list"
   ]
  },
  {
   "cell_type": "code",
   "execution_count": 7,
   "id": "cc956280-a969-4737-9621-4cf43b02f109",
   "metadata": {},
   "outputs": [],
   "source": [
    "# 上記と同じ\n",
    "num_list2 = [i ** 2 for i in range(11)]"
   ]
  },
  {
   "cell_type": "code",
   "execution_count": 9,
   "id": "b3026a52-dfd5-42d2-939a-65de8ed96189",
   "metadata": {},
   "outputs": [
    {
     "data": {
      "text/plain": [
       "[0, 1, 4, 9, 16, 25, 36, 49, 64, 81, 100]"
      ]
     },
     "execution_count": 9,
     "metadata": {},
     "output_type": "execute_result"
    }
   ],
   "source": [
    "num_list2"
   ]
  },
  {
   "cell_type": "code",
   "execution_count": 11,
   "id": "f4c6bd7a-e1ae-425c-a8ad-8700c9bafbf5",
   "metadata": {},
   "outputs": [],
   "source": [
    "import os"
   ]
  },
  {
   "cell_type": "code",
   "execution_count": 13,
   "id": "a6256b5e-4be6-4853-969d-e35ddfa85e51",
   "metadata": {},
   "outputs": [],
   "source": [
    "fileList = os.listdir()"
   ]
  },
  {
   "cell_type": "code",
   "execution_count": 17,
   "id": "fc1b5aa9-6432-4b67-9dc1-62a5408433ba",
   "metadata": {},
   "outputs": [
    {
     "data": {
      "text/plain": [
       "['.git',\n",
       " '.ipynb_checkpoints',\n",
       " 'output.txt',\n",
       " 'resources',\n",
       " 'sample.txt',\n",
       " '[DAY1]python_practice.ipynb',\n",
       " '[DAY2]Listing_inclusions_notation.ipynb',\n",
       " '[DAY2]numpy_practice.ipynb',\n",
       " '[DAY2]os_module_practice.ipynb']"
      ]
     },
     "execution_count": 17,
     "metadata": {},
     "output_type": "execute_result"
    }
   ],
   "source": [
    "fileList"
   ]
  },
  {
   "cell_type": "code",
   "execution_count": 19,
   "id": "7d5e3ff0-6386-407f-b310-84ec629219af",
   "metadata": {},
   "outputs": [],
   "source": [
    "txtList = [i for i in fileList if i[-4:] == \".txt\"]"
   ]
  },
  {
   "cell_type": "code",
   "execution_count": 21,
   "id": "ce27702b-4b85-4694-80a3-ddf00d73041a",
   "metadata": {},
   "outputs": [
    {
     "data": {
      "text/plain": [
       "['output.txt', 'sample.txt']"
      ]
     },
     "execution_count": 21,
     "metadata": {},
     "output_type": "execute_result"
    }
   ],
   "source": [
    "txtList"
   ]
  },
  {
   "cell_type": "code",
   "execution_count": null,
   "id": "6c3c1557-829f-4957-a988-85c14b179748",
   "metadata": {},
   "outputs": [],
   "source": [
    "# リスト内包表記を使うことで1行にできる"
   ]
  }
 ],
 "metadata": {
  "kernelspec": {
   "display_name": "Python 3 (ipykernel)",
   "language": "python",
   "name": "python3"
  },
  "language_info": {
   "codemirror_mode": {
    "name": "ipython",
    "version": 3
   },
   "file_extension": ".py",
   "mimetype": "text/x-python",
   "name": "python",
   "nbconvert_exporter": "python",
   "pygments_lexer": "ipython3",
   "version": "3.12.7"
  }
 },
 "nbformat": 4,
 "nbformat_minor": 5
}
