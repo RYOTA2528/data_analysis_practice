{
 "cells": [
  {
   "cell_type": "code",
   "execution_count": 1,
   "id": "5766e4a0-908e-4494-8090-8958028ccaf2",
   "metadata": {},
   "outputs": [],
   "source": [
    "import numpy as np\n",
    "import pandas as pd"
   ]
  },
  {
   "cell_type": "code",
   "execution_count": 5,
   "id": "f4562749-96ae-4405-a450-47874ca87177",
   "metadata": {},
   "outputs": [],
   "source": [
    "S1 = pd.Series(np.arange(4))"
   ]
  },
  {
   "cell_type": "code",
   "execution_count": 7,
   "id": "c9f1f8be-fbcd-4636-ad5d-59556fb09a0f",
   "metadata": {},
   "outputs": [
    {
     "data": {
      "text/plain": [
       "0    0\n",
       "1    1\n",
       "2    2\n",
       "3    3\n",
       "dtype: int32"
      ]
     },
     "execution_count": 7,
     "metadata": {},
     "output_type": "execute_result"
    }
   ],
   "source": [
    "S1"
   ]
  },
  {
   "cell_type": "code",
   "execution_count": 9,
   "id": "af11f89e-2b7d-46fb-a635-c71232d0b8ce",
   "metadata": {},
   "outputs": [
    {
     "data": {
      "text/plain": [
       "RangeIndex(start=0, stop=4, step=1)"
      ]
     },
     "execution_count": 9,
     "metadata": {},
     "output_type": "execute_result"
    }
   ],
   "source": [
    "S1.index"
   ]
  },
  {
   "cell_type": "code",
   "execution_count": 11,
   "id": "63743ee1-35fa-4a81-9440-12e2c86fe3ef",
   "metadata": {},
   "outputs": [
    {
     "data": {
      "text/plain": [
       "array([0, 1, 2, 3])"
      ]
     },
     "execution_count": 11,
     "metadata": {},
     "output_type": "execute_result"
    }
   ],
   "source": [
    "S1.values"
   ]
  },
  {
   "cell_type": "code",
   "execution_count": 15,
   "id": "046e1775-bc39-437b-9a66-93eb75fee8f2",
   "metadata": {},
   "outputs": [],
   "source": [
    "#簡単にインデックスの変更も可\n",
    "S2 = pd.Series([1,2,3,4], index = [\"a\", \"b\", \"c\", \"d\"])\n"
   ]
  },
  {
   "cell_type": "code",
   "execution_count": 17,
   "id": "24a88e37-92c6-44bf-a887-c129aa9bc605",
   "metadata": {},
   "outputs": [
    {
     "data": {
      "text/plain": [
       "a    1\n",
       "b    2\n",
       "c    3\n",
       "d    4\n",
       "dtype: int64"
      ]
     },
     "execution_count": 17,
     "metadata": {},
     "output_type": "execute_result"
    }
   ],
   "source": [
    "S2"
   ]
  },
  {
   "cell_type": "code",
   "execution_count": 19,
   "id": "6f57a21c-aea4-44dd-9720-bd0365574546",
   "metadata": {},
   "outputs": [
    {
     "data": {
      "text/plain": [
       "1"
      ]
     },
     "execution_count": 19,
     "metadata": {},
     "output_type": "execute_result"
    }
   ],
   "source": [
    "S2[\"a\"]"
   ]
  },
  {
   "cell_type": "code",
   "execution_count": 21,
   "id": "5d4163cb-30e1-4668-bdf2-8e58aede530e",
   "metadata": {},
   "outputs": [
    {
     "data": {
      "text/plain": [
       "[1, 2, 3, 4]"
      ]
     },
     "execution_count": 21,
     "metadata": {},
     "output_type": "execute_result"
    }
   ],
   "source": [
    "list(S2)"
   ]
  },
  {
   "cell_type": "code",
   "execution_count": null,
   "id": "b27a92b8-57d7-4e0d-8943-8f17a9e5cbc6",
   "metadata": {},
   "outputs": [],
   "source": [
    "# ディクショナリからSeriesを作成してみる\n",
    "num_dict = [\"a\":1, \"b\":2, \"c\":3]"
   ]
  }
 ],
 "metadata": {
  "kernelspec": {
   "display_name": "Python 3 (ipykernel)",
   "language": "python",
   "name": "python3"
  },
  "language_info": {
   "codemirror_mode": {
    "name": "ipython",
    "version": 3
   },
   "file_extension": ".py",
   "mimetype": "text/x-python",
   "name": "python",
   "nbconvert_exporter": "python",
   "pygments_lexer": "ipython3",
   "version": "3.12.7"
  }
 },
 "nbformat": 4,
 "nbformat_minor": 5
}
