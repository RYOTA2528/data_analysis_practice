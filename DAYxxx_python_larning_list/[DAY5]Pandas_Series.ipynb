{
 "cells": [
  {
   "cell_type": "code",
   "execution_count": 1,
   "id": "5766e4a0-908e-4494-8090-8958028ccaf2",
   "metadata": {},
   "outputs": [],
   "source": [
    "import numpy as np\n",
    "import pandas as pd"
   ]
  },
  {
   "cell_type": "code",
   "execution_count": 5,
   "id": "f4562749-96ae-4405-a450-47874ca87177",
   "metadata": {},
   "outputs": [],
   "source": [
    "S1 = pd.Series(np.arange(4))"
   ]
  },
  {
   "cell_type": "code",
   "execution_count": 7,
   "id": "c9f1f8be-fbcd-4636-ad5d-59556fb09a0f",
   "metadata": {},
   "outputs": [
    {
     "data": {
      "text/plain": [
       "0    0\n",
       "1    1\n",
       "2    2\n",
       "3    3\n",
       "dtype: int32"
      ]
     },
     "execution_count": 7,
     "metadata": {},
     "output_type": "execute_result"
    }
   ],
   "source": [
    "S1"
   ]
  },
  {
   "cell_type": "code",
   "execution_count": 9,
   "id": "af11f89e-2b7d-46fb-a635-c71232d0b8ce",
   "metadata": {},
   "outputs": [
    {
     "data": {
      "text/plain": [
       "RangeIndex(start=0, stop=4, step=1)"
      ]
     },
     "execution_count": 9,
     "metadata": {},
     "output_type": "execute_result"
    }
   ],
   "source": [
    "S1.index"
   ]
  },
  {
   "cell_type": "code",
   "execution_count": 11,
   "id": "63743ee1-35fa-4a81-9440-12e2c86fe3ef",
   "metadata": {},
   "outputs": [
    {
     "data": {
      "text/plain": [
       "array([0, 1, 2, 3])"
      ]
     },
     "execution_count": 11,
     "metadata": {},
     "output_type": "execute_result"
    }
   ],
   "source": [
    "S1.values"
   ]
  },
  {
   "cell_type": "code",
   "execution_count": 15,
   "id": "046e1775-bc39-437b-9a66-93eb75fee8f2",
   "metadata": {},
   "outputs": [],
   "source": [
    "#簡単にインデックスの変更も可\n",
    "S2 = pd.Series([1,2,3,4], index = [\"a\", \"b\", \"c\", \"d\"])\n"
   ]
  },
  {
   "cell_type": "code",
   "execution_count": 17,
   "id": "24a88e37-92c6-44bf-a887-c129aa9bc605",
   "metadata": {},
   "outputs": [
    {
     "data": {
      "text/plain": [
       "a    1\n",
       "b    2\n",
       "c    3\n",
       "d    4\n",
       "dtype: int64"
      ]
     },
     "execution_count": 17,
     "metadata": {},
     "output_type": "execute_result"
    }
   ],
   "source": [
    "S2"
   ]
  },
  {
   "cell_type": "code",
   "execution_count": 19,
   "id": "6f57a21c-aea4-44dd-9720-bd0365574546",
   "metadata": {},
   "outputs": [
    {
     "data": {
      "text/plain": [
       "1"
      ]
     },
     "execution_count": 19,
     "metadata": {},
     "output_type": "execute_result"
    }
   ],
   "source": [
    "S2[\"a\"]"
   ]
  },
  {
   "cell_type": "code",
   "execution_count": 21,
   "id": "5d4163cb-30e1-4668-bdf2-8e58aede530e",
   "metadata": {},
   "outputs": [
    {
     "data": {
      "text/plain": [
       "[1, 2, 3, 4]"
      ]
     },
     "execution_count": 21,
     "metadata": {},
     "output_type": "execute_result"
    }
   ],
   "source": [
    "list(S2)"
   ]
  },
  {
   "cell_type": "code",
   "execution_count": 23,
   "id": "b27a92b8-57d7-4e0d-8943-8f17a9e5cbc6",
   "metadata": {},
   "outputs": [],
   "source": [
    "# ディクショナリからSeriesを作成してみる\n",
    "num_dict = {\"a\":1, \"b\":2, \"c\":3}"
   ]
  },
  {
   "cell_type": "code",
   "execution_count": 25,
   "id": "5e1c4aba-39fc-4f28-a089-73dbc3b9e896",
   "metadata": {},
   "outputs": [
    {
     "data": {
      "text/plain": [
       "a    1\n",
       "b    2\n",
       "c    3\n",
       "dtype: int64"
      ]
     },
     "execution_count": 25,
     "metadata": {},
     "output_type": "execute_result"
    }
   ],
   "source": [
    "pd.Series(num_dict)"
   ]
  },
  {
   "cell_type": "code",
   "execution_count": 27,
   "id": "2361c4ec-a467-4bec-b72c-79740258bb38",
   "metadata": {},
   "outputs": [],
   "source": [
    "S3 = pd.Series([])"
   ]
  },
  {
   "cell_type": "code",
   "execution_count": 29,
   "id": "6c74ba56-77a2-4b46-9735-6c2d80578fae",
   "metadata": {},
   "outputs": [],
   "source": [
    "S3[\"a\"] = 1"
   ]
  },
  {
   "cell_type": "code",
   "execution_count": 31,
   "id": "5f22479e-c61b-4a67-9008-a544270bef2c",
   "metadata": {},
   "outputs": [
    {
     "data": {
      "text/plain": [
       "a    1\n",
       "dtype: int64"
      ]
     },
     "execution_count": 31,
     "metadata": {},
     "output_type": "execute_result"
    }
   ],
   "source": [
    "S3"
   ]
  },
  {
   "cell_type": "code",
   "execution_count": 33,
   "id": "f1e62bf8-5aaf-4e3e-9076-7eb1df33bbe2",
   "metadata": {},
   "outputs": [],
   "source": [
    "S3[\"b\"] = -1"
   ]
  },
  {
   "cell_type": "code",
   "execution_count": 35,
   "id": "26c6471e-28d2-4ad1-8ee8-88718b34d04d",
   "metadata": {},
   "outputs": [
    {
     "data": {
      "text/plain": [
       "a    1\n",
       "b   -1\n",
       "dtype: int64"
      ]
     },
     "execution_count": 35,
     "metadata": {},
     "output_type": "execute_result"
    }
   ],
   "source": [
    "S3"
   ]
  },
  {
   "cell_type": "code",
   "execution_count": null,
   "id": "e4d7ae55-cb13-4b38-8390-ae4b6bb76628",
   "metadata": {},
   "outputs": [],
   "source": []
  }
 ],
 "metadata": {
  "kernelspec": {
   "display_name": "Python 3 (ipykernel)",
   "language": "python",
   "name": "python3"
  },
  "language_info": {
   "codemirror_mode": {
    "name": "ipython",
    "version": 3
   },
   "file_extension": ".py",
   "mimetype": "text/x-python",
   "name": "python",
   "nbconvert_exporter": "python",
   "pygments_lexer": "ipython3",
   "version": "3.12.7"
  }
 },
 "nbformat": 4,
 "nbformat_minor": 5
}
