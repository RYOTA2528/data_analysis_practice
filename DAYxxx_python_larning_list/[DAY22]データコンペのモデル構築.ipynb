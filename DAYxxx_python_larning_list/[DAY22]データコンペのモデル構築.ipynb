{
  "nbformat": 4,
  "nbformat_minor": 0,
  "metadata": {
    "colab": {
      "provenance": [],
      "authorship_tag": "ABX9TyPTYJ1YTaO59bAX4RD0uSu7",
      "include_colab_link": true
    },
    "kernelspec": {
      "name": "python3",
      "display_name": "Python 3"
    },
    "language_info": {
      "name": "python"
    }
  },
  "cells": [
    {
      "cell_type": "markdown",
      "metadata": {
        "id": "view-in-github",
        "colab_type": "text"
      },
      "source": [
        "<a href=\"https://colab.research.google.com/github/RYOTA2528/data_analysis_practice/blob/main/%5BDAY21%5D%E3%83%87%E3%83%BC%E3%82%BF%E3%82%B3%E3%83%B3%E3%83%9A%E3%81%AE%E3%83%A2%E3%83%87%E3%83%AB%E6%A7%8B%E7%AF%89_ipynb.ipynb\" target=\"_parent\"><img src=\"https://colab.research.google.com/assets/colab-badge.svg\" alt=\"Open In Colab\"/></a>"
      ]
    },
    {
      "cell_type": "code",
      "execution_count": 1,
      "metadata": {
        "colab": {
          "base_uri": "https://localhost:8080/"
        },
        "id": "Dojoh5al1xJa",
        "outputId": "df7d33ef-9658-4dd7-e53b-bc7ea8094043"
      },
      "outputs": [
        {
          "output_type": "stream",
          "name": "stdout",
          "text": [
            "Mounted at /content/drive\n"
          ]
        }
      ],
      "source": [
        "from google.colab import drive\n",
        "drive.mount('/content/drive')"
      ]
    },
    {
      "cell_type": "code",
      "source": [
        "import glob #ファイルのパターン検索\n",
        "import pandas as pd\n",
        "import numpy as np\n",
        "import matplotlib.pyplot as plt\n",
        "import seaborn as sns"
      ],
      "metadata": {
        "id": "XT3epnK_11PS"
      },
      "execution_count": 2,
      "outputs": []
    },
    {
      "cell_type": "code",
      "source": [
        "files = glob.glob(\"/content/drive/MyDrive/データコンペ用/data/train/train/*.csv\") #ファイルの一括読み込み\n",
        "# csvファイルの読み込み\n",
        "data_list = []\n",
        "for file in files:\n",
        "  data_list.append(pd.read_csv(file, index_col=0)) #index_col=0で0列目をインデックス\n",
        "df = pd.concat(data_list)"
      ],
      "metadata": {
        "colab": {
          "base_uri": "https://localhost:8080/"
        },
        "id": "bZSgFSt62K7y",
        "outputId": "dd85e191-2353-47f1-9d12-d579c53f6d88"
      },
      "execution_count": 3,
      "outputs": [
        {
          "output_type": "stream",
          "name": "stderr",
          "text": [
            "<ipython-input-3-a1d04737cdb3>:5: DtypeWarning: Columns (10) have mixed types. Specify dtype option on import or set low_memory=False.\n",
            "  data_list.append(pd.read_csv(file, index_col=0)) #index_col=0で0列目をインデックス\n",
            "<ipython-input-3-a1d04737cdb3>:5: DtypeWarning: Columns (10) have mixed types. Specify dtype option on import or set low_memory=False.\n",
            "  data_list.append(pd.read_csv(file, index_col=0)) #index_col=0で0列目をインデックス\n"
          ]
        }
      ]
    },
    {
      "cell_type": "code",
      "source": [
        "# データクレンジングを施した処理の関数化\n",
        "def data_pre(df):\n",
        "  # nullを除外する\n",
        "  null_list = []\n",
        "  for col in df.columns:\n",
        "    nonnull = df[col].count() #count()でnullは0と表示されるため\n",
        "    if nonnull == 0:\n",
        "      null_list.append(col)\n",
        "  df = df.drop(null_list, axis = 1) # axsis=1で列から除外\n",
        "\n",
        "  # 上記の結果、市区町村・市区町村コードが同じデータであることがわかる\n",
        "  # 市区町村コードだけ残します\n",
        "  df = df.drop(\"市区町村名\", axis=1)\n",
        "  # 種類も削除します\n",
        "  df = df.drop(\"種類\", axis=1)\n",
        "\n",
        "  # \"最寄駅：距離（分）\" の中の文字列を一括でfloat型にかえる\n",
        "  dis = {\n",
        "      \"30分?60分\": 45,\n",
        "      \"1H?1H30\": 75,\n",
        "      \"2H?\": 120,\n",
        "      \"1H30?2H\": 105\n",
        "  }\n",
        "\n",
        "  df[\"最寄駅：距離（分）\"] = df[\"最寄駅：距離（分）\"].replace(dis).astype(float)\n",
        "  df[\"最寄駅：距離（分）\"].value_counts()\n",
        "\n",
        "  # 面積を変換\n",
        "  df[\"面積（㎡）\"] = df[\"面積（㎡）\"].replace(\"2000㎡以上\", 2000).astype(float)\n",
        "\n",
        "  # 建築年数を西暦に変換\n",
        "  y_list = {}\n",
        "  for i in df[\"建築年\"].value_counts().keys(): #keyを一つずつ取り出す\n",
        "    if \"平成\" in i: #iの中に平成があれば\n",
        "      num = float(i.split(\"平成\")[1].split(\"年\")[0]) #数字を取り出し格納\n",
        "      year = 1988 + num #平成なので1988年に足す\n",
        "    elif \"令和\" in i:\n",
        "      num = float(i.split(\"令和\")[1].split(\"年\")[0])\n",
        "      year = 2018 + num\n",
        "    elif \"昭和\" in i:\n",
        "      num = float(i.split(\"昭和\")[1].split(\"年\")[0])\n",
        "      year = 1925 + num\n",
        "\n",
        "    y_list[i] = year\n",
        "\n",
        "  y_list[\"戦前\"] = 1945\n",
        "\n",
        "  y_list\n",
        "\n",
        "  df[\"建築年\"] = df[\"建築年\"].replace(y_list)\n",
        "\n",
        "  # 取引時点の〇四半期をfloat型に直す処理\n",
        "  year = {\n",
        "      \"年第１四半期\": \".25\",\n",
        "      \"年第２四半期\": \".50\",\n",
        "      \"年第３四半期\": \".75\",\n",
        "      \"年第４四半期\": \".99\"\n",
        "  }\n",
        "\n",
        "  year_list = {}\n",
        "  for i in df[\"取引時点\"].value_counts().keys():\n",
        "    for k, j in year.items(): #year辞書の一つ一つをとりだす\n",
        "      if k in i: #iにkが入っていたら\n",
        "        year_rep = i.replace(k, j)\n",
        "    year_list[i] = year_rep\n",
        "\n",
        "    year_list[i]\n",
        "\n",
        "  df[\"取引時点\"] = df[\"取引時点\"].replace(year_list).astype(float)\n",
        "\n",
        "  # 特徴量（新たなカラム）を追加する\n",
        "  df[\"築年数\"] = df[\"取引時点\"] - df[\"建築年\"]\n",
        "\n",
        "  # lightbgmではobject型の読み込みができないため、cate\n",
        "  # カテゴリカルデータの変換\n",
        "  for col in [\"種類\", \"都道府県名\", \"市区町村名\", \"地区名\", \"最寄駅：名称\", \"最寄駅：距離（分）\",\n",
        "              \"間取り\", \"面積（㎡）\", \"建築年\", \"建物の構造\", \"用途\", \"今後の利用目的\",\n",
        "              \"都市計画\", \"取引時点\", \"改装\", \"取引の事情等\"]:\n",
        "      df[col] = df[col].astype('category')\n",
        "\n",
        "  return df"
      ],
      "metadata": {
        "id": "A8H0jTuJ2OV5"
      },
      "execution_count": 4,
      "outputs": []
    },
    {
      "cell_type": "code",
      "source": [],
      "metadata": {
        "id": "IU4nrk012bfr"
      },
      "execution_count": null,
      "outputs": []
    }
  ]
}