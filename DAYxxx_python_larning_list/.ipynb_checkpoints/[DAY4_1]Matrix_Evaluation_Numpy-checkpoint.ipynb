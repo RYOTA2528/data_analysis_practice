{
 "cells": [
  {
   "cell_type": "code",
   "execution_count": 1,
   "id": "c7228c41-5756-464c-954a-6afdada6a725",
   "metadata": {},
   "outputs": [],
   "source": [
    "import numpy as np"
   ]
  },
  {
   "cell_type": "code",
   "execution_count": 3,
   "id": "30acee5f-b90f-4519-8944-bd1a56e49773",
   "metadata": {},
   "outputs": [],
   "source": [
    "#元の配列を5行2列の形に変換\n",
    "arr1 = np.arange(10).reshape(5, 2) "
   ]
  },
  {
   "cell_type": "code",
   "execution_count": 5,
   "id": "c07235fd-fa8b-47c3-99ff-885e40497825",
   "metadata": {},
   "outputs": [
    {
     "data": {
      "text/plain": [
       "array([[0, 1],\n",
       "       [2, 3],\n",
       "       [4, 5],\n",
       "       [6, 7],\n",
       "       [8, 9]])"
      ]
     },
     "execution_count": 5,
     "metadata": {},
     "output_type": "execute_result"
    }
   ],
   "source": [
    "arr1"
   ]
  },
  {
   "cell_type": "code",
   "execution_count": 7,
   "id": "af309161-f57b-4cb4-a5d6-95041068ee99",
   "metadata": {},
   "outputs": [
    {
     "name": "stdout",
     "output_type": "stream",
     "text": [
      "arr1:\n",
      "[[0 1]\n",
      " [2 3]\n",
      " [4 5]\n",
      " [6 7]\n",
      " [8 9]]\n",
      "\n",
      "配列の平均値: 4.5\n"
     ]
    }
   ],
   "source": [
    "# 配列の内容を表示\n",
    "print(\"arr1:\")\n",
    "print(arr1)\n",
    "\n",
    "# 配列の平均値を計算して表示\n",
    "mean_value = arr1.mean()\n",
    "print(\"\\n配列の平均値:\", mean_value)"
   ]
  },
  {
   "cell_type": "code",
   "execution_count": 17,
   "id": "ace41531-0bb5-49b3-980d-834507eec25c",
   "metadata": {},
   "outputs": [
    {
     "data": {
      "text/plain": [
       "array([4., 5.])"
      ]
     },
     "execution_count": 17,
     "metadata": {},
     "output_type": "execute_result"
    }
   ],
   "source": [
    "#これで列方向に平均をとる\n",
    "arr1.mean(axis=0)"
   ]
  },
  {
   "cell_type": "code",
   "execution_count": 23,
   "id": "6493d115-d214-4fe2-b727-2728edb80e97",
   "metadata": {},
   "outputs": [
    {
     "data": {
      "text/plain": [
       "array([0.5, 2.5, 4.5, 6.5, 8.5])"
      ]
     },
     "execution_count": 23,
     "metadata": {},
     "output_type": "execute_result"
    }
   ],
   "source": [
    "#これで行方向に平均とる\n",
    "arr1.mean(axis=1)"
   ]
  },
  {
   "cell_type": "code",
   "execution_count": 27,
   "id": "84ddcaf8-cd94-4b72-85b4-5a20cd24273d",
   "metadata": {},
   "outputs": [
    {
     "data": {
      "text/plain": [
       "2.8722813232690143"
      ]
     },
     "execution_count": 27,
     "metadata": {},
     "output_type": "execute_result"
    }
   ],
   "source": [
    "# 標準偏差\n",
    "arr1.std()"
   ]
  },
  {
   "cell_type": "code",
   "execution_count": 29,
   "id": "e78d4ae7-6636-42a1-b500-9372a3177568",
   "metadata": {},
   "outputs": [
    {
     "data": {
      "text/plain": [
       "3.0276503540974917"
      ]
     },
     "execution_count": 29,
     "metadata": {},
     "output_type": "execute_result"
    }
   ],
   "source": [
    "# 標本標準偏差\n",
    "arr1.std(ddof=1)"
   ]
  },
  {
   "cell_type": "code",
   "execution_count": 31,
   "id": "3bcc2d32-5403-4252-982d-8ad2e9bed8cd",
   "metadata": {},
   "outputs": [],
   "source": [
    "arr2 = np.random.randn(100) #平均値0標準偏差1の標準化された乱数を発生させる（１００個分）"
   ]
  },
  {
   "cell_type": "code",
   "execution_count": 33,
   "id": "66a6f3a7-0eef-44cc-9c1a-fba1b006fcf6",
   "metadata": {},
   "outputs": [
    {
     "data": {
      "text/plain": [
       "array([ 0.76942245, -0.41442344,  0.4880148 , -1.10778837, -0.66211746,\n",
       "       -0.22274315, -0.74573326,  0.53481503, -0.30456098,  0.41702884,\n",
       "       -1.00172805, -0.00587113,  0.20813728,  0.70897074,  1.31329533,\n",
       "        0.47150723, -0.10368835, -1.32489396,  0.92174529, -0.03564433,\n",
       "       -0.23682105,  1.11548813, -0.76421283,  1.33424191,  0.13756171,\n",
       "        0.53987407,  0.34042818,  0.39435597,  2.04636744,  0.32638817,\n",
       "        0.35612474,  0.34405438, -0.56469466,  0.35260629,  0.22570551,\n",
       "        1.68413193, -0.11178741,  2.22715769, -0.70957754, -0.5653829 ,\n",
       "       -1.52515931,  0.95139036,  1.23651724, -1.78397229, -0.21304038,\n",
       "        0.28287046,  1.33784473, -0.4863221 ,  0.29385006, -0.19230093,\n",
       "        0.33254583,  0.57580182, -0.00331551,  0.11846047,  2.03518716,\n",
       "       -0.31068014, -0.50398247,  0.15787308,  0.49069057, -1.12782492,\n",
       "       -0.1263146 ,  1.41108971,  1.01733704,  1.45149486,  0.6374184 ,\n",
       "       -0.07614729, -0.24434101, -0.52222851,  0.13814109, -1.93798159,\n",
       "        1.0866037 ,  1.48224395, -0.65180559, -0.89519617,  1.02180232,\n",
       "        0.16489423, -1.55842795, -0.50651841,  0.60432398, -1.32235781,\n",
       "        0.0215737 ,  0.51078187,  0.95953104,  0.77113658, -0.96314471,\n",
       "       -0.12035366, -0.85620075, -1.67453638, -0.00377766,  0.80916145,\n",
       "        1.73441894, -0.35383172, -2.09716889, -0.64491932,  0.39543043,\n",
       "        0.39945488, -1.32709799,  1.00572974,  0.54504893,  0.00473196])"
      ]
     },
     "execution_count": 33,
     "metadata": {},
     "output_type": "execute_result"
    }
   ],
   "source": [
    "arr2"
   ]
  },
  {
   "cell_type": "code",
   "execution_count": 39,
   "id": "d6e9361f-959c-4639-8332-a380be5aba98",
   "metadata": {},
   "outputs": [
    {
     "data": {
      "text/plain": [
       "2.2271576948516967"
      ]
     },
     "execution_count": 39,
     "metadata": {},
     "output_type": "execute_result"
    }
   ],
   "source": [
    "arr2.max()"
   ]
  },
  {
   "cell_type": "code",
   "execution_count": 41,
   "id": "323cf568-df53-49c2-9be7-baa54eac520d",
   "metadata": {},
   "outputs": [
    {
     "data": {
      "text/plain": [
       "-2.09716888968638"
      ]
     },
     "execution_count": 41,
     "metadata": {},
     "output_type": "execute_result"
    }
   ],
   "source": [
    "arr2.min()"
   ]
  },
  {
   "cell_type": "code",
   "execution_count": 43,
   "id": "733821ab-c4d7-4bcd-ab6f-c17fb980f330",
   "metadata": {},
   "outputs": [
    {
     "data": {
      "text/plain": [
       "array([-2.09716889, -1.93798159, -1.78397229, -1.67453638, -1.55842795,\n",
       "       -1.52515931, -1.32709799, -1.32489396, -1.32235781, -1.12782492,\n",
       "       -1.10778837, -1.00172805, -0.96314471, -0.89519617, -0.85620075,\n",
       "       -0.76421283, -0.74573326, -0.70957754, -0.66211746, -0.65180559,\n",
       "       -0.64491932, -0.5653829 , -0.56469466, -0.52222851, -0.50651841,\n",
       "       -0.50398247, -0.4863221 , -0.41442344, -0.35383172, -0.31068014,\n",
       "       -0.30456098, -0.24434101, -0.23682105, -0.22274315, -0.21304038,\n",
       "       -0.19230093, -0.1263146 , -0.12035366, -0.11178741, -0.10368835,\n",
       "       -0.07614729, -0.03564433, -0.00587113, -0.00377766, -0.00331551,\n",
       "        0.00473196,  0.0215737 ,  0.11846047,  0.13756171,  0.13814109,\n",
       "        0.15787308,  0.16489423,  0.20813728,  0.22570551,  0.28287046,\n",
       "        0.29385006,  0.32638817,  0.33254583,  0.34042818,  0.34405438,\n",
       "        0.35260629,  0.35612474,  0.39435597,  0.39543043,  0.39945488,\n",
       "        0.41702884,  0.47150723,  0.4880148 ,  0.49069057,  0.51078187,\n",
       "        0.53481503,  0.53987407,  0.54504893,  0.57580182,  0.60432398,\n",
       "        0.6374184 ,  0.70897074,  0.76942245,  0.77113658,  0.80916145,\n",
       "        0.92174529,  0.95139036,  0.95953104,  1.00572974,  1.01733704,\n",
       "        1.02180232,  1.0866037 ,  1.11548813,  1.23651724,  1.31329533,\n",
       "        1.33424191,  1.33784473,  1.41108971,  1.45149486,  1.48224395,\n",
       "        1.68413193,  1.73441894,  2.03518716,  2.04636744,  2.22715769])"
      ]
     },
     "execution_count": 43,
     "metadata": {},
     "output_type": "execute_result"
    }
   ],
   "source": [
    "np.sort(arr2)"
   ]
  },
  {
   "cell_type": "code",
   "execution_count": 49,
   "id": "b9e1c3db-e44c-461a-81c0-a3f80d8710b9",
   "metadata": {},
   "outputs": [
    {
     "data": {
      "text/plain": [
       "array(['TRUE', 'FALSE', 'TRUE', 'FALSE', 'FALSE', 'FALSE', 'FALSE',\n",
       "       'TRUE', 'FALSE', 'TRUE', 'FALSE', 'FALSE', 'TRUE', 'TRUE', 'TRUE',\n",
       "       'TRUE', 'FALSE', 'FALSE', 'TRUE', 'FALSE', 'FALSE', 'TRUE',\n",
       "       'FALSE', 'TRUE', 'TRUE', 'TRUE', 'TRUE', 'TRUE', 'TRUE', 'TRUE',\n",
       "       'TRUE', 'TRUE', 'FALSE', 'TRUE', 'TRUE', 'TRUE', 'FALSE', 'TRUE',\n",
       "       'FALSE', 'FALSE', 'FALSE', 'TRUE', 'TRUE', 'FALSE', 'FALSE',\n",
       "       'TRUE', 'TRUE', 'FALSE', 'TRUE', 'FALSE', 'TRUE', 'TRUE', 'FALSE',\n",
       "       'TRUE', 'TRUE', 'FALSE', 'FALSE', 'TRUE', 'TRUE', 'FALSE', 'FALSE',\n",
       "       'TRUE', 'TRUE', 'TRUE', 'TRUE', 'FALSE', 'FALSE', 'FALSE', 'TRUE',\n",
       "       'FALSE', 'TRUE', 'TRUE', 'FALSE', 'FALSE', 'TRUE', 'TRUE', 'FALSE',\n",
       "       'FALSE', 'TRUE', 'FALSE', 'TRUE', 'TRUE', 'TRUE', 'TRUE', 'FALSE',\n",
       "       'FALSE', 'FALSE', 'FALSE', 'FALSE', 'TRUE', 'TRUE', 'FALSE',\n",
       "       'FALSE', 'FALSE', 'TRUE', 'TRUE', 'FALSE', 'TRUE', 'TRUE', 'TRUE'],\n",
       "      dtype='<U5')"
      ]
     },
     "execution_count": 49,
     "metadata": {},
     "output_type": "execute_result"
    }
   ],
   "source": [
    "#上記のうち正のものには「TRUE」そうでないものには「FALSE」を返してみる\n",
    "np.where(arr2 > 0,'TRUE','FALSE')"
   ]
  },
  {
   "cell_type": "code",
   "execution_count": 51,
   "id": "49fc4a18-ad5b-476f-94d9-028c5c300f9e",
   "metadata": {},
   "outputs": [
    {
     "data": {
      "text/plain": [
       "array([0.76942245, 0.4880148 , 0.53481503, 0.41702884, 0.20813728,\n",
       "       0.70897074, 1.31329533, 0.47150723, 0.92174529, 1.11548813,\n",
       "       1.33424191, 0.13756171, 0.53987407, 0.34042818, 0.39435597,\n",
       "       2.04636744, 0.32638817, 0.35612474, 0.34405438, 0.35260629,\n",
       "       0.22570551, 1.68413193, 2.22715769, 0.95139036, 1.23651724,\n",
       "       0.28287046, 1.33784473, 0.29385006, 0.33254583, 0.57580182,\n",
       "       0.11846047, 2.03518716, 0.15787308, 0.49069057, 1.41108971,\n",
       "       1.01733704, 1.45149486, 0.6374184 , 0.13814109, 1.0866037 ,\n",
       "       1.48224395, 1.02180232, 0.16489423, 0.60432398, 0.0215737 ,\n",
       "       0.51078187, 0.95953104, 0.77113658, 0.80916145, 1.73441894,\n",
       "       0.39543043, 0.39945488, 1.00572974, 0.54504893, 0.00473196])"
      ]
     },
     "execution_count": 51,
     "metadata": {},
     "output_type": "execute_result"
    }
   ],
   "source": [
    "#上記から正の部分だけを取得してくる\n",
    "arr2[np.where(arr2 > 0)]"
   ]
  },
  {
   "cell_type": "code",
   "execution_count": 53,
   "id": "8681a509-84fa-454a-a13e-f4ce431b6b24",
   "metadata": {},
   "outputs": [
    {
     "data": {
      "text/plain": [
       "array([1, 2, 3, 4])"
      ]
     },
     "execution_count": 53,
     "metadata": {},
     "output_type": "execute_result"
    }
   ],
   "source": [
    "arr3 = np.array([1,2,3,1,1,2,3,4])\n",
    "np.unique(arr3) #重複削除"
   ]
  },
  {
   "cell_type": "code",
   "execution_count": 35,
   "id": "b1e46de3-27f1-49bd-9d94-37c0a22dfa68",
   "metadata": {},
   "outputs": [
    {
     "name": "stdout",
     "output_type": "stream",
     "text": [
      "平均: 3.0\n",
      "標準偏差: 1.4142135623730951\n"
     ]
    }
   ],
   "source": [
    "#標準化の例\n",
    "# 元のデータ arr1 = [1, 2, 3, 4, 5] を標準化する方法\n",
    "import numpy as np\n",
    "\n",
    "arr1 = np.array([1, 2, 3, 4, 5])\n",
    "\n",
    "# 平均\n",
    "mean = arr1.mean()\n",
    "\n",
    "# 標準偏差（ddof=0 で母集団標準偏差を計算）\n",
    "std_dev = arr1.std(ddof=0)\n",
    "\n",
    "print(\"平均:\", mean)\n",
    "print(\"標準偏差:\", std_dev)"
   ]
  },
  {
   "cell_type": "code",
   "execution_count": 37,
   "id": "15d5dbfb-69ba-4035-9378-fa5d7c097cc6",
   "metadata": {},
   "outputs": [
    {
     "name": "stdout",
     "output_type": "stream",
     "text": [
      "標準化されたデータ（zスコア）: [-1.41421356 -0.70710678  0.          0.70710678  1.41421356]\n"
     ]
    }
   ],
   "source": [
    "# 標準化\n",
    "z_scores = (arr1 - mean) / std_dev\n",
    "print(\"標準化されたデータ（zスコア）:\", z_scores)"
   ]
  },
  {
   "cell_type": "code",
   "execution_count": null,
   "id": "1873fbb0-9da4-44de-9d40-952132525427",
   "metadata": {},
   "outputs": [],
   "source": [
    "# 最初のデータ点 1 は平均より低いため、負の値（-1.414）になり、元の平均から標準偏差の約1.4倍だけ低い\n",
    "# 真ん中の値 3 は元のデータの平均値なので、標準化後は0\n",
    "# 最後のデータ点 5 は平均より高いので、正の値（1.414）"
   ]
  }
 ],
 "metadata": {
  "kernelspec": {
   "display_name": "Python 3 (ipykernel)",
   "language": "python",
   "name": "python3"
  },
  "language_info": {
   "codemirror_mode": {
    "name": "ipython",
    "version": 3
   },
   "file_extension": ".py",
   "mimetype": "text/x-python",
   "name": "python",
   "nbconvert_exporter": "python",
   "pygments_lexer": "ipython3",
   "version": "3.12.7"
  }
 },
 "nbformat": 4,
 "nbformat_minor": 5
}
