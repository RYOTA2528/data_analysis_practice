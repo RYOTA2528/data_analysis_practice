{
 "cells": [
  {
   "cell_type": "code",
   "execution_count": 5,
   "id": "a938921f-7c58-4ee7-9833-b9063e83699d",
   "metadata": {},
   "outputs": [],
   "source": [
    "import numpy as np"
   ]
  },
  {
   "cell_type": "code",
   "execution_count": null,
   "id": "2a64e238-3c38-4d47-ae83-14390412f036",
   "metadata": {},
   "outputs": [],
   "source": [
    "arr1 = np.loadtxt(\"./browbian_x.csv\", delimiter=\",\")"
   ]
  },
  {
   "cell_type": "code",
   "execution_count": 11,
   "id": "5a0d4020-2060-4dfc-80d7-889eb585b33a",
   "metadata": {},
   "outputs": [],
   "source": [
    "# 行列のファイル入出力する方法\n",
    "arr1 = np.loadtxt(\"./brownian_x.csv\", delimiter=\",\", skiprows=1) # skiprowsで1行目をスキップ"
   ]
  },
  {
   "cell_type": "code",
   "execution_count": 13,
   "id": "b91a906d-b84a-4f06-b4bf-27d0b0f9a9ff",
   "metadata": {},
   "outputs": [
    {
     "data": {
      "text/plain": [
       "array([[ 0.00000000e+00,  0.00000000e+00,  0.00000000e+00, ...,\n",
       "         0.00000000e+00,  0.00000000e+00,  0.00000000e+00],\n",
       "       [ 1.00000000e+00,  2.66089704e+00,  3.08680751e-01, ...,\n",
       "        -1.24374269e+00,  5.18966400e-01, -1.19367115e+00],\n",
       "       [ 2.00000000e+00,  3.59851470e+00,  1.08084394e-01, ...,\n",
       "         7.50444067e-01,  1.61610718e+00, -1.55848791e+00],\n",
       "       ...,\n",
       "       [ 4.98000000e+02, -1.13628276e+01, -6.02762346e+00, ...,\n",
       "         1.06451172e+01,  4.51958909e+01, -1.51173229e+01],\n",
       "       [ 4.99000000e+02, -1.06156906e+01, -4.98423594e+00, ...,\n",
       "         1.12467625e+01,  4.48587528e+01, -1.55841110e+01],\n",
       "       [ 5.00000000e+02, -1.10646530e+01, -3.83636751e+00, ...,\n",
       "         1.30337334e+01,  4.55136299e+01, -1.32733199e+01]])"
      ]
     },
     "execution_count": 13,
     "metadata": {},
     "output_type": "execute_result"
    }
   ],
   "source": [
    "arr1"
   ]
  },
  {
   "cell_type": "code",
   "execution_count": 15,
   "id": "7cb07d53-a153-42fa-824f-aab0bbacb1da",
   "metadata": {},
   "outputs": [
    {
     "data": {
      "text/plain": [
       "(501, 101)"
      ]
     },
     "execution_count": 15,
     "metadata": {},
     "output_type": "execute_result"
    }
   ],
   "source": [
    "arr1.shape #501行101列"
   ]
  },
  {
   "cell_type": "code",
   "execution_count": 17,
   "id": "fab99344-604b-4e9a-88a9-c136f6bc239b",
   "metadata": {},
   "outputs": [],
   "source": [
    "#上記の結果をtxtで出力する\n",
    "np.savetxt(\"./test.csv\", arr1, delimiter=\",\") "
   ]
  },
  {
   "cell_type": "code",
   "execution_count": null,
   "id": "57ea6f27-a8af-49a2-baab-a2bd51309254",
   "metadata": {},
   "outputs": [],
   "source": []
  }
 ],
 "metadata": {
  "kernelspec": {
   "display_name": "Python 3 (ipykernel)",
   "language": "python",
   "name": "python3"
  },
  "language_info": {
   "codemirror_mode": {
    "name": "ipython",
    "version": 3
   },
   "file_extension": ".py",
   "mimetype": "text/x-python",
   "name": "python",
   "nbconvert_exporter": "python",
   "pygments_lexer": "ipython3",
   "version": "3.12.7"
  }
 },
 "nbformat": 4,
 "nbformat_minor": 5
}
