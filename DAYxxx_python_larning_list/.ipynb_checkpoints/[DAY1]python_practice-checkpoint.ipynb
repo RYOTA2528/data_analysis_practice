{
 "cells": [
  {
   "cell_type": "code",
   "execution_count": null,
   "id": "48ee81c7-391d-4c84-8c66-b4b610759cb6",
   "metadata": {},
   "outputs": [],
   "source": [
    "# ファイルの読み込みをする"
   ]
  },
  {
   "cell_type": "code",
   "execution_count": 13,
   "id": "8bc01cde-007c-4813-8489-c0f466514d8f",
   "metadata": {},
   "outputs": [
    {
     "name": "stdout",
     "output_type": "stream",
     "text": [
      "2016 03 05\n",
      "\n",
      "0\t1.0\n",
      "\n",
      "1\t1.1\n",
      "\n",
      "2\t1.4\n",
      "\n",
      "3\t1.3\n",
      "\n",
      "4\t1.4\n",
      "\n",
      "5\t1.8\n",
      "\n"
     ]
    }
   ],
   "source": [
    "fileName = \"./sample.txt\"\n",
    "f = open(fileName, mode = \"r\", encoding = \"utf-8\")\n",
    "for i in f:\n",
    "    print(i)"
   ]
  },
  {
   "cell_type": "code",
   "execution_count": 17,
   "id": "ff26bde7-192e-4988-b4e0-c68c1b8111b5",
   "metadata": {},
   "outputs": [
    {
     "name": "stdout",
     "output_type": "stream",
     "text": [
      "2016 03 05\n",
      "0\t1.0\n",
      "1\t1.1\n",
      "2\t1.4\n",
      "3\t1.3\n",
      "4\t1.4\n",
      "5\t1.8\n"
     ]
    }
   ],
   "source": [
    "# 上記だと改行文字が入ってしまうため改行コードを消す\n",
    "fileName = \"./sample.txt\"\n",
    "f = open(fileName, mode = \"r\", encoding = \"utf-8\")\n",
    "for i in f:\n",
    "    k = i.strip()\n",
    "    print(k)"
   ]
  },
  {
   "cell_type": "code",
   "execution_count": 23,
   "id": "e0700d0f-63d2-4d71-b8ec-7286ef162ff5",
   "metadata": {},
   "outputs": [
    {
     "name": "stdout",
     "output_type": "stream",
     "text": [
      "1.0\n",
      "1.1\n",
      "1.4\n",
      "1.3\n",
      "1.4\n",
      "1.8\n"
     ]
    }
   ],
   "source": [
    "# 上記からタイトルと左辺を消す\n",
    "fileName = \"./sample.txt\"\n",
    "f = open(fileName, mode = \"r\", encoding = \"utf-8\")\n",
    "for i, j in enumerate(f): #i=インデックス, j=行の内容\n",
    "    k = j.strip() #本体に変える\n",
    "    # iが0番目がタイトルのため0を飛ばす\n",
    "    if i > 0:\n",
    "        k2 = k.split(\"\\t\") #TABで区切る\n",
    "        print(k2[1])"
   ]
  },
  {
   "cell_type": "code",
   "execution_count": 29,
   "id": "869d0036-745c-4949-a0c8-1c8ff1c6bfcd",
   "metadata": {},
   "outputs": [],
   "source": [
    "# ファイルに出力する\n",
    "fileName = \"./output.txt\"\n",
    "f = open(fileName, mode = \"w\", encoding = \"utf-8\")\n",
    "\n",
    "for i in range(10):\n",
    "    f.write(str(i) + \"\\n\") #文字列にしないと入力できないため変換\n",
    "f.close() #ここで閉じないとメモ帳に表示されない"
   ]
  },
  {
   "cell_type": "code",
   "execution_count": 33,
   "id": "4f730a30-caac-4d37-ac5e-dc3d5050c264",
   "metadata": {},
   "outputs": [
    {
     "name": "stdout",
     "output_type": "stream",
     "text": [
      "2016 03 05\n",
      "\n",
      "0\t1.0\n",
      "\n",
      "1\t1.1\n",
      "\n",
      "2\t1.4\n",
      "\n",
      "3\t1.3\n",
      "\n",
      "4\t1.4\n",
      "\n",
      "5\t1.8\n",
      "\n"
     ]
    }
   ],
   "source": [
    "# 自動で閉じてくれるようにwithを使う\n",
    "with open(\"./sample.txt\", mode = \"r\", encoding = \"utf-8\") as f:\n",
    "    for i in f:\n",
    "        print(i)"
   ]
  },
  {
   "cell_type": "code",
   "execution_count": 35,
   "id": "921db0b0-5e37-43c8-a4b7-64f31371d931",
   "metadata": {},
   "outputs": [
    {
     "data": {
      "text/plain": [
       "9.0"
      ]
     },
     "execution_count": 35,
     "metadata": {},
     "output_type": "execute_result"
    }
   ],
   "source": [
    "# 無名関数について\n",
    "num_list = [1,2,3,4,5,6,7,8]\n",
    "func = lambda x : x ** 2\n",
    "\n",
    "func(3.0) #無名関数記載した通り、2乗の結果で返ってくる\n",
    "\n",
    "list(map(func, num_list))"
   ]
  },
  {
   "cell_type": "code",
   "execution_count": null,
   "id": "138879e1-32de-4447-bdf0-7bf2081d49f3",
   "metadata": {},
   "outputs": [],
   "source": [
    "#commit結果がGitHubの設定の問題でcontributeに反映できてなかったため記録を残すためにコメント_20241109"
   ]
  }
 ],
 "metadata": {
  "kernelspec": {
   "display_name": "Python 3 (ipykernel)",
   "language": "python",
   "name": "python3"
  },
  "language_info": {
   "codemirror_mode": {
    "name": "ipython",
    "version": 3
   },
   "file_extension": ".py",
   "mimetype": "text/x-python",
   "name": "python",
   "nbconvert_exporter": "python",
   "pygments_lexer": "ipython3",
   "version": "3.12.7"
  }
 },
 "nbformat": 4,
 "nbformat_minor": 5
}
