{
 "cells": [
  {
   "cell_type": "code",
   "execution_count": 3,
   "id": "d97d8a92-c109-4f63-bf7e-64224bfe380f",
   "metadata": {},
   "outputs": [],
   "source": [
    "import re #正規表現"
   ]
  },
  {
   "cell_type": "code",
   "execution_count": 5,
   "id": "4fab0311-eda3-470a-b4ea-2c06fa0bd77b",
   "metadata": {},
   "outputs": [
    {
     "name": "stdout",
     "output_type": "stream",
     "text": [
      "a\tb\tc\n"
     ]
    }
   ],
   "source": [
    "print(\"a\\tb\\tc\") #この状態だと\\がTAB扱いされてしまう"
   ]
  },
  {
   "cell_type": "code",
   "execution_count": 7,
   "id": "bbcf96bb-a074-42d1-8823-75520a3edea6",
   "metadata": {},
   "outputs": [
    {
     "name": "stdout",
     "output_type": "stream",
     "text": [
      "a\\tb\\tc\n"
     ]
    }
   ],
   "source": [
    "print(r\"a\\tb\\tc\") #rを入れる"
   ]
  },
  {
   "cell_type": "code",
   "execution_count": 9,
   "id": "65409336-2774-43b7-8cdd-69450bd9d5f7",
   "metadata": {},
   "outputs": [
    {
     "data": {
      "text/plain": [
       "<re.Match object; span=(0, 3), match='123'>"
      ]
     },
     "execution_count": 9,
     "metadata": {},
     "output_type": "execute_result"
    }
   ],
   "source": [
    "re.search(r\"123\", \"123456\")"
   ]
  },
  {
   "cell_type": "code",
   "execution_count": 11,
   "id": "b3a64cee-637d-4939-ab3f-27619e303e80",
   "metadata": {},
   "outputs": [],
   "source": [
    "m = re.search(r\"123\", \"123456\")"
   ]
  },
  {
   "cell_type": "code",
   "execution_count": 13,
   "id": "5701f79c-62e8-4d7a-b8da-7407e29c7b74",
   "metadata": {},
   "outputs": [
    {
     "data": {
      "text/plain": [
       "'123'"
      ]
     },
     "execution_count": 13,
     "metadata": {},
     "output_type": "execute_result"
    }
   ],
   "source": [
    "m.group()"
   ]
  },
  {
   "cell_type": "code",
   "execution_count": 15,
   "id": "6d5a9241-66a1-49ed-8210-a92b8a3abb1d",
   "metadata": {},
   "outputs": [
    {
     "data": {
      "text/plain": [
       "0"
      ]
     },
     "execution_count": 15,
     "metadata": {},
     "output_type": "execute_result"
    }
   ],
   "source": [
    "m.start()"
   ]
  },
  {
   "cell_type": "code",
   "execution_count": 17,
   "id": "82be52f4-6b97-47f7-bcf8-93650a3cfb28",
   "metadata": {},
   "outputs": [
    {
     "data": {
      "text/plain": [
       "3"
      ]
     },
     "execution_count": 17,
     "metadata": {},
     "output_type": "execute_result"
    }
   ],
   "source": [
    "m.end()"
   ]
  },
  {
   "cell_type": "code",
   "execution_count": 23,
   "id": "f4610422-9f01-4588-ad85-7f4b6a68c75b",
   "metadata": {},
   "outputs": [
    {
     "data": {
      "text/plain": [
       "<re.Match object; span=(0, 9), match='111111111'>"
      ]
     },
     "execution_count": 23,
     "metadata": {},
     "output_type": "execute_result"
    }
   ],
   "source": [
    "re.search(r\"1*\", \"111111111\") #1が0回以上繰り返されてるか確認"
   ]
  },
  {
   "cell_type": "code",
   "execution_count": 25,
   "id": "3e9b6926-9ae2-4c11-b715-f09d45c537ab",
   "metadata": {},
   "outputs": [
    {
     "data": {
      "text/plain": [
       "<re.Match object; span=(0, 1), match='1'>"
      ]
     },
     "execution_count": 25,
     "metadata": {},
     "output_type": "execute_result"
    }
   ],
   "source": [
    "re.search(r\"1\", \"1\")"
   ]
  },
  {
   "cell_type": "code",
   "execution_count": 27,
   "id": "efd9b90f-d11e-4261-905e-0dfc193b74e2",
   "metadata": {},
   "outputs": [
    {
     "data": {
      "text/plain": [
       "<re.Match object; span=(0, 4), match='1 23'>"
      ]
     },
     "execution_count": 27,
     "metadata": {},
     "output_type": "execute_result"
    }
   ],
   "source": [
    "re.search(r\"1\\s23\", \"1 23\") #\\sは半角スペース つまり右の文字列の結果とマッチしたことがわかる"
   ]
  },
  {
   "cell_type": "code",
   "execution_count": 35,
   "id": "5618ee2e-ff5f-4cdb-9fea-49fa75ac2898",
   "metadata": {},
   "outputs": [],
   "source": [
    "re.search(r\"^123\", \"abs123\") #^は先頭。つまり右の結果に当てはまらないため何も帰ってこない"
   ]
  },
  {
   "cell_type": "code",
   "execution_count": 39,
   "id": "bda7b70e-6c63-4ca0-9516-463ff26925c1",
   "metadata": {},
   "outputs": [
    {
     "data": {
      "text/plain": [
       "<re.Match object; span=(3, 6), match='123'>"
      ]
     },
     "execution_count": 39,
     "metadata": {},
     "output_type": "execute_result"
    }
   ],
   "source": [
    "re.search(r\"123$\", \"abs123\") #$は末尾。"
   ]
  },
  {
   "cell_type": "code",
   "execution_count": 55,
   "id": "d4092429-493f-4c56-987f-33c6c751031c",
   "metadata": {},
   "outputs": [
    {
     "data": {
      "text/plain": [
       "<re.Match object; span=(0, 4), match='1456'>"
      ]
     },
     "execution_count": 55,
     "metadata": {},
     "output_type": "execute_result"
    }
   ],
   "source": [
    "re.search(r\"[123]456\", \"1456\") #[]でどれか1つと後ろのもの"
   ]
  },
  {
   "cell_type": "code",
   "execution_count": 59,
   "id": "bfbb09c5-eeb5-42d5-b697-219234c50655",
   "metadata": {},
   "outputs": [
    {
     "data": {
      "text/plain": [
       "<re.Match object; span=(0, 6), match='Python'>"
      ]
     },
     "execution_count": 59,
     "metadata": {},
     "output_type": "execute_result"
    }
   ],
   "source": [
    "re.search(r\"Python3?\", \"Python\") #?で特定の文字があるかないか"
   ]
  },
  {
   "cell_type": "code",
   "execution_count": 63,
   "id": "8071b9cb-28ad-47a6-8cbb-c94906dca5e3",
   "metadata": {},
   "outputs": [
    {
     "data": {
      "text/plain": [
       "<re.Match object; span=(0, 7), match='Python3'>"
      ]
     },
     "execution_count": 63,
     "metadata": {},
     "output_type": "execute_result"
    }
   ],
   "source": [
    "re.search(r\"Python\\d\", \"Python3\") # 数字とのマッチ"
   ]
  },
  {
   "cell_type": "code",
   "execution_count": 69,
   "id": "9a437ccb-38bc-42c6-9d43-90be59b0db37",
   "metadata": {},
   "outputs": [
    {
     "data": {
      "text/plain": [
       "<re.Match object; span=(7, 10), match='red'>"
      ]
     },
     "execution_count": 69,
     "metadata": {},
     "output_type": "execute_result"
    }
   ],
   "source": [
    "re.search(r\"(red|blue)\", \"I like red\") #どちらかとマッチング"
   ]
  },
  {
   "cell_type": "code",
   "execution_count": 71,
   "id": "a9cc7667-e22f-4819-b58d-b57a1d7f9c77",
   "metadata": {},
   "outputs": [
    {
     "data": {
      "text/plain": [
       "['-3.', '1.', '1.']"
      ]
     },
     "execution_count": 71,
     "metadata": {},
     "output_type": "execute_result"
    }
   ],
   "source": [
    "# 数値計算業務で結果をテキストで受け取るこれをPythonで\n",
    "import re\n",
    "obj = \"-3.01E-10 1.000123 1.051E1 NaN\"\n",
    "\n",
    "re.findall(r\"-?\\d\\.\", obj) #まずは-の数値と+の数値を取得する"
   ]
  },
  {
   "cell_type": "code",
   "execution_count": 73,
   "id": "0721c019-c883-4e87-abf6-dbfa4a7cfabc",
   "metadata": {},
   "outputs": [
    {
     "data": {
      "text/plain": [
       "['-3.01', '1.000123', '1.051']"
      ]
     },
     "execution_count": 73,
     "metadata": {},
     "output_type": "execute_result"
    }
   ],
   "source": [
    "re.findall(r\"-?\\d\\.\\d*\", obj) #.以降の数字をすべて取得"
   ]
  },
  {
   "cell_type": "code",
   "execution_count": 75,
   "id": "bd2c28c2-b8a7-48b1-bf67-0dc9d4f9dd6d",
   "metadata": {},
   "outputs": [
    {
     "data": {
      "text/plain": [
       "['-3.01E-10', '1.000123', '1.051E1']"
      ]
     },
     "execution_count": 75,
     "metadata": {},
     "output_type": "execute_result"
    }
   ],
   "source": [
    "re.findall(r\"-?\\d\\.\\d*E?-?\\d?\\d?\", obj) #〇?で〇があればとる。"
   ]
  },
  {
   "cell_type": "code",
   "execution_count": 79,
   "id": "523c421b-b625-461f-ab74-2cfd0fe922c9",
   "metadata": {},
   "outputs": [
    {
     "data": {
      "text/plain": [
       "['-3.01E-10', '1.000123', '1.051E1', 'NaN']"
      ]
     },
     "execution_count": 79,
     "metadata": {},
     "output_type": "execute_result"
    }
   ],
   "source": [
    "re.findall(r\"(-?\\d\\.\\d*E?-?\\d?\\d?|NaN)\", obj) #上記の結果またはNaNのパターンを抽出"
   ]
  },
  {
   "cell_type": "code",
   "execution_count": null,
   "id": "0230a107-5c62-4680-8e90-4369e5e46ac2",
   "metadata": {},
   "outputs": [],
   "source": []
  }
 ],
 "metadata": {
  "kernelspec": {
   "display_name": "Python 3 (ipykernel)",
   "language": "python",
   "name": "python3"
  },
  "language_info": {
   "codemirror_mode": {
    "name": "ipython",
    "version": 3
   },
   "file_extension": ".py",
   "mimetype": "text/x-python",
   "name": "python",
   "nbconvert_exporter": "python",
   "pygments_lexer": "ipython3",
   "version": "3.12.7"
  }
 },
 "nbformat": 4,
 "nbformat_minor": 5
}
