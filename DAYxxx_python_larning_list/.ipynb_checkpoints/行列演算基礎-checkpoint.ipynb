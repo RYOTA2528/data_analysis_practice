{
 "cells": [
  {
   "cell_type": "markdown",
   "id": "f031afe3-caf2-4836-8329-10bc5a946e5d",
   "metadata": {},
   "source": [
    "行列演算の基礎\n",
    "$$\n",
    "w=(X^TX)^{-1}X^Ty\n",
    "$$"
   ]
  },
  {
   "cell_type": "markdown",
   "id": "6672a00e-ba4b-4887-92bc-dfc43fa70e63",
   "metadata": {},
   "source": [
    "上記を実現するためには\n",
    " - ベクトルの定義\n",
    " - 行列の定義\n",
    " - 転置\n",
    " - 逆行列\n",
    " - 行列積"
   ]
  },
  {
   "cell_type": "code",
   "execution_count": 23,
   "id": "bc5e11c6-5f80-46a4-88d4-e2a6cdafafd3",
   "metadata": {},
   "outputs": [],
   "source": [
    "import numpy as np"
   ]
  },
  {
   "cell_type": "code",
   "execution_count": 27,
   "id": "5566e324-9f20-4ad1-9422-e09adc667d23",
   "metadata": {},
   "outputs": [
    {
     "name": "stdout",
     "output_type": "stream",
     "text": [
      "[[1]\n",
      " [2]\n",
      " [3]]\n"
     ]
    }
   ],
   "source": [
    "#ベクトルの定義\n",
    "x = np.array([[1],[2],[3]])\n",
    "print(x)"
   ]
  },
  {
   "cell_type": "code",
   "execution_count": 37,
   "id": "62ec677c-d5d9-4494-8ea2-45933664af7c",
   "metadata": {},
   "outputs": [
    {
     "name": "stdout",
     "output_type": "stream",
     "text": [
      "[[1 2]\n",
      " [3 4]]\n"
     ]
    }
   ],
   "source": [
    "# 行列の定義\n",
    "X = np.array([[1,2],[3,4]])\n",
    "print(X)"
   ]
  },
  {
   "cell_type": "code",
   "execution_count": 39,
   "id": "4b2c043e-c308-45a2-8af4-cf3af05ed425",
   "metadata": {},
   "outputs": [
    {
     "name": "stdout",
     "output_type": "stream",
     "text": [
      "[[1 3]\n",
      " [2 4]]\n"
     ]
    }
   ],
   "source": [
    "# 転置\n",
    "Xt = X.T\n",
    "print(Xt)"
   ]
  },
  {
   "cell_type": "code",
   "execution_count": 43,
   "id": "77a65598-9e75-4423-81d2-0d8edcb7be54",
   "metadata": {},
   "outputs": [
    {
     "name": "stdout",
     "output_type": "stream",
     "text": [
      "[[-2.   1. ]\n",
      " [ 1.5 -0.5]]\n"
     ]
    }
   ],
   "source": [
    "# 逆行列\n",
    "# linear algebra: 線形代数\n",
    "X_inv = np.linalg.inv(X)\n",
    "print(X_inv)"
   ]
  },
  {
   "cell_type": "code",
   "execution_count": null,
   "id": "bc9cb2f5-876d-40cd-94ce-d300d58aa5c1",
   "metadata": {},
   "outputs": [],
   "source": []
  }
 ],
 "metadata": {
  "kernelspec": {
   "display_name": "Python 3 (ipykernel)",
   "language": "python",
   "name": "python3"
  },
  "language_info": {
   "codemirror_mode": {
    "name": "ipython",
    "version": 3
   },
   "file_extension": ".py",
   "mimetype": "text/x-python",
   "name": "python",
   "nbconvert_exporter": "python",
   "pygments_lexer": "ipython3",
   "version": "3.12.7"
  }
 },
 "nbformat": 4,
 "nbformat_minor": 5
}
