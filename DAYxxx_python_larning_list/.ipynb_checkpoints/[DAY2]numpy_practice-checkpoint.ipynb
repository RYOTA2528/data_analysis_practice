{
 "cells": [
  {
   "cell_type": "code",
   "execution_count": 1,
   "id": "6fc24022-7d49-42cf-85f6-3c36d3c5158d",
   "metadata": {},
   "outputs": [],
   "source": [
    "import numpy"
   ]
  },
  {
   "cell_type": "code",
   "execution_count": 3,
   "id": "f8e34226-7111-4d19-acad-2499a83ed8c4",
   "metadata": {},
   "outputs": [
    {
     "data": {
      "text/plain": [
       "3.0"
      ]
     },
     "execution_count": 3,
     "metadata": {},
     "output_type": "execute_result"
    }
   ],
   "source": [
    "numpy.abs(-3.0)"
   ]
  },
  {
   "cell_type": "code",
   "execution_count": 7,
   "id": "f746c913-ac0d-47f2-9a3d-1dd142ab8898",
   "metadata": {},
   "outputs": [
    {
     "data": {
      "text/plain": [
       "3.0"
      ]
     },
     "execution_count": 7,
     "metadata": {},
     "output_type": "execute_result"
    }
   ],
   "source": [
    "numpy.abs(-3.0)"
   ]
  },
  {
   "cell_type": "code",
   "execution_count": 9,
   "id": "ea1d9f1a-c984-49a2-aafa-337fec88b1c8",
   "metadata": {},
   "outputs": [
    {
     "data": {
      "text/plain": [
       "0.21325210058246702"
      ]
     },
     "execution_count": 9,
     "metadata": {},
     "output_type": "execute_result"
    }
   ],
   "source": [
    "numpy.random.rand()"
   ]
  },
  {
   "cell_type": "code",
   "execution_count": 13,
   "id": "37ab6400-3c74-400d-9b21-890a7694912a",
   "metadata": {},
   "outputs": [],
   "source": [
    "import numpy as np"
   ]
  },
  {
   "cell_type": "code",
   "execution_count": 17,
   "id": "0a1a4a34-3349-495c-be5a-bbb92baba699",
   "metadata": {},
   "outputs": [],
   "source": [
    "from numpy import random"
   ]
  },
  {
   "cell_type": "code",
   "execution_count": 19,
   "id": "90e2c661-beb4-44e6-9e0d-d057af7d1d63",
   "metadata": {},
   "outputs": [
    {
     "data": {
      "text/plain": [
       "0.1747891722013225"
      ]
     },
     "execution_count": 19,
     "metadata": {},
     "output_type": "execute_result"
    }
   ],
   "source": [
    "random.rand()"
   ]
  },
  {
   "cell_type": "code",
   "execution_count": null,
   "id": "0a7ebd8c-73be-4183-a0d5-12c2c2f562f5",
   "metadata": {},
   "outputs": [],
   "source": []
  }
 ],
 "metadata": {
  "kernelspec": {
   "display_name": "Python 3 (ipykernel)",
   "language": "python",
   "name": "python3"
  },
  "language_info": {
   "codemirror_mode": {
    "name": "ipython",
    "version": 3
   },
   "file_extension": ".py",
   "mimetype": "text/x-python",
   "name": "python",
   "nbconvert_exporter": "python",
   "pygments_lexer": "ipython3",
   "version": "3.12.7"
  }
 },
 "nbformat": 4,
 "nbformat_minor": 5
}
