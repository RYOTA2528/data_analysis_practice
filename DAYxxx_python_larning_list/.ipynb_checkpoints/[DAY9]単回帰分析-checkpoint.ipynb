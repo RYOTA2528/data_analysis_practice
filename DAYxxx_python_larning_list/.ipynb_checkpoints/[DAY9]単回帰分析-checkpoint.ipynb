{
 "cells": [
  {
   "cell_type": "code",
   "execution_count": 1,
   "id": "4f8babce-e456-4f63-9f37-8ca0929602ae",
   "metadata": {},
   "outputs": [],
   "source": [
    "# 単回帰分析の学習\n",
    "import numpy as np"
   ]
  },
  {
   "cell_type": "code",
   "execution_count": 3,
   "id": "dc8a551b-1603-4c71-b7ca-b8a28e3242a3",
   "metadata": {},
   "outputs": [],
   "source": [
    "# ベクトルの定義\n",
    "x = np.array([1,2,3])\n",
    "y = np.array([2,3.9,6.1])"
   ]
  },
  {
   "cell_type": "code",
   "execution_count": 5,
   "id": "c35a236b-0d19-4b92-8cb7-1bc265debbb3",
   "metadata": {},
   "outputs": [
    {
     "data": {
      "text/plain": [
       "array([2. , 3.9, 6.1])"
      ]
     },
     "execution_count": 5,
     "metadata": {},
     "output_type": "execute_result"
    }
   ],
   "source": [
    "y"
   ]
  },
  {
   "cell_type": "code",
   "execution_count": 19,
   "id": "54c5dbf5-2ab4-4e50-8f1d-ac5b4798e71f",
   "metadata": {},
   "outputs": [
    {
     "data": {
      "text/plain": [
       "array([-2. , -0.1,  2.1])"
      ]
     },
     "execution_count": 19,
     "metadata": {},
     "output_type": "execute_result"
    }
   ],
   "source": [
    "# ステップ1:データの中心化を行う\n",
    "x.mean()\n",
    "y.mean()\n",
    "\n",
    "# 中心化\n",
    "xc = x - x.mean()\n",
    "xc\n",
    "yc = y-y.mean()\n",
    "yc"
   ]
  },
  {
   "cell_type": "code",
   "execution_count": 7,
   "id": "09163196-36ee-4628-8e1c-ea1a45cd565d",
   "metadata": {},
   "outputs": [],
   "source": []
  }
 ],
 "metadata": {
  "kernelspec": {
   "display_name": "Python 3 (ipykernel)",
   "language": "python",
   "name": "python3"
  },
  "language_info": {
   "codemirror_mode": {
    "name": "ipython",
    "version": 3
   },
   "file_extension": ".py",
   "mimetype": "text/x-python",
   "name": "python",
   "nbconvert_exporter": "python",
   "pygments_lexer": "ipython3",
   "version": "3.12.7"
  }
 },
 "nbformat": 4,
 "nbformat_minor": 5
}
