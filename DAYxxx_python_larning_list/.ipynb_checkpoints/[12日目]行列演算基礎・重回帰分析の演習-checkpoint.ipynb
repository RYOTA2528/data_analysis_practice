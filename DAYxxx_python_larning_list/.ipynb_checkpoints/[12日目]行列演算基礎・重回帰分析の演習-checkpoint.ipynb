{
 "cells": [
  {
   "cell_type": "markdown",
   "id": "f031afe3-caf2-4836-8329-10bc5a946e5d",
   "metadata": {},
   "source": [
    "行列演算の基礎\n",
    "$$\n",
    "w=(X^TX)^{-1}X^Ty\n",
    "$$"
   ]
  },
  {
   "cell_type": "markdown",
   "id": "6672a00e-ba4b-4887-92bc-dfc43fa70e63",
   "metadata": {},
   "source": [
    "上記を実現するためには\n",
    " - ベクトルの定義\n",
    " - 行列の定義\n",
    " - 転置\n",
    " - 逆行列\n",
    " - 行列積"
   ]
  },
  {
   "cell_type": "code",
   "execution_count": 23,
   "id": "bc5e11c6-5f80-46a4-88d4-e2a6cdafafd3",
   "metadata": {},
   "outputs": [],
   "source": [
    "import numpy as np"
   ]
  },
  {
   "cell_type": "code",
   "execution_count": 27,
   "id": "5566e324-9f20-4ad1-9422-e09adc667d23",
   "metadata": {},
   "outputs": [
    {
     "name": "stdout",
     "output_type": "stream",
     "text": [
      "[[1]\n",
      " [2]\n",
      " [3]]\n"
     ]
    }
   ],
   "source": [
    "#ベクトルの定義\n",
    "x = np.array([[1],[2],[3]])\n",
    "print(x)"
   ]
  },
  {
   "cell_type": "code",
   "execution_count": 37,
   "id": "62ec677c-d5d9-4494-8ea2-45933664af7c",
   "metadata": {},
   "outputs": [
    {
     "name": "stdout",
     "output_type": "stream",
     "text": [
      "[[1 2]\n",
      " [3 4]]\n"
     ]
    }
   ],
   "source": [
    "# 行列の定義\n",
    "X = np.array([[1,2],[3,4]])\n",
    "print(X)"
   ]
  },
  {
   "cell_type": "code",
   "execution_count": 39,
   "id": "4b2c043e-c308-45a2-8af4-cf3af05ed425",
   "metadata": {},
   "outputs": [
    {
     "name": "stdout",
     "output_type": "stream",
     "text": [
      "[[1 3]\n",
      " [2 4]]\n"
     ]
    }
   ],
   "source": [
    "# 転置\n",
    "Xt = X.T\n",
    "print(Xt)"
   ]
  },
  {
   "cell_type": "code",
   "execution_count": 43,
   "id": "77a65598-9e75-4423-81d2-0d8edcb7be54",
   "metadata": {},
   "outputs": [
    {
     "name": "stdout",
     "output_type": "stream",
     "text": [
      "[[-2.   1. ]\n",
      " [ 1.5 -0.5]]\n"
     ]
    }
   ],
   "source": [
    "# 逆行列\n",
    "# linear algebra: 線形代数\n",
    "X_inv = np.linalg.inv(X)\n",
    "print(X_inv)"
   ]
  },
  {
   "cell_type": "code",
   "execution_count": 45,
   "id": "bc9cb2f5-876d-40cd-94ce-d300d58aa5c1",
   "metadata": {},
   "outputs": [
    {
     "name": "stdout",
     "output_type": "stream",
     "text": [
      "[[1.00000000e+00 1.11022302e-16]\n",
      " [0.00000000e+00 1.00000000e+00]]\n"
     ]
    }
   ],
   "source": [
    "# 行列積\n",
    "XX_inv = np.dot(X,X_inv)\n",
    "print(XX_inv)"
   ]
  },
  {
   "cell_type": "markdown",
   "id": "257a2802-a4c5-4b31-94c0-24a17c228adf",
   "metadata": {},
   "source": [
    "## よくある間違いについて"
   ]
  },
  {
   "cell_type": "code",
   "execution_count": 50,
   "id": "637cf3e6-9c82-4761-9d39-27cd33ec8df9",
   "metadata": {},
   "outputs": [
    {
     "data": {
      "text/plain": [
       "array([1, 2, 3])"
      ]
     },
     "execution_count": 50,
     "metadata": {},
     "output_type": "execute_result"
    }
   ],
   "source": [
    "# ベクトルは[[]]２重で囲わないと転置ができなくなる\n",
    "x = np.array([1,2,3])\n",
    "x"
   ]
  },
  {
   "cell_type": "code",
   "execution_count": 52,
   "id": "585c3a49-cee7-42d1-95cb-635728e56f4a",
   "metadata": {},
   "outputs": [
    {
     "data": {
      "text/plain": [
       "array([1, 2, 3])"
      ]
     },
     "execution_count": 52,
     "metadata": {},
     "output_type": "execute_result"
    }
   ],
   "source": [
    "x.T #ここで失敗する"
   ]
  },
  {
   "cell_type": "code",
   "execution_count": 58,
   "id": "5633475b-4489-41df-a5fa-5c0d3edb7867",
   "metadata": {},
   "outputs": [
    {
     "data": {
      "text/plain": [
       "array([[1],\n",
       "       [2],\n",
       "       [3]])"
      ]
     },
     "execution_count": 58,
     "metadata": {},
     "output_type": "execute_result"
    }
   ],
   "source": [
    "x = np.array([[1,2,3]])\n",
    "x.T"
   ]
  },
  {
   "cell_type": "markdown",
   "id": "47b7c79c-d762-4e42-b9b4-40b8eb3862be",
   "metadata": {},
   "source": [
    "## Numpyでよく使う処理"
   ]
  },
  {
   "cell_type": "code",
   "execution_count": 61,
   "id": "c957a024-340c-4842-8a0e-2cd016f1e524",
   "metadata": {},
   "outputs": [],
   "source": [
    "# X = np.array([[1,2],[3,4]]) の値をshapeで確認する\n",
    "row,col = X.shape"
   ]
  },
  {
   "cell_type": "code",
   "execution_count": 63,
   "id": "5af44730-9f8c-4fe2-9907-5b59df27b977",
   "metadata": {},
   "outputs": [
    {
     "data": {
      "text/plain": [
       "2"
      ]
     },
     "execution_count": 63,
     "metadata": {},
     "output_type": "execute_result"
    }
   ],
   "source": [
    "row"
   ]
  },
  {
   "cell_type": "code",
   "execution_count": 65,
   "id": "f38db663-8de6-4407-a711-fa1da75e0a3b",
   "metadata": {},
   "outputs": [
    {
     "data": {
      "text/plain": [
       "2"
      ]
     },
     "execution_count": 65,
     "metadata": {},
     "output_type": "execute_result"
    }
   ],
   "source": [
    "col"
   ]
  },
  {
   "cell_type": "code",
   "execution_count": 67,
   "id": "3953d3e9-c1b9-44b4-a837-c3123e7ec8bd",
   "metadata": {},
   "outputs": [],
   "source": [
    "# やや応用\n",
    "X = np.array([\n",
    "    [2,3,4],\n",
    "    [1,2,3]\n",
    "])"
   ]
  },
  {
   "cell_type": "code",
   "execution_count": 69,
   "id": "7ac02391-7ce7-4e17-ae48-1c8c3c93a5ff",
   "metadata": {},
   "outputs": [
    {
     "name": "stdout",
     "output_type": "stream",
     "text": [
      "[[2 3 4]\n",
      " [1 2 3]]\n"
     ]
    }
   ],
   "source": [
    "print(X)"
   ]
  },
  {
   "cell_type": "code",
   "execution_count": 71,
   "id": "74eda48b-0e8a-46ba-8eb4-188644cb5278",
   "metadata": {},
   "outputs": [
    {
     "data": {
      "text/plain": [
       "(2, 3)"
      ]
     },
     "execution_count": 71,
     "metadata": {},
     "output_type": "execute_result"
    }
   ],
   "source": [
    "X.shape"
   ]
  },
  {
   "cell_type": "code",
   "execution_count": 73,
   "id": "e94be6a8-5c8a-4699-a433-bc7b145da893",
   "metadata": {},
   "outputs": [],
   "source": [
    "row,col = X.shape"
   ]
  },
  {
   "cell_type": "code",
   "execution_count": 75,
   "id": "6df60eba-2eff-485c-895a-73d42cdda86f",
   "metadata": {},
   "outputs": [
    {
     "data": {
      "text/plain": [
       "2"
      ]
     },
     "execution_count": 75,
     "metadata": {},
     "output_type": "execute_result"
    }
   ],
   "source": [
    "row"
   ]
  },
  {
   "cell_type": "code",
   "execution_count": 77,
   "id": "ec948853-1136-4f71-82b3-88c0ebd2b889",
   "metadata": {},
   "outputs": [
    {
     "data": {
      "text/plain": [
       "3"
      ]
     },
     "execution_count": 77,
     "metadata": {},
     "output_type": "execute_result"
    }
   ],
   "source": [
    "col"
   ]
  },
  {
   "cell_type": "code",
   "execution_count": 79,
   "id": "72eed7f2-0b8c-4921-abba-ff776ee4a45c",
   "metadata": {},
   "outputs": [],
   "source": [
    "# 上記のように複数の代入も可能"
   ]
  },
  {
   "cell_type": "code",
   "execution_count": 81,
   "id": "84e5c01b-f6e6-4d54-8726-27755dcbee8d",
   "metadata": {},
   "outputs": [
    {
     "name": "stdout",
     "output_type": "stream",
     "text": [
      "[2 3 4]\n",
      "--\n",
      "[1 2 3]\n",
      "--\n"
     ]
    }
   ],
   "source": [
    "# 上記の処理を繰り返し使うためにfor文を使う\n",
    "for x in X:\n",
    "    print(x)\n",
    "    print('--')"
   ]
  },
  {
   "cell_type": "markdown",
   "id": "966a4e4d-ff01-4f4f-9cb7-c72b30e99f17",
   "metadata": {},
   "source": [
    "## 演習問題(重回帰分析)"
   ]
  },
  {
   "cell_type": "markdown",
   "id": "d0070fd7-a0e1-4831-96c6-c6d91abd1022",
   "metadata": {},
   "source": [
    "\n",
    "$$\n",
    "X = \\begin{bmatrix}\n",
    "1 & 2 & 3 \\\\\n",
    "1 & 2 & 5 \\\\\n",
    "1 & 3 & 4 \\\\\n",
    "1 & 5 & 9\n",
    "\\end{bmatrix}\n",
    ",\n",
    "y = \\begin{bmatrix}\n",
    "1 \\\\\n",
    "5 \\\\\n",
    "6 \\\\\n",
    "8 \\\\\n",
    "\\end{bmatrix}\n",
    "のとき\n",
    "$$\n",
    "$$\n",
    "w = (X^TX)^{-1}X^Ty\n",
    "$$\n",
    "\n",
    "- Step1:$X^TX$\n",
    "- Step2:$(X^TX)^{-1}$\n",
    "- Step3:$X^Ty$\n",
    "- Step4:$w = (X^TX)^{-1}X^Ty$"
   ]
  },
  {
   "cell_type": "code",
   "execution_count": 103,
   "id": "1cf41fdb-25cc-4b74-924b-0a8acb50812a",
   "metadata": {},
   "outputs": [
    {
     "name": "stdout",
     "output_type": "stream",
     "text": [
      "[[1 2 3]\n",
      " [1 2 5]\n",
      " [1 3 4]\n",
      " [1 5 9]]\n"
     ]
    }
   ],
   "source": [
    "# Xの定義\n",
    "X = np.array([\n",
    "    [1,2,3],\n",
    "    [1,2,5],\n",
    "    [1,3,4],\n",
    "    [1,5,9]\n",
    "])\n",
    "print(X)"
   ]
  },
  {
   "cell_type": "code",
   "execution_count": 105,
   "id": "c677e068-0223-453d-b273-1c33d1b05975",
   "metadata": {},
   "outputs": [
    {
     "name": "stdout",
     "output_type": "stream",
     "text": [
      "[[1]\n",
      " [5]\n",
      " [6]\n",
      " [8]]\n"
     ]
    }
   ],
   "source": [
    "# yの定義\n",
    "y = np.array([\n",
    "    [1],\n",
    "    [5],\n",
    "    [6],\n",
    "    [8]\n",
    "])\n",
    "\n",
    "print(y)"
   ]
  },
  {
   "cell_type": "code",
   "execution_count": 109,
   "id": "f303d9a0-68c1-4286-9025-a24f2f3959e4",
   "metadata": {},
   "outputs": [
    {
     "name": "stdout",
     "output_type": "stream",
     "text": [
      "[[  4  12  21]\n",
      " [ 12  42  73]\n",
      " [ 21  73 131]]\n"
     ]
    }
   ],
   "source": [
    "# Step1:転置する\n",
    "XtX = np.dot(X.T,X)\n",
    "print(XtX)"
   ]
  },
  {
   "cell_type": "code",
   "execution_count": 113,
   "id": "f1a8c95f-7909-4497-8d18-15546aa8b8b5",
   "metadata": {},
   "outputs": [
    {
     "name": "stdout",
     "output_type": "stream",
     "text": [
      "[[ 1.76530612 -0.39795918 -0.06122449]\n",
      " [-0.39795918  0.84693878 -0.40816327]\n",
      " [-0.06122449 -0.40816327  0.24489796]]\n"
     ]
    }
   ],
   "source": [
    "# Step2 逆行列\n",
    "XtX_inv = np.linalg.inv(XtX)\n",
    "print(XtX_inv)"
   ]
  },
  {
   "cell_type": "code",
   "execution_count": 115,
   "id": "9d87e942-182a-4e47-a484-b06600a737b9",
   "metadata": {},
   "outputs": [
    {
     "name": "stdout",
     "output_type": "stream",
     "text": [
      "[[ 20]\n",
      " [ 70]\n",
      " [124]]\n"
     ]
    }
   ],
   "source": [
    "# Step3 X(転置)とyの掛け算\n",
    "Xty = np.dot(X.T,y)\n",
    "print(Xty)"
   ]
  },
  {
   "cell_type": "code",
   "execution_count": 123,
   "id": "e564624a-45ec-420f-b252-b5d7d9a4d35c",
   "metadata": {},
   "outputs": [
    {
     "name": "stdout",
     "output_type": "stream",
     "text": [
      "[[-0.14285714]\n",
      " [ 0.71428571]\n",
      " [ 0.57142857]]\n"
     ]
    }
   ],
   "source": [
    "# Step4 Step2とStep3の掛け算\n",
    "w = np.dot(XtX_inv,Xty)\n",
    "print(w)"
   ]
  },
  {
   "cell_type": "code",
   "execution_count": null,
   "id": "20570f47-96eb-495a-8b51-fef78a1e631a",
   "metadata": {},
   "outputs": [],
   "source": []
  }
 ],
 "metadata": {
  "kernelspec": {
   "display_name": "Python 3 (ipykernel)",
   "language": "python",
   "name": "python3"
  },
  "language_info": {
   "codemirror_mode": {
    "name": "ipython",
    "version": 3
   },
   "file_extension": ".py",
   "mimetype": "text/x-python",
   "name": "python",
   "nbconvert_exporter": "python",
   "pygments_lexer": "ipython3",
   "version": "3.12.7"
  }
 },
 "nbformat": 4,
 "nbformat_minor": 5
}
