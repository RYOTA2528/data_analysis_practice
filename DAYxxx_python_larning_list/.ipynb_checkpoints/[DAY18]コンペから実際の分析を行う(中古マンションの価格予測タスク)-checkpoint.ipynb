{
  "cells": [
    {
      "cell_type": "markdown",
      "id": "c3f59731-a3fc-4375-a1f2-0706bd7f857b",
      "metadata": {
        "id": "c3f59731-a3fc-4375-a1f2-0706bd7f857b"
      },
      "source": [
        "# ”Nishika”より「中古マンションの価格予測タスク」コンペにて分析"
      ]
    },
    {
      "cell_type": "code",
      "source": [
        "from google.colab import drive\n",
        "drive.mount('/content/drive')"
      ],
      "metadata": {
        "colab": {
          "base_uri": "https://localhost:8080/"
        },
        "id": "AyOt_MPbwsrj",
        "outputId": "cea43427-023b-4c22-eb17-e3c8a3a81484"
      },
      "id": "AyOt_MPbwsrj",
      "execution_count": 2,
      "outputs": [
        {
          "output_type": "stream",
          "name": "stdout",
          "text": [
            "Drive already mounted at /content/drive; to attempt to forcibly remount, call drive.mount(\"/content/drive\", force_remount=True).\n"
          ]
        }
      ]
    },
    {
      "cell_type": "markdown",
      "id": "77bac540-6d03-41c5-a420-f8b57c540136",
      "metadata": {
        "id": "77bac540-6d03-41c5-a420-f8b57c540136"
      },
      "source": [
        "## 簡易概要\n",
        "- 本コンペティションのテーマは国内の中古マンションの価格推定\n",
        "- 目的変数は、取引価格（総額）について常用対数をとった、「取引価格（総額）_log」\n",
        "- 予測精度の評価はMAE(予測値)\n",
        "$$\n",
        "\\text{MAE} = \\frac{1}{n} \\sum_{i=1}^{n} |y_i - \\hat{y}_i|\n",
        "$$"
      ]
    },
    {
      "cell_type": "code",
      "execution_count": null,
      "id": "e1799758-93d0-4bb3-88e5-2ed505c171d1",
      "metadata": {
        "id": "e1799758-93d0-4bb3-88e5-2ed505c171d1"
      },
      "outputs": [],
      "source": []
    },
    {
      "cell_type": "markdown",
      "source": [
        "## 探索的データ分析の実施"
      ],
      "metadata": {
        "id": "Gycn873sxxva"
      },
      "id": "Gycn873sxxva"
    },
    {
      "cell_type": "code",
      "source": [
        "import glob #ファイルのパターン検索\n",
        "import pandas as pd\n",
        "import numpy as np\n",
        "import matplotlib.pyplot as plt\n",
        "import seaborn as sns"
      ],
      "metadata": {
        "id": "rcIaKLrrx4Uw"
      },
      "id": "rcIaKLrrx4Uw",
      "execution_count": 3,
      "outputs": []
    },
    {
      "cell_type": "code",
      "source": [
        "files = glob.glob(\"/content/drive/MyDrive/データコンペ用/data/train/train/*.csv\") #ファイルの一括読み込み"
      ],
      "metadata": {
        "id": "BYxc4p7cyStQ"
      },
      "id": "BYxc4p7cyStQ",
      "execution_count": 5,
      "outputs": []
    },
    {
      "cell_type": "code",
      "source": [
        "# csvファイルの読み込み\n",
        "data_list = []\n",
        "for file in files:\n",
        "  data_list.append(pd.read_csv(file, index_col=0)) #index_col=0で0列目をインデックス\n"
      ],
      "metadata": {
        "id": "OTrvcvbxznVZ"
      },
      "id": "OTrvcvbxznVZ",
      "execution_count": null,
      "outputs": []
    }
  ],
  "metadata": {
    "kernelspec": {
      "display_name": "Python 3 (ipykernel)",
      "language": "python",
      "name": "python3"
    },
    "language_info": {
      "codemirror_mode": {
        "name": "ipython",
        "version": 3
      },
      "file_extension": ".py",
      "mimetype": "text/x-python",
      "name": "python",
      "nbconvert_exporter": "python",
      "pygments_lexer": "ipython3",
      "version": "3.12.7"
    },
    "colab": {
      "provenance": []
    }
  },
  "nbformat": 4,
  "nbformat_minor": 5
}