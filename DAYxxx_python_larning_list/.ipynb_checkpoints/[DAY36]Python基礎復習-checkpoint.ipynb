{
 "cells": [
  {
   "cell_type": "code",
   "execution_count": 31,
   "id": "f74331d7-2b62-4f4b-9497-3326eeb4f893",
   "metadata": {},
   "outputs": [
    {
     "name": "stdout",
     "output_type": "stream",
     "text": [
      "2024-01-01 00:00:00\n",
      "2024-12-17 21:01:36.963153\n"
     ]
    }
   ],
   "source": [
    "# [1]Pythonでdatetime型への変換方法\n",
    "from datetime import datetime\n",
    "a = 1\n",
    "b = '2024/01/01'\n",
    "\n",
    "# bを日付型に変換\n",
    "date_fix = datetime.strptime(b, '%Y/%m/%d')\n",
    "print(date_fix)\n",
    "\n",
    "now = datetime.now()\n",
    "print(now)"
   ]
  },
  {
   "cell_type": "code",
   "execution_count": 35,
   "id": "9876c7a6-d074-4475-9f39-1ebfb59d8467",
   "metadata": {},
   "outputs": [
    {
     "data": {
      "text/plain": [
       "20"
      ]
     },
     "execution_count": 35,
     "metadata": {},
     "output_type": "execute_result"
    }
   ],
   "source": [
    "# [2] Pythonにおける型変換\n",
    "type(int(\"10\"))  #型変換したい型で囲うだけ\n",
    "10 + int(\"10\")"
   ]
  },
  {
   "cell_type": "code",
   "execution_count": 81,
   "id": "9de4b854-e674-4bfa-baab-814ec10d7cdb",
   "metadata": {},
   "outputs": [
    {
     "data": {
      "text/plain": [
       "[5, 'Insert', 3, 3]"
      ]
     },
     "execution_count": 81,
     "metadata": {},
     "output_type": "execute_result"
    }
   ],
   "source": [
    "# [3] list型の復習\n",
    "a = [1,2,3,\"Hello\"]\n",
    "a[0]  #1が戻り値\n",
    "a[-1] #3が戻り値\n",
    "a[0:2] #1から2まで取得\n",
    "a[0:] #1から全要素\n",
    "a[2:] #index2(3)から最後まで\n",
    "a[-2:] #2から後ろの要素すべて\n",
    "a[:2] #index0からindex1の要素まで\n",
    "# a[0] = \"代入\"\n",
    "a[0:2] = [5,6] #[5,6,'Hello']\n",
    "# a\n",
    "a.append(3) #最後尾に3をs追加\n",
    "a\n",
    "a.insert(2,'Insert') #index2にInsertを入れる\n",
    "a\n",
    "del a[1] #index1の要素(6)を削除\n",
    "a\n",
    "a.remove(\"Hello\") #Helloをけします\n",
    "a\n"
   ]
  },
  {
   "cell_type": "code",
   "execution_count": null,
   "id": "978c66bf-497f-4f1e-af64-b8d5c709d7ee",
   "metadata": {},
   "outputs": [],
   "source": []
  }
 ],
 "metadata": {
  "kernelspec": {
   "display_name": "Python 3 (ipykernel)",
   "language": "python",
   "name": "python3"
  },
  "language_info": {
   "codemirror_mode": {
    "name": "ipython",
    "version": 3
   },
   "file_extension": ".py",
   "mimetype": "text/x-python",
   "name": "python",
   "nbconvert_exporter": "python",
   "pygments_lexer": "ipython3",
   "version": "3.12.7"
  }
 },
 "nbformat": 4,
 "nbformat_minor": 5
}
